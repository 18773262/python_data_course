{
 "cells": [
  {
   "cell_type": "markdown",
   "metadata": {},
   "source": [
    "# 因子排序策略实现\n",
    "\n",
    "https://www.pybroker.com/zh-cn/latest/notebooks/7.%20Creating%20a%20Custom%20Data%20Source.html"
   ]
  },
  {
   "cell_type": "markdown",
   "metadata": {},
   "source": []
  },
  {
   "cell_type": "code",
   "execution_count": 1,
   "metadata": {},
   "outputs": [
    {
     "data": {
      "text/plain": [
       "<diskcache.core.Cache at 0x23c64eb16d0>"
      ]
     },
     "execution_count": 1,
     "metadata": {},
     "output_type": "execute_result"
    }
   ],
   "source": [
    "import pybroker\n",
    "from pybroker.ext.data import AKShare\n",
    "from pybroker import ExecContext, StrategyConfig, Strategy\n",
    "from pybroker.data import DataSource\n",
    "import matplotlib.pyplot as plt\n",
    "from datetime import datetime\n",
    "import riskfolio as rp\n",
    "import akshare as ak\n",
    "import pandas as pd\n",
    "import numpy as np\n",
    "import sqlite3\n",
    "import datetime\n",
    "\n",
    "import talib\n",
    "from pybroker.vect import cross\n",
    "\n",
    "#正常显示画图时出现的中文和负号\n",
    "from pylab import mpl\n",
    "\n",
    "mpl.rcParams['font.sans-serif']=['SimHei']\n",
    "mpl.rcParams['axes.unicode_minus']=False\n",
    "\n",
    "akshare = AKShare()\n",
    "\n",
    "pybroker.enable_data_source_cache('akshare')"
   ]
  },
  {
   "cell_type": "markdown",
   "metadata": {},
   "source": [
    "## 本地数据的策略使用"
   ]
  },
  {
   "cell_type": "code",
   "execution_count": 2,
   "metadata": {},
   "outputs": [],
   "source": [
    "conn=sqlite3.connect(r'I:\\量化金融\\stock_2018.db')\n",
    "stock_daily0=pd.read_sql(\"select * from stock_daily where 股票代码>'003000.SZ'\",con=conn)\n",
    "stock_daily0[\"交易日期\"]=pd.to_datetime(stock_daily0[\"交易日期\"].astype(str))"
   ]
  },
  {
   "cell_type": "code",
   "execution_count": 4,
   "metadata": {},
   "outputs": [],
   "source": [
    "#stock_daily0"
   ]
  },
  {
   "cell_type": "code",
   "execution_count": 3,
   "metadata": {},
   "outputs": [
    {
     "data": {
      "text/plain": [
       "Timestamp('2018-01-02 00:00:00')"
      ]
     },
     "execution_count": 3,
     "metadata": {},
     "output_type": "execute_result"
    }
   ],
   "source": [
    "stock_daily0[\"交易日期\"].min()"
   ]
  },
  {
   "cell_type": "code",
   "execution_count": 4,
   "metadata": {},
   "outputs": [
    {
     "data": {
      "text/plain": [
       "Timestamp('2023-02-17 00:00:00')"
      ]
     },
     "execution_count": 4,
     "metadata": {},
     "output_type": "execute_result"
    }
   ],
   "source": [
    "stock_daily0[\"交易日期\"].max()"
   ]
  },
  {
   "cell_type": "code",
   "execution_count": 4,
   "metadata": {},
   "outputs": [],
   "source": [
    "pyb_data_pe=stock_daily0[[\"交易日期\",\"股票代码\",\"开盘价\",\"最高价\",\"最低价\",\"收盘价\",\"成交量(手)\",\"市盈率(静态)\"]]\n",
    "pyb_data_pe.columns=[\"date\",\"symbol\",\"open\",\"high\",\"low\",\"close\",\"volume\",\"pe\"]"
   ]
  },
  {
   "cell_type": "code",
   "execution_count": 5,
   "metadata": {},
   "outputs": [],
   "source": [
    "def trying_strategy_pe(ctx: ExecContext):\n",
    "    high = ctx.high[-11:-1].max()\n",
    "    low = ctx.low[-11:-1].min()\n",
    "    #print(ctx.pe[-1])\n",
    "\n",
    "    if not ctx.long_pos() and ctx.close[-1] > high and ctx.pe[-1] > 150:\n",
    "        ctx.buy_shares = ctx.calc_target_shares(0.5)\n",
    "    \n",
    "    if ctx.long_pos() and ctx.close[-1] < low:\n",
    "        ctx.sell_all_shares()"
   ]
  },
  {
   "cell_type": "code",
   "execution_count": 6,
   "metadata": {},
   "outputs": [
    {
     "name": "stdout",
     "output_type": "stream",
     "text": [
      "Backtesting: 2018-02-22 00:00:00 to 2023-02-10 00:00:00\n",
      "\n",
      "Test split: 2018-02-22 00:00:00 to 2023-02-10 00:00:00\n"
     ]
    },
    {
     "name": "stderr",
     "output_type": "stream",
     "text": [
      "  0% (0 of 1207) |                       | Elapsed Time: 0:00:00 ETA:  --:--:--\n",
      "  2% (31 of 1207) |                      | Elapsed Time: 0:00:00 ETA:   0:00:01\n",
      "  9% (111 of 1207) |#                    | Elapsed Time: 0:00:00 ETA:   0:00:00\n",
      " 19% (231 of 1207) |####                 | Elapsed Time: 0:00:00 ETA:   0:00:00\n",
      " 25% (311 of 1207) |#####                | Elapsed Time: 0:00:00 ETA:   0:00:00\n",
      " 29% (361 of 1207) |######               | Elapsed Time: 0:00:00 ETA:   0:00:00\n",
      " 34% (421 of 1207) |#######              | Elapsed Time: 0:00:00 ETA:   0:00:00\n",
      " 42% (511 of 1207) |########             | Elapsed Time: 0:00:00 ETA:   0:00:00\n",
      " 51% (621 of 1207) |##########           | Elapsed Time: 0:00:00 ETA:   0:00:00\n",
      " 58% (711 of 1207) |############         | Elapsed Time: 0:00:00 ETA:   0:00:00\n",
      " 68% (831 of 1207) |##############       | Elapsed Time: 0:00:00 ETA:   0:00:00\n",
      " 73% (891 of 1207) |###############      | Elapsed Time: 0:00:00 ETA:   0:00:00\n",
      " 77% (941 of 1207) |################     | Elapsed Time: 0:00:00 ETA:   0:00:00\n",
      " 86% (1041 of 1207) |#################   | Elapsed Time: 0:00:00 ETA:   0:00:00\n",
      " 91% (1101 of 1207) |##################  | Elapsed Time: 0:00:00 ETA:   0:00:00\n",
      " 99% (1201 of 1207) |################### | Elapsed Time: 0:00:00 ETA:   0:00:00\n",
      "100% (1207 of 1207) |####################| Elapsed Time: 0:00:00 Time:  0:00:00\n"
     ]
    },
    {
     "name": "stdout",
     "output_type": "stream",
     "text": [
      "\n",
      "Finished backtest: 0:00:05\n"
     ]
    }
   ],
   "source": [
    "pybroker.register_columns('pe')\n",
    "strategy = Strategy(pyb_data_pe, '2018-02-22', '2023-02-10')\n",
    "strategy.add_execution(trying_strategy_pe, pyb_data_pe.symbol.unique()[100:120])\n",
    "result = strategy.backtest(warmup=15)"
   ]
  },
  {
   "cell_type": "code",
   "execution_count": 7,
   "metadata": {},
   "outputs": [
    {
     "data": {
      "text/html": [
       "<div>\n",
       "<style scoped>\n",
       "    .dataframe tbody tr th:only-of-type {\n",
       "        vertical-align: middle;\n",
       "    }\n",
       "\n",
       "    .dataframe tbody tr th {\n",
       "        vertical-align: top;\n",
       "    }\n",
       "\n",
       "    .dataframe thead th {\n",
       "        text-align: right;\n",
       "    }\n",
       "</style>\n",
       "<table border=\"1\" class=\"dataframe\">\n",
       "  <thead>\n",
       "    <tr style=\"text-align: right;\">\n",
       "      <th></th>\n",
       "      <th>name</th>\n",
       "      <th>value</th>\n",
       "    </tr>\n",
       "  </thead>\n",
       "  <tbody>\n",
       "    <tr>\n",
       "      <th>0</th>\n",
       "      <td>trade_count</td>\n",
       "      <td>42.00</td>\n",
       "    </tr>\n",
       "    <tr>\n",
       "      <th>1</th>\n",
       "      <td>initial_market_value</td>\n",
       "      <td>100000.00</td>\n",
       "    </tr>\n",
       "    <tr>\n",
       "      <th>2</th>\n",
       "      <td>end_market_value</td>\n",
       "      <td>128756.01</td>\n",
       "    </tr>\n",
       "    <tr>\n",
       "      <th>3</th>\n",
       "      <td>total_pnl</td>\n",
       "      <td>19031.60</td>\n",
       "    </tr>\n",
       "    <tr>\n",
       "      <th>4</th>\n",
       "      <td>unrealized_pnl</td>\n",
       "      <td>9724.41</td>\n",
       "    </tr>\n",
       "  </tbody>\n",
       "</table>\n",
       "</div>"
      ],
      "text/plain": [
       "                   name      value\n",
       "0           trade_count      42.00\n",
       "1  initial_market_value  100000.00\n",
       "2      end_market_value  128756.01\n",
       "3             total_pnl   19031.60\n",
       "4        unrealized_pnl    9724.41"
      ]
     },
     "execution_count": 7,
     "metadata": {},
     "output_type": "execute_result"
    }
   ],
   "source": [
    "result.metrics_df.head()"
   ]
  },
  {
   "cell_type": "code",
   "execution_count": 8,
   "metadata": {},
   "outputs": [
    {
     "data": {
      "text/plain": [
       "<Axes: xlabel='date'>"
      ]
     },
     "execution_count": 8,
     "metadata": {},
     "output_type": "execute_result"
    },
    {
     "data": {
      "image/png": "[encoded data removed]",
      "text/plain": [
       "<Figure size 640x480 with 1 Axes>"
      ]
     },
     "metadata": {},
     "output_type": "display_data"
    }
   ],
   "source": [
    "result.portfolio.equity.plot()"
   ]
  },
  {
   "cell_type": "markdown",
   "metadata": {},
   "source": [
    "## 用沪深300作为对比基准\n",
    "\n",
    "* ak.index_zh_a_hist 获取沪深300的指数历史数据的方法并作图"
   ]
  },
  {
   "cell_type": "code",
   "execution_count": 9,
   "metadata": {},
   "outputs": [
    {
     "data": {
      "application/vnd.jupyter.widget-view+json": {
       "model_id": "f6c12c194414463ebffb998515b68edd",
       "version_major": 2,
       "version_minor": 0
      },
      "text/plain": [
       "  0%|          | 0/16 [00:00<?, ?it/s]"
      ]
     },
     "metadata": {},
     "output_type": "display_data"
    },
    {
     "name": "stdout",
     "output_type": "stream",
     "text": [
      "                 开盘       收盘       最高       最低        成交量           成交额    振幅  \\\n",
      "日期                                                                              \n",
      "2018-02-22  4020.97  4052.73  4058.79  4009.92  105811571  1.383344e+11  1.23   \n",
      "2018-02-23  4061.75  4071.09  4085.20  4035.23   99458747  1.281958e+11  1.23   \n",
      "2018-02-26  4093.40  4118.42  4128.74  4048.98  137881001  1.790131e+11  1.96   \n",
      "2018-02-27  4120.87  4058.98  4120.87  4051.81  125934469  1.696849e+11  1.68   \n",
      "2018-02-28  4016.79  4023.64  4051.71  3991.71  109343593  1.524939e+11  1.48   \n",
      "...             ...      ...      ...      ...        ...           ...   ...   \n",
      "2023-02-06  4103.83  4086.88  4105.94  4065.22  110192717  2.263451e+11  0.98   \n",
      "2023-02-07  4098.31  4094.23  4107.34  4077.96   91360072  1.835374e+11  0.72   \n",
      "2023-02-08  4099.86  4076.14  4111.47  4072.65   84786099  1.705918e+11  0.95   \n",
      "2023-02-09  4067.56  4130.86  4130.86  4064.75  102289961  2.117226e+11  1.62   \n",
      "2023-02-10  4124.10  4106.31  4125.29  4092.35   96716733  1.953483e+11  0.80   \n",
      "\n",
      "             涨跌幅    涨跌额   换手率  \n",
      "日期                             \n",
      "2018-02-22  2.16  85.77  0.32  \n",
      "2018-02-23  0.45  18.36  0.30  \n",
      "2018-02-26  1.16  47.33  0.42  \n",
      "2018-02-27 -1.44 -59.44  0.39  \n",
      "2018-02-28 -0.87 -35.34  0.33  \n",
      "...          ...    ...   ...  \n",
      "2023-02-06 -1.32 -54.75  0.34  \n",
      "2023-02-07  0.18   7.35  0.28  \n",
      "2023-02-08 -0.44 -18.09  0.26  \n",
      "2023-02-09  1.34  54.72  0.31  \n",
      "2023-02-10 -0.59 -24.55  0.30  \n",
      "\n",
      "[1207 rows x 10 columns]\n"
     ]
    }
   ],
   "source": [
    "index_zh_a_hist_df = ak.index_zh_a_hist(symbol=\"000300\", period=\"daily\", start_date=\"20180222\", end_date=\"20230210\")\n",
    "index_zh_a_hist_df[\"日期\"]=pd.to_datetime(index_zh_a_hist_df[\"日期\"])\n",
    "index_zh_a_hist_df.set_index(\"日期\",inplace=True)\n",
    "print(index_zh_a_hist_df)"
   ]
  },
  {
   "cell_type": "code",
   "execution_count": 177,
   "metadata": {},
   "outputs": [
    {
     "data": {
      "text/plain": [
       "DatetimeIndex(['2018-02-22', '2018-02-23', '2018-02-26', '2018-02-27',\n",
       "               '2018-02-28', '2018-03-01', '2018-03-02', '2018-03-05',\n",
       "               '2018-03-06', '2018-03-07',\n",
       "               ...\n",
       "               '2023-01-30', '2023-01-31', '2023-02-01', '2023-02-02',\n",
       "               '2023-02-03', '2023-02-06', '2023-02-07', '2023-02-08',\n",
       "               '2023-02-09', '2023-02-10'],\n",
       "              dtype='datetime64[ns]', name='日期', length=1207, freq=None)"
      ]
     },
     "execution_count": 177,
     "metadata": {},
     "output_type": "execute_result"
    }
   ],
   "source": [
    "index_zh_a_hist_df[\"收盘\"].index"
   ]
  },
  {
   "cell_type": "code",
   "execution_count": 178,
   "metadata": {},
   "outputs": [
    {
     "data": {
      "text/plain": [
       "DatetimeIndex(['2018-02-22', '2018-02-23', '2018-02-26', '2018-02-27',\n",
       "               '2018-02-28', '2018-03-01', '2018-03-02', '2018-03-05',\n",
       "               '2018-03-06', '2018-03-07',\n",
       "               ...\n",
       "               '2023-01-30', '2023-01-31', '2023-02-01', '2023-02-02',\n",
       "               '2023-02-03', '2023-02-06', '2023-02-07', '2023-02-08',\n",
       "               '2023-02-09', '2023-02-10'],\n",
       "              dtype='datetime64[ns]', name='date', length=1207, freq=None)"
      ]
     },
     "execution_count": 178,
     "metadata": {},
     "output_type": "execute_result"
    }
   ],
   "source": [
    "result.portfolio.equity.index"
   ]
  },
  {
   "cell_type": "code",
   "execution_count": 10,
   "metadata": {},
   "outputs": [
    {
     "data": {
      "text/plain": [
       "<Axes: xlabel='date'>"
      ]
     },
     "execution_count": 10,
     "metadata": {},
     "output_type": "execute_result"
    },
    {
     "data": {
      "image/png": "[encoded data removed]",
      "text/plain": [
       "<Figure size 1800x400 with 1 Axes>"
      ]
     },
     "metadata": {},
     "output_type": "display_data"
    }
   ],
   "source": [
    "index_close=index_zh_a_hist_df[\"收盘\"]\n",
    "index_time_scale=index_close/index_close.iloc[0]\n",
    "index_time_scale.plot(figsize=(18,4))\n",
    "cash_value=result.portfolio.equity/100000\n",
    "cash_value.plot()"
   ]
  },
  {
   "cell_type": "markdown",
   "metadata": {},
   "source": [
    "## 基于ctx.score的因子排序策略实现"
   ]
  },
  {
   "cell_type": "code",
   "execution_count": 54,
   "metadata": {},
   "outputs": [
    {
     "data": {
      "text/plain": [
       "Index(['index', '交易日期', '股票代码', '股票简称', '开盘价', '最高价', '最低价', '收盘价', '成交量(手)',\n",
       "       '成交额(千元)', '换手率(%)', '量比', '市盈率(静态)', '市盈率(TTM)', '市盈率(动态)', '市净率',\n",
       "       '市销率', '市销率(TTM)', '股息率(%)', '股息率(TTM)(%)', '总股本(万股)', '流通股本(万股)',\n",
       "       '总市值(万元)', '流通市值(万元)'],\n",
       "      dtype='object')"
      ]
     },
     "execution_count": 54,
     "metadata": {},
     "output_type": "execute_result"
    }
   ],
   "source": [
    "stock_daily0.columns"
   ]
  },
  {
   "cell_type": "code",
   "execution_count": 41,
   "metadata": {},
   "outputs": [],
   "source": [
    "pyb_data_pe=stock_daily0[[\"交易日期\",\"股票代码\",\"开盘价\",\"最高价\",\"最低价\",\"收盘价\",\"成交量(手)\",\"换手率(%)\"]]\n",
    "pyb_data_pe.columns=[\"date\",\"symbol\",\"open\",\"high\",\"low\",\"close\",\"volume\",\"pe\"]"
   ]
  },
  {
   "cell_type": "code",
   "execution_count": 42,
   "metadata": {},
   "outputs": [
    {
     "data": {
      "text/html": [
       "<div>\n",
       "<style scoped>\n",
       "    .dataframe tbody tr th:only-of-type {\n",
       "        vertical-align: middle;\n",
       "    }\n",
       "\n",
       "    .dataframe tbody tr th {\n",
       "        vertical-align: top;\n",
       "    }\n",
       "\n",
       "    .dataframe thead th {\n",
       "        text-align: right;\n",
       "    }\n",
       "</style>\n",
       "<table border=\"1\" class=\"dataframe\">\n",
       "  <thead>\n",
       "    <tr style=\"text-align: right;\">\n",
       "      <th></th>\n",
       "      <th>date</th>\n",
       "      <th>symbol</th>\n",
       "      <th>open</th>\n",
       "      <th>high</th>\n",
       "      <th>low</th>\n",
       "      <th>close</th>\n",
       "      <th>volume</th>\n",
       "      <th>pe</th>\n",
       "    </tr>\n",
       "  </thead>\n",
       "  <tbody>\n",
       "    <tr>\n",
       "      <th>0</th>\n",
       "      <td>2020-10-13</td>\n",
       "      <td>003001.SZ</td>\n",
       "      <td>36.1900</td>\n",
       "      <td>43.4300</td>\n",
       "      <td>36.1900</td>\n",
       "      <td>43.4300</td>\n",
       "      <td>1755.12</td>\n",
       "      <td>0.7225</td>\n",
       "    </tr>\n",
       "    <tr>\n",
       "      <th>1</th>\n",
       "      <td>2020-10-14</td>\n",
       "      <td>003001.SZ</td>\n",
       "      <td>47.7700</td>\n",
       "      <td>47.7700</td>\n",
       "      <td>44.0100</td>\n",
       "      <td>47.7700</td>\n",
       "      <td>109022.37</td>\n",
       "      <td>44.8766</td>\n",
       "    </tr>\n",
       "    <tr>\n",
       "      <th>2</th>\n",
       "      <td>2020-10-15</td>\n",
       "      <td>003001.SZ</td>\n",
       "      <td>46.4400</td>\n",
       "      <td>46.8000</td>\n",
       "      <td>43.0400</td>\n",
       "      <td>43.0900</td>\n",
       "      <td>81268.36</td>\n",
       "      <td>33.4523</td>\n",
       "    </tr>\n",
       "    <tr>\n",
       "      <th>3</th>\n",
       "      <td>2020-10-16</td>\n",
       "      <td>003001.SZ</td>\n",
       "      <td>41.0200</td>\n",
       "      <td>43.8900</td>\n",
       "      <td>40.1100</td>\n",
       "      <td>41.9400</td>\n",
       "      <td>57613.41</td>\n",
       "      <td>23.7152</td>\n",
       "    </tr>\n",
       "    <tr>\n",
       "      <th>4</th>\n",
       "      <td>2020-10-19</td>\n",
       "      <td>003001.SZ</td>\n",
       "      <td>41.1300</td>\n",
       "      <td>41.8000</td>\n",
       "      <td>39.2500</td>\n",
       "      <td>39.4500</td>\n",
       "      <td>47553.71</td>\n",
       "      <td>19.5744</td>\n",
       "    </tr>\n",
       "    <tr>\n",
       "      <th>...</th>\n",
       "      <td>...</td>\n",
       "      <td>...</td>\n",
       "      <td>...</td>\n",
       "      <td>...</td>\n",
       "      <td>...</td>\n",
       "      <td>...</td>\n",
       "      <td>...</td>\n",
       "      <td>...</td>\n",
       "    </tr>\n",
       "    <tr>\n",
       "      <th>1132744</th>\n",
       "      <td>2023-02-13</td>\n",
       "      <td>430047.BJ</td>\n",
       "      <td>6161.7118</td>\n",
       "      <td>6395.8655</td>\n",
       "      <td>6161.7118</td>\n",
       "      <td>6317.8143</td>\n",
       "      <td>9090.62</td>\n",
       "      <td>0.4889</td>\n",
       "    </tr>\n",
       "    <tr>\n",
       "      <th>1132745</th>\n",
       "      <td>2023-02-14</td>\n",
       "      <td>430047.BJ</td>\n",
       "      <td>6330.8228</td>\n",
       "      <td>6365.5122</td>\n",
       "      <td>6287.4610</td>\n",
       "      <td>6365.5122</td>\n",
       "      <td>4324.41</td>\n",
       "      <td>0.2326</td>\n",
       "    </tr>\n",
       "    <tr>\n",
       "      <th>1132746</th>\n",
       "      <td>2023-02-15</td>\n",
       "      <td>430047.BJ</td>\n",
       "      <td>6339.4952</td>\n",
       "      <td>6408.8740</td>\n",
       "      <td>6339.4952</td>\n",
       "      <td>6348.1675</td>\n",
       "      <td>2639.02</td>\n",
       "      <td>0.1419</td>\n",
       "    </tr>\n",
       "    <tr>\n",
       "      <th>1132747</th>\n",
       "      <td>2023-02-16</td>\n",
       "      <td>430047.BJ</td>\n",
       "      <td>6326.4866</td>\n",
       "      <td>6391.5293</td>\n",
       "      <td>6183.3927</td>\n",
       "      <td>6222.4183</td>\n",
       "      <td>4853.73</td>\n",
       "      <td>0.2611</td>\n",
       "    </tr>\n",
       "    <tr>\n",
       "      <th>1132748</th>\n",
       "      <td>2023-02-17</td>\n",
       "      <td>430047.BJ</td>\n",
       "      <td>6179.0565</td>\n",
       "      <td>6239.7630</td>\n",
       "      <td>6122.6862</td>\n",
       "      <td>6135.6947</td>\n",
       "      <td>3275.49</td>\n",
       "      <td>0.1762</td>\n",
       "    </tr>\n",
       "  </tbody>\n",
       "</table>\n",
       "<p>1132749 rows × 8 columns</p>\n",
       "</div>"
      ],
      "text/plain": [
       "              date     symbol       open       high        low      close  \\\n",
       "0       2020-10-13  003001.SZ    36.1900    43.4300    36.1900    43.4300   \n",
       "1       2020-10-14  003001.SZ    47.7700    47.7700    44.0100    47.7700   \n",
       "2       2020-10-15  003001.SZ    46.4400    46.8000    43.0400    43.0900   \n",
       "3       2020-10-16  003001.SZ    41.0200    43.8900    40.1100    41.9400   \n",
       "4       2020-10-19  003001.SZ    41.1300    41.8000    39.2500    39.4500   \n",
       "...            ...        ...        ...        ...        ...        ...   \n",
       "1132744 2023-02-13  430047.BJ  6161.7118  6395.8655  6161.7118  6317.8143   \n",
       "1132745 2023-02-14  430047.BJ  6330.8228  6365.5122  6287.4610  6365.5122   \n",
       "1132746 2023-02-15  430047.BJ  6339.4952  6408.8740  6339.4952  6348.1675   \n",
       "1132747 2023-02-16  430047.BJ  6326.4866  6391.5293  6183.3927  6222.4183   \n",
       "1132748 2023-02-17  430047.BJ  6179.0565  6239.7630  6122.6862  6135.6947   \n",
       "\n",
       "            volume       pe  \n",
       "0          1755.12   0.7225  \n",
       "1        109022.37  44.8766  \n",
       "2         81268.36  33.4523  \n",
       "3         57613.41  23.7152  \n",
       "4         47553.71  19.5744  \n",
       "...            ...      ...  \n",
       "1132744    9090.62   0.4889  \n",
       "1132745    4324.41   0.2326  \n",
       "1132746    2639.02   0.1419  \n",
       "1132747    4853.73   0.2611  \n",
       "1132748    3275.49   0.1762  \n",
       "\n",
       "[1132749 rows x 8 columns]"
      ]
     },
     "execution_count": 42,
     "metadata": {},
     "output_type": "execute_result"
    }
   ],
   "source": [
    "pyb_data_pe"
   ]
  },
  {
   "cell_type": "code",
   "execution_count": 43,
   "metadata": {},
   "outputs": [],
   "source": [
    "def buy_highest_volume(ctx):\n",
    "    # If there are no long positions across all tickers being traded:\n",
    "    if not tuple(ctx.long_positions()):\n",
    "        ctx.buy_shares = ctx.calc_target_shares(0.1)\n",
    "        ctx.hold_bars = 10\n",
    "        ctx.score = -ctx.pe[-1]"
   ]
  },
  {
   "cell_type": "code",
   "execution_count": 44,
   "metadata": {},
   "outputs": [
    {
     "name": "stdout",
     "output_type": "stream",
     "text": [
      "Backtesting: 2018-01-01 00:00:00 to 2023-02-10 00:00:00\n",
      "\n",
      "Test split: 2018-01-02 00:00:00 to 2023-02-10 00:00:00\n"
     ]
    },
    {
     "name": "stderr",
     "output_type": "stream",
     "text": [
      "  0% (0 of 1239) |                       | Elapsed Time: 0:00:00 ETA:  --:--:--\n",
      "  0% (1 of 1239) |                       | Elapsed Time: 0:00:01 ETA:   0:24:03\n",
      "  0% (11 of 1239) |                      | Elapsed Time: 0:00:02 ETA:   0:03:48\n",
      "  1% (21 of 1239) |                      | Elapsed Time: 0:00:02 ETA:   0:02:08\n",
      "  2% (31 of 1239) |                      | Elapsed Time: 0:00:02 ETA:   0:01:33\n",
      "  3% (41 of 1239) |                      | Elapsed Time: 0:00:02 ETA:   0:01:11\n",
      "  4% (51 of 1239) |                      | Elapsed Time: 0:00:02 ETA:   0:01:00\n",
      "  4% (61 of 1239) |#                     | Elapsed Time: 0:00:02 ETA:   0:00:53\n",
      "  5% (71 of 1239) |#                     | Elapsed Time: 0:00:02 ETA:   0:00:46\n",
      "  6% (81 of 1239) |#                     | Elapsed Time: 0:00:02 ETA:   0:00:42\n",
      "  7% (91 of 1239) |#                     | Elapsed Time: 0:00:03 ETA:   0:00:39\n",
      "  8% (101 of 1239) |#                    | Elapsed Time: 0:00:03 ETA:   0:00:36\n",
      "  8% (111 of 1239) |#                    | Elapsed Time: 0:00:03 ETA:   0:00:34\n",
      "  9% (121 of 1239) |##                   | Elapsed Time: 0:00:03 ETA:   0:00:32\n",
      " 10% (131 of 1239) |##                   | Elapsed Time: 0:00:03 ETA:   0:00:31\n",
      " 12% (151 of 1239) |##                   | Elapsed Time: 0:00:03 ETA:   0:00:27\n",
      " 12% (161 of 1239) |##                   | Elapsed Time: 0:00:03 ETA:   0:00:26\n",
      " 13% (171 of 1239) |##                   | Elapsed Time: 0:00:04 ETA:   0:00:25\n",
      " 14% (181 of 1239) |###                  | Elapsed Time: 0:00:04 ETA:   0:00:24\n",
      " 15% (191 of 1239) |###                  | Elapsed Time: 0:00:04 ETA:   0:00:24\n",
      " 16% (201 of 1239) |###                  | Elapsed Time: 0:00:04 ETA:   0:00:23\n",
      " 17% (211 of 1239) |###                  | Elapsed Time: 0:00:04 ETA:   0:00:22\n",
      " 17% (221 of 1239) |###                  | Elapsed Time: 0:00:04 ETA:   0:00:21\n",
      " 19% (241 of 1239) |####                 | Elapsed Time: 0:00:04 ETA:   0:00:20\n",
      " 20% (251 of 1239) |####                 | Elapsed Time: 0:00:05 ETA:   0:00:20\n",
      " 21% (261 of 1239) |####                 | Elapsed Time: 0:00:05 ETA:   0:00:19\n",
      " 21% (271 of 1239) |####                 | Elapsed Time: 0:00:05 ETA:   0:00:18\n",
      " 22% (281 of 1239) |####                 | Elapsed Time: 0:00:05 ETA:   0:00:18\n",
      " 23% (291 of 1239) |####                 | Elapsed Time: 0:00:05 ETA:   0:00:18\n",
      " 24% (301 of 1239) |#####                | Elapsed Time: 0:00:05 ETA:   0:00:17\n",
      " 25% (321 of 1239) |#####                | Elapsed Time: 0:00:05 ETA:   0:00:17\n",
      " 26% (331 of 1239) |#####                | Elapsed Time: 0:00:06 ETA:   0:00:16\n",
      " 27% (341 of 1239) |#####                | Elapsed Time: 0:00:06 ETA:   0:00:16\n",
      " 28% (351 of 1239) |#####                | Elapsed Time: 0:00:06 ETA:   0:00:16\n",
      " 29% (361 of 1239) |######               | Elapsed Time: 0:00:06 ETA:   0:00:15\n",
      " 29% (371 of 1239) |######               | Elapsed Time: 0:00:06 ETA:   0:00:15\n",
      " 30% (381 of 1239) |######               | Elapsed Time: 0:00:06 ETA:   0:00:15\n",
      " 31% (391 of 1239) |######               | Elapsed Time: 0:00:06 ETA:   0:00:14\n",
      " 32% (401 of 1239) |######               | Elapsed Time: 0:00:06 ETA:   0:00:14\n",
      " 33% (411 of 1239) |######               | Elapsed Time: 0:00:07 ETA:   0:00:14\n",
      " 33% (421 of 1239) |#######              | Elapsed Time: 0:00:07 ETA:   0:00:14\n",
      " 34% (431 of 1239) |#######              | Elapsed Time: 0:00:07 ETA:   0:00:13\n",
      " 35% (441 of 1239) |#######              | Elapsed Time: 0:00:07 ETA:   0:00:13\n",
      " 36% (451 of 1239) |#######              | Elapsed Time: 0:00:07 ETA:   0:00:13\n",
      " 37% (461 of 1239) |#######              | Elapsed Time: 0:00:07 ETA:   0:00:13\n",
      " 38% (471 of 1239) |#######              | Elapsed Time: 0:00:07 ETA:   0:00:12\n",
      " 38% (481 of 1239) |########             | Elapsed Time: 0:00:08 ETA:   0:00:12\n",
      " 39% (491 of 1239) |########             | Elapsed Time: 0:00:08 ETA:   0:00:12\n",
      " 40% (501 of 1239) |########             | Elapsed Time: 0:00:08 ETA:   0:00:12\n",
      " 41% (511 of 1239) |########             | Elapsed Time: 0:00:08 ETA:   0:00:12\n",
      " 42% (521 of 1239) |########             | Elapsed Time: 0:00:08 ETA:   0:00:11\n",
      " 42% (531 of 1239) |#########            | Elapsed Time: 0:00:08 ETA:   0:00:11\n",
      " 43% (541 of 1239) |#########            | Elapsed Time: 0:00:08 ETA:   0:00:11\n",
      " 44% (551 of 1239) |#########            | Elapsed Time: 0:00:09 ETA:   0:00:11\n",
      " 45% (561 of 1239) |#########            | Elapsed Time: 0:00:09 ETA:   0:00:11\n",
      " 46% (571 of 1239) |#########            | Elapsed Time: 0:00:09 ETA:   0:00:10\n",
      " 46% (581 of 1239) |#########            | Elapsed Time: 0:00:09 ETA:   0:00:10\n",
      " 47% (591 of 1239) |##########           | Elapsed Time: 0:00:09 ETA:   0:00:10\n",
      " 48% (601 of 1239) |##########           | Elapsed Time: 0:00:09 ETA:   0:00:10\n",
      " 49% (611 of 1239) |##########           | Elapsed Time: 0:00:10 ETA:   0:00:10\n",
      " 50% (621 of 1239) |##########           | Elapsed Time: 0:00:10 ETA:   0:00:10\n",
      " 50% (631 of 1239) |##########           | Elapsed Time: 0:00:10 ETA:   0:00:09\n",
      " 51% (641 of 1239) |##########           | Elapsed Time: 0:00:10 ETA:   0:00:09\n",
      " 52% (651 of 1239) |###########          | Elapsed Time: 0:00:10 ETA:   0:00:09\n",
      " 53% (661 of 1239) |###########          | Elapsed Time: 0:00:10 ETA:   0:00:09\n",
      " 54% (671 of 1239) |###########          | Elapsed Time: 0:00:10 ETA:   0:00:09\n",
      " 54% (681 of 1239) |###########          | Elapsed Time: 0:00:11 ETA:   0:00:09\n",
      " 55% (691 of 1239) |###########          | Elapsed Time: 0:00:11 ETA:   0:00:09\n",
      " 56% (701 of 1239) |###########          | Elapsed Time: 0:00:11 ETA:   0:00:08\n",
      " 57% (711 of 1239) |############         | Elapsed Time: 0:00:11 ETA:   0:00:08\n",
      " 58% (721 of 1239) |############         | Elapsed Time: 0:00:11 ETA:   0:00:08\n",
      " 58% (731 of 1239) |############         | Elapsed Time: 0:00:12 ETA:   0:00:08\n",
      " 59% (741 of 1239) |############         | Elapsed Time: 0:00:12 ETA:   0:00:08\n",
      " 60% (751 of 1239) |############         | Elapsed Time: 0:00:12 ETA:   0:00:08\n",
      " 61% (761 of 1239) |############         | Elapsed Time: 0:00:12 ETA:   0:00:07\n",
      " 62% (771 of 1239) |#############        | Elapsed Time: 0:00:12 ETA:   0:00:07\n",
      " 63% (781 of 1239) |#############        | Elapsed Time: 0:00:13 ETA:   0:00:07\n",
      " 63% (791 of 1239) |#############        | Elapsed Time: 0:00:13 ETA:   0:00:07\n",
      " 64% (801 of 1239) |#############        | Elapsed Time: 0:00:13 ETA:   0:00:07\n",
      " 65% (811 of 1239) |#############        | Elapsed Time: 0:00:13 ETA:   0:00:07\n",
      " 66% (821 of 1239) |#############        | Elapsed Time: 0:00:13 ETA:   0:00:07\n",
      " 67% (831 of 1239) |##############       | Elapsed Time: 0:00:14 ETA:   0:00:06\n",
      " 67% (841 of 1239) |##############       | Elapsed Time: 0:00:14 ETA:   0:00:06\n",
      " 68% (851 of 1239) |##############       | Elapsed Time: 0:00:14 ETA:   0:00:06\n",
      " 70% (871 of 1239) |##############       | Elapsed Time: 0:00:14 ETA:   0:00:06\n",
      " 71% (881 of 1239) |##############       | Elapsed Time: 0:00:14 ETA:   0:00:05\n",
      " 71% (891 of 1239) |###############      | Elapsed Time: 0:00:15 ETA:   0:00:05\n",
      " 72% (901 of 1239) |###############      | Elapsed Time: 0:00:15 ETA:   0:00:05\n",
      " 73% (911 of 1239) |###############      | Elapsed Time: 0:00:15 ETA:   0:00:05\n",
      " 74% (921 of 1239) |###############      | Elapsed Time: 0:00:15 ETA:   0:00:05\n",
      " 75% (931 of 1239) |###############      | Elapsed Time: 0:00:16 ETA:   0:00:05\n",
      " 75% (941 of 1239) |###############      | Elapsed Time: 0:00:16 ETA:   0:00:05\n",
      " 76% (951 of 1239) |################     | Elapsed Time: 0:00:16 ETA:   0:00:04\n",
      " 77% (961 of 1239) |################     | Elapsed Time: 0:00:16 ETA:   0:00:04\n",
      " 78% (971 of 1239) |################     | Elapsed Time: 0:00:16 ETA:   0:00:04\n",
      " 79% (981 of 1239) |################     | Elapsed Time: 0:00:17 ETA:   0:00:04\n",
      " 79% (991 of 1239) |################     | Elapsed Time: 0:00:17 ETA:   0:00:04\n",
      " 80% (1001 of 1239) |################    | Elapsed Time: 0:00:17 ETA:   0:00:04\n",
      " 81% (1011 of 1239) |################    | Elapsed Time: 0:00:17 ETA:   0:00:03\n",
      " 82% (1021 of 1239) |################    | Elapsed Time: 0:00:17 ETA:   0:00:03\n",
      " 83% (1031 of 1239) |################    | Elapsed Time: 0:00:17 ETA:   0:00:03\n",
      " 84% (1041 of 1239) |################    | Elapsed Time: 0:00:18 ETA:   0:00:03\n",
      " 84% (1051 of 1239) |################    | Elapsed Time: 0:00:18 ETA:   0:00:03\n",
      " 85% (1061 of 1239) |#################   | Elapsed Time: 0:00:18 ETA:   0:00:03\n",
      " 86% (1071 of 1239) |#################   | Elapsed Time: 0:00:18 ETA:   0:00:02\n",
      " 87% (1081 of 1239) |#################   | Elapsed Time: 0:00:18 ETA:   0:00:02\n",
      " 88% (1091 of 1239) |#################   | Elapsed Time: 0:00:19 ETA:   0:00:02\n",
      " 88% (1101 of 1239) |#################   | Elapsed Time: 0:00:19 ETA:   0:00:02\n",
      " 89% (1111 of 1239) |#################   | Elapsed Time: 0:00:19 ETA:   0:00:02\n",
      " 90% (1121 of 1239) |##################  | Elapsed Time: 0:00:19 ETA:   0:00:02\n",
      " 91% (1131 of 1239) |##################  | Elapsed Time: 0:00:19 ETA:   0:00:01\n",
      " 92% (1141 of 1239) |##################  | Elapsed Time: 0:00:20 ETA:   0:00:01\n",
      " 92% (1151 of 1239) |##################  | Elapsed Time: 0:00:20 ETA:   0:00:01\n",
      " 93% (1161 of 1239) |##################  | Elapsed Time: 0:00:20 ETA:   0:00:01\n",
      " 94% (1171 of 1239) |##################  | Elapsed Time: 0:00:20 ETA:   0:00:01\n",
      " 95% (1181 of 1239) |################### | Elapsed Time: 0:00:21 ETA:   0:00:01\n",
      " 96% (1191 of 1239) |################### | Elapsed Time: 0:00:21 ETA:   0:00:00\n",
      " 96% (1201 of 1239) |################### | Elapsed Time: 0:00:21 ETA:   0:00:00\n",
      " 97% (1211 of 1239) |################### | Elapsed Time: 0:00:21 ETA:   0:00:00\n",
      " 98% (1221 of 1239) |################### | Elapsed Time: 0:00:22 ETA:   0:00:00\n",
      " 99% (1231 of 1239) |################### | Elapsed Time: 0:00:22 ETA:   0:00:00\n",
      "100% (1239 of 1239) |####################| Elapsed Time: 0:00:22 ETA:  00:00:00\n",
      "100% (1239 of 1239) |####################| Elapsed Time: 0:00:22 Time:  0:00:22\n"
     ]
    },
    {
     "name": "stdout",
     "output_type": "stream",
     "text": [
      "\n",
      "Finished backtest: 0:00:24\n"
     ]
    }
   ],
   "source": [
    "pybroker.register_columns('pe')\n",
    "config = StrategyConfig(max_long_positions=10)\n",
    "strategy = Strategy(pyb_data_pe, '2018-01-01', '2023-02-10', config)\n",
    "strategy.add_execution(buy_highest_volume, pyb_data_pe.symbol.unique())\n",
    "result = strategy.backtest()"
   ]
  },
  {
   "cell_type": "code",
   "execution_count": 45,
   "metadata": {},
   "outputs": [
    {
     "data": {
      "text/html": [
       "<div>\n",
       "<style scoped>\n",
       "    .dataframe tbody tr th:only-of-type {\n",
       "        vertical-align: middle;\n",
       "    }\n",
       "\n",
       "    .dataframe tbody tr th {\n",
       "        vertical-align: top;\n",
       "    }\n",
       "\n",
       "    .dataframe thead th {\n",
       "        text-align: right;\n",
       "    }\n",
       "</style>\n",
       "<table border=\"1\" class=\"dataframe\">\n",
       "  <thead>\n",
       "    <tr style=\"text-align: right;\">\n",
       "      <th></th>\n",
       "      <th>name</th>\n",
       "      <th>value</th>\n",
       "    </tr>\n",
       "  </thead>\n",
       "  <tbody>\n",
       "    <tr>\n",
       "      <th>0</th>\n",
       "      <td>trade_count</td>\n",
       "      <td>1019.00</td>\n",
       "    </tr>\n",
       "    <tr>\n",
       "      <th>1</th>\n",
       "      <td>initial_market_value</td>\n",
       "      <td>100000.00</td>\n",
       "    </tr>\n",
       "    <tr>\n",
       "      <th>2</th>\n",
       "      <td>end_market_value</td>\n",
       "      <td>8169187.38</td>\n",
       "    </tr>\n",
       "    <tr>\n",
       "      <th>3</th>\n",
       "      <td>total_pnl</td>\n",
       "      <td>7992617.52</td>\n",
       "    </tr>\n",
       "    <tr>\n",
       "      <th>4</th>\n",
       "      <td>unrealized_pnl</td>\n",
       "      <td>76569.86</td>\n",
       "    </tr>\n",
       "  </tbody>\n",
       "</table>\n",
       "</div>"
      ],
      "text/plain": [
       "                   name       value\n",
       "0           trade_count     1019.00\n",
       "1  initial_market_value   100000.00\n",
       "2      end_market_value  8169187.38\n",
       "3             total_pnl  7992617.52\n",
       "4        unrealized_pnl    76569.86"
      ]
     },
     "execution_count": 45,
     "metadata": {},
     "output_type": "execute_result"
    }
   ],
   "source": [
    "result.metrics_df.head()"
   ]
  },
  {
   "cell_type": "code",
   "execution_count": 11,
   "metadata": {},
   "outputs": [
    {
     "data": {
      "text/plain": [
       "<Axes: xlabel='date'>"
      ]
     },
     "execution_count": 11,
     "metadata": {},
     "output_type": "execute_result"
    },
    {
     "data": {
      "image/png": "[encoded data removed]",
      "text/plain": [
       "<Figure size 1800x400 with 1 Axes>"
      ]
     },
     "metadata": {},
     "output_type": "display_data"
    }
   ],
   "source": [
    "index_close=index_zh_a_hist_df[\"收盘\"]\n",
    "index_time_scale=index_close/index_close.iloc[0]\n",
    "index_time_scale.plot(figsize=(18,4))\n",
    "cash_value=result.portfolio.equity/100000\n",
    "cash_value.plot()"
   ]
  },
  {
   "cell_type": "code",
   "execution_count": 33,
   "metadata": {},
   "outputs": [],
   "source": [
    "#result.trades"
   ]
  },
  {
   "cell_type": "code",
   "execution_count": 40,
   "metadata": {},
   "outputs": [
    {
     "data": {
      "text/html": [
       "<div>\n",
       "<style scoped>\n",
       "    .dataframe tbody tr th:only-of-type {\n",
       "        vertical-align: middle;\n",
       "    }\n",
       "\n",
       "    .dataframe tbody tr th {\n",
       "        vertical-align: top;\n",
       "    }\n",
       "\n",
       "    .dataframe thead th {\n",
       "        text-align: right;\n",
       "    }\n",
       "</style>\n",
       "<table border=\"1\" class=\"dataframe\">\n",
       "  <thead>\n",
       "    <tr style=\"text-align: right;\">\n",
       "      <th></th>\n",
       "      <th>type</th>\n",
       "      <th>symbol</th>\n",
       "      <th>entry_date</th>\n",
       "      <th>exit_date</th>\n",
       "      <th>entry</th>\n",
       "      <th>exit</th>\n",
       "      <th>shares</th>\n",
       "      <th>pnl</th>\n",
       "      <th>return_pct</th>\n",
       "      <th>agg_pnl</th>\n",
       "      <th>bars</th>\n",
       "      <th>pnl_per_bar</th>\n",
       "      <th>stop</th>\n",
       "      <th>mae</th>\n",
       "      <th>mfe</th>\n",
       "    </tr>\n",
       "    <tr>\n",
       "      <th>id</th>\n",
       "      <th></th>\n",
       "      <th></th>\n",
       "      <th></th>\n",
       "      <th></th>\n",
       "      <th></th>\n",
       "      <th></th>\n",
       "      <th></th>\n",
       "      <th></th>\n",
       "      <th></th>\n",
       "      <th></th>\n",
       "      <th></th>\n",
       "      <th></th>\n",
       "      <th></th>\n",
       "      <th></th>\n",
       "      <th></th>\n",
       "    </tr>\n",
       "  </thead>\n",
       "  <tbody>\n",
       "    <tr>\n",
       "      <th>1</th>\n",
       "      <td>long</td>\n",
       "      <td>300063.SZ</td>\n",
       "      <td>2020-04-02</td>\n",
       "      <td>2020-04-17</td>\n",
       "      <td>35.30</td>\n",
       "      <td>42.72</td>\n",
       "      <td>584</td>\n",
       "      <td>4333.28</td>\n",
       "      <td>21.02</td>\n",
       "      <td>4333.28</td>\n",
       "      <td>10</td>\n",
       "      <td>433.33</td>\n",
       "      <td>bar</td>\n",
       "      <td>-2.36</td>\n",
       "      <td>7.54</td>\n",
       "    </tr>\n",
       "    <tr>\n",
       "      <th>2</th>\n",
       "      <td>long</td>\n",
       "      <td>300062.SZ</td>\n",
       "      <td>2020-04-02</td>\n",
       "      <td>2020-04-17</td>\n",
       "      <td>26.74</td>\n",
       "      <td>26.45</td>\n",
       "      <td>743</td>\n",
       "      <td>-215.47</td>\n",
       "      <td>-1.08</td>\n",
       "      <td>4117.81</td>\n",
       "      <td>10</td>\n",
       "      <td>-21.55</td>\n",
       "      <td>bar</td>\n",
       "      <td>-2.00</td>\n",
       "      <td>1.32</td>\n",
       "    </tr>\n",
       "    <tr>\n",
       "      <th>3</th>\n",
       "      <td>long</td>\n",
       "      <td>300073.SZ</td>\n",
       "      <td>2020-04-02</td>\n",
       "      <td>2020-04-17</td>\n",
       "      <td>95.43</td>\n",
       "      <td>102.32</td>\n",
       "      <td>208</td>\n",
       "      <td>1433.12</td>\n",
       "      <td>7.22</td>\n",
       "      <td>5550.93</td>\n",
       "      <td>10</td>\n",
       "      <td>143.31</td>\n",
       "      <td>bar</td>\n",
       "      <td>-2.40</td>\n",
       "      <td>6.98</td>\n",
       "    </tr>\n",
       "    <tr>\n",
       "      <th>4</th>\n",
       "      <td>long</td>\n",
       "      <td>300079.SZ</td>\n",
       "      <td>2020-04-02</td>\n",
       "      <td>2020-04-17</td>\n",
       "      <td>62.78</td>\n",
       "      <td>62.22</td>\n",
       "      <td>324</td>\n",
       "      <td>-181.44</td>\n",
       "      <td>-0.89</td>\n",
       "      <td>5369.49</td>\n",
       "      <td>10</td>\n",
       "      <td>-18.14</td>\n",
       "      <td>bar</td>\n",
       "      <td>-2.19</td>\n",
       "      <td>5.20</td>\n",
       "    </tr>\n",
       "    <tr>\n",
       "      <th>5</th>\n",
       "      <td>long</td>\n",
       "      <td>300072.SZ</td>\n",
       "      <td>2020-04-02</td>\n",
       "      <td>2020-04-17</td>\n",
       "      <td>93.39</td>\n",
       "      <td>95.01</td>\n",
       "      <td>206</td>\n",
       "      <td>333.72</td>\n",
       "      <td>1.73</td>\n",
       "      <td>5703.21</td>\n",
       "      <td>10</td>\n",
       "      <td>33.37</td>\n",
       "      <td>bar</td>\n",
       "      <td>-2.13</td>\n",
       "      <td>6.39</td>\n",
       "    </tr>\n",
       "    <tr>\n",
       "      <th>6</th>\n",
       "      <td>long</td>\n",
       "      <td>300063.SZ</td>\n",
       "      <td>2020-04-20</td>\n",
       "      <td>2020-05-07</td>\n",
       "      <td>41.11</td>\n",
       "      <td>39.66</td>\n",
       "      <td>522</td>\n",
       "      <td>-756.90</td>\n",
       "      <td>-3.53</td>\n",
       "      <td>4946.31</td>\n",
       "      <td>10</td>\n",
       "      <td>-75.69</td>\n",
       "      <td>bar</td>\n",
       "      <td>-2.12</td>\n",
       "      <td>6.68</td>\n",
       "    </tr>\n",
       "    <tr>\n",
       "      <th>7</th>\n",
       "      <td>long</td>\n",
       "      <td>300077.SZ</td>\n",
       "      <td>2020-04-20</td>\n",
       "      <td>2020-05-07</td>\n",
       "      <td>36.02</td>\n",
       "      <td>37.64</td>\n",
       "      <td>595</td>\n",
       "      <td>963.90</td>\n",
       "      <td>4.50</td>\n",
       "      <td>5910.21</td>\n",
       "      <td>10</td>\n",
       "      <td>96.39</td>\n",
       "      <td>bar</td>\n",
       "      <td>-1.26</td>\n",
       "      <td>3.47</td>\n",
       "    </tr>\n",
       "    <tr>\n",
       "      <th>8</th>\n",
       "      <td>long</td>\n",
       "      <td>300071.SZ</td>\n",
       "      <td>2020-04-20</td>\n",
       "      <td>2020-05-07</td>\n",
       "      <td>25.21</td>\n",
       "      <td>25.43</td>\n",
       "      <td>815</td>\n",
       "      <td>179.30</td>\n",
       "      <td>0.87</td>\n",
       "      <td>6089.51</td>\n",
       "      <td>10</td>\n",
       "      <td>17.93</td>\n",
       "      <td>bar</td>\n",
       "      <td>-1.17</td>\n",
       "      <td>1.39</td>\n",
       "    </tr>\n",
       "    <tr>\n",
       "      <th>9</th>\n",
       "      <td>long</td>\n",
       "      <td>300070.SZ</td>\n",
       "      <td>2020-04-20</td>\n",
       "      <td>2020-05-07</td>\n",
       "      <td>182.75</td>\n",
       "      <td>181.84</td>\n",
       "      <td>116</td>\n",
       "      <td>-105.56</td>\n",
       "      <td>-0.50</td>\n",
       "      <td>5983.95</td>\n",
       "      <td>10</td>\n",
       "      <td>-10.56</td>\n",
       "      <td>bar</td>\n",
       "      <td>-14.22</td>\n",
       "      <td>3.64</td>\n",
       "    </tr>\n",
       "    <tr>\n",
       "      <th>10</th>\n",
       "      <td>long</td>\n",
       "      <td>300074.SZ</td>\n",
       "      <td>2020-04-20</td>\n",
       "      <td>2020-05-07</td>\n",
       "      <td>66.13</td>\n",
       "      <td>61.43</td>\n",
       "      <td>318</td>\n",
       "      <td>-1494.60</td>\n",
       "      <td>-7.11</td>\n",
       "      <td>4489.35</td>\n",
       "      <td>10</td>\n",
       "      <td>-149.46</td>\n",
       "      <td>bar</td>\n",
       "      <td>-10.22</td>\n",
       "      <td>1.21</td>\n",
       "    </tr>\n",
       "  </tbody>\n",
       "</table>\n",
       "</div>"
      ],
      "text/plain": [
       "    type     symbol entry_date  exit_date   entry    exit  shares      pnl  \\\n",
       "id                                                                           \n",
       "1   long  300063.SZ 2020-04-02 2020-04-17   35.30   42.72     584  4333.28   \n",
       "2   long  300062.SZ 2020-04-02 2020-04-17   26.74   26.45     743  -215.47   \n",
       "3   long  300073.SZ 2020-04-02 2020-04-17   95.43  102.32     208  1433.12   \n",
       "4   long  300079.SZ 2020-04-02 2020-04-17   62.78   62.22     324  -181.44   \n",
       "5   long  300072.SZ 2020-04-02 2020-04-17   93.39   95.01     206   333.72   \n",
       "6   long  300063.SZ 2020-04-20 2020-05-07   41.11   39.66     522  -756.90   \n",
       "7   long  300077.SZ 2020-04-20 2020-05-07   36.02   37.64     595   963.90   \n",
       "8   long  300071.SZ 2020-04-20 2020-05-07   25.21   25.43     815   179.30   \n",
       "9   long  300070.SZ 2020-04-20 2020-05-07  182.75  181.84     116  -105.56   \n",
       "10  long  300074.SZ 2020-04-20 2020-05-07   66.13   61.43     318 -1494.60   \n",
       "\n",
       "    return_pct  agg_pnl  bars  pnl_per_bar stop    mae   mfe  \n",
       "id                                                            \n",
       "1        21.02  4333.28    10       433.33  bar  -2.36  7.54  \n",
       "2        -1.08  4117.81    10       -21.55  bar  -2.00  1.32  \n",
       "3         7.22  5550.93    10       143.31  bar  -2.40  6.98  \n",
       "4        -0.89  5369.49    10       -18.14  bar  -2.19  5.20  \n",
       "5         1.73  5703.21    10        33.37  bar  -2.13  6.39  \n",
       "6        -3.53  4946.31    10       -75.69  bar  -2.12  6.68  \n",
       "7         4.50  5910.21    10        96.39  bar  -1.26  3.47  \n",
       "8         0.87  6089.51    10        17.93  bar  -1.17  1.39  \n",
       "9        -0.50  5983.95    10       -10.56  bar -14.22  3.64  \n",
       "10       -7.11  4489.35    10      -149.46  bar -10.22  1.21  "
      ]
     },
     "execution_count": 40,
     "metadata": {},
     "output_type": "execute_result"
    }
   ],
   "source": [
    "result.trades"
   ]
  },
  {
   "cell_type": "markdown",
   "metadata": {},
   "source": [
    "### 输出策略中的因子排名"
   ]
  },
  {
   "cell_type": "code",
   "execution_count": 38,
   "metadata": {},
   "outputs": [],
   "source": [
    "def print_rank(ctxs: dict[str, ExecContext]) -> bool:\n",
    "    dt = tuple(ctxs.values())[0].dt\n",
    "    print(dt)\n",
    "    symbols = []\n",
    "    scores = []\n",
    "    for ctx in ctxs.values():\n",
    "        symbols.append(ctx.symbol)\n",
    "        scores.append(ctx.score)\n",
    "    \n",
    "    v_rank = pd.DataFrame({\"symbol\": symbols, \"score\": scores}).sort_values(by=\"score\", ascending=False)\n",
    "    print(v_rank.head(5))\n",
    "\n",
    "    return False"
   ]
  },
  {
   "cell_type": "code",
   "execution_count": 39,
   "metadata": {},
   "outputs": [
    {
     "name": "stdout",
     "output_type": "stream",
     "text": [
      "Backtesting: 2020-04-01 00:00:00 to 2020-05-10 00:00:00\n",
      "\n",
      "Test split: 2020-04-01 00:00:00 to 2020-05-08 00:00:00\n"
     ]
    },
    {
     "name": "stderr",
     "output_type": "stream",
     "text": [
      "  0% (0 of 24) |                         | Elapsed Time: 0:00:00 ETA:  --:--:--\n",
      "  4% (1 of 24) |#                        | Elapsed Time: 0:00:00 ETA:   0:00:01\n"
     ]
    },
    {
     "name": "stdout",
     "output_type": "stream",
     "text": [
      "2020-04-01 00:00:00\n",
      "       symbol      score\n",
      "2   300063.SZ  447895.51\n",
      "1   300062.SZ  312732.10\n",
      "12  300073.SZ  237493.33\n",
      "18  300079.SZ  196063.63\n",
      "11  300072.SZ  171642.58\n",
      "2020-04-02 00:00:00\n",
      "      symbol score\n",
      "0  300061.SZ  None\n",
      "1  300062.SZ  None\n",
      "2  300063.SZ  None\n",
      "3  300064.SZ  None\n",
      "4  300065.SZ  None\n",
      "2020-04-03 00:00:00\n",
      "      symbol score\n",
      "0  300061.SZ  None\n",
      "1  300062.SZ  None\n",
      "2  300063.SZ  None\n",
      "3  300064.SZ  None\n",
      "4  300065.SZ  None\n",
      "2020-04-07 00:00:00\n",
      "      symbol score\n",
      "0  300061.SZ  None\n",
      "1  300062.SZ  None\n",
      "2  300063.SZ  None\n",
      "3  300064.SZ  None\n",
      "4  300065.SZ  None\n",
      "2020-04-08 00:00:00\n",
      "      symbol score\n",
      "0  300061.SZ  None\n",
      "1  300062.SZ  None\n",
      "2  300063.SZ  None\n",
      "3  300064.SZ  None\n",
      "4  300065.SZ  None\n",
      "2020-04-09 00:00:00\n",
      "      symbol score\n",
      "0  300061.SZ  None\n",
      "1  300062.SZ  None\n",
      "2  300063.SZ  None\n",
      "3  300064.SZ  None\n",
      "4  300065.SZ  None\n",
      "2020-04-10 00:00:00\n",
      "      symbol score\n",
      "0  300061.SZ  None\n",
      "1  300062.SZ  None\n",
      "2  300063.SZ  None\n",
      "3  300064.SZ  None\n",
      "4  300065.SZ  None\n",
      "2020-04-13 00:00:00\n",
      "      symbol score\n",
      "0  300061.SZ  None\n",
      "1  300062.SZ  None\n",
      "2  300063.SZ  None\n",
      "3  300064.SZ  None\n",
      "4  300065.SZ  None\n",
      "2020-04-14 00:00:00\n",
      "      symbol score\n",
      "0  300061.SZ  None\n",
      "1  300062.SZ  None\n",
      "2  300063.SZ  None\n",
      "3  300064.SZ  None\n",
      "4  300065.SZ  None\n",
      "2020-04-15 00:00:00\n",
      "      symbol score\n",
      "0  300061.SZ  None\n",
      "1  300062.SZ  None\n",
      "2  300063.SZ  None\n",
      "3  300064.SZ  None\n",
      "4  300065.SZ  None\n",
      "2020-04-16 00:00:00\n",
      "      symbol score\n",
      "0  300061.SZ  None\n",
      "1  300062.SZ  None\n",
      "2  300063.SZ  None\n",
      "3  300064.SZ  None\n",
      "4  300065.SZ  None\n"
     ]
    },
    {
     "name": "stderr",
     "output_type": "stream",
     "text": [
      " 45% (11 of 24) |###########             | Elapsed Time: 0:00:00 ETA:   0:00:00\n",
      "100% (24 of 24) |########################| Elapsed Time: 0:00:00 Time:  0:00:00\n"
     ]
    },
    {
     "name": "stdout",
     "output_type": "stream",
     "text": [
      "2020-04-17 00:00:00\n",
      "       symbol      score\n",
      "2   300063.SZ  650549.86\n",
      "16  300077.SZ  366084.42\n",
      "10  300071.SZ  317601.69\n",
      "9   300070.SZ  261548.95\n",
      "13  300074.SZ  203680.73\n",
      "2020-04-20 00:00:00\n",
      "      symbol score\n",
      "0  300061.SZ  None\n",
      "1  300062.SZ  None\n",
      "2  300063.SZ  None\n",
      "3  300064.SZ  None\n",
      "4  300065.SZ  None\n",
      "2020-04-21 00:00:00\n",
      "      symbol score\n",
      "0  300061.SZ  None\n",
      "1  300062.SZ  None\n",
      "2  300063.SZ  None\n",
      "3  300064.SZ  None\n",
      "4  300065.SZ  None\n",
      "2020-04-22 00:00:00\n",
      "      symbol score\n",
      "0  300061.SZ  None\n",
      "1  300062.SZ  None\n",
      "2  300063.SZ  None\n",
      "3  300064.SZ  None\n",
      "4  300065.SZ  None\n",
      "2020-04-23 00:00:00\n",
      "      symbol score\n",
      "0  300061.SZ  None\n",
      "1  300062.SZ  None\n",
      "2  300063.SZ  None\n",
      "3  300064.SZ  None\n",
      "4  300065.SZ  None\n",
      "2020-04-24 00:00:00\n",
      "      symbol score\n",
      "0  300061.SZ  None\n",
      "1  300062.SZ  None\n",
      "2  300063.SZ  None\n",
      "3  300064.SZ  None\n",
      "4  300065.SZ  None\n",
      "2020-04-27 00:00:00\n",
      "      symbol score\n",
      "0  300061.SZ  None\n",
      "1  300062.SZ  None\n",
      "2  300063.SZ  None\n",
      "3  300064.SZ  None\n",
      "4  300065.SZ  None\n",
      "2020-04-28 00:00:00\n",
      "      symbol score\n",
      "0  300061.SZ  None\n",
      "1  300062.SZ  None\n",
      "2  300063.SZ  None\n",
      "3  300064.SZ  None\n",
      "4  300065.SZ  None\n",
      "2020-04-29 00:00:00\n",
      "      symbol score\n",
      "0  300061.SZ  None\n",
      "1  300062.SZ  None\n",
      "2  300063.SZ  None\n",
      "3  300064.SZ  None\n",
      "4  300065.SZ  None\n",
      "2020-04-30 00:00:00\n",
      "      symbol score\n",
      "0  300061.SZ  None\n",
      "1  300062.SZ  None\n",
      "2  300063.SZ  None\n",
      "3  300064.SZ  None\n",
      "4  300065.SZ  None\n",
      "2020-05-06 00:00:00\n",
      "      symbol score\n",
      "0  300061.SZ  None\n",
      "1  300062.SZ  None\n",
      "2  300063.SZ  None\n",
      "3  300064.SZ  None\n",
      "4  300065.SZ  None\n",
      "2020-05-07 00:00:00\n",
      "       symbol      score\n",
      "16  300077.SZ  620288.52\n",
      "9   300070.SZ  315539.72\n",
      "2   300063.SZ  296585.77\n",
      "11  300072.SZ  195523.28\n",
      "18  300079.SZ  161662.37\n",
      "2020-05-08 00:00:00\n",
      "      symbol score\n",
      "0  300061.SZ  None\n",
      "1  300062.SZ  None\n",
      "2  300063.SZ  None\n",
      "3  300064.SZ  None\n",
      "4  300065.SZ  None\n",
      "\n",
      "Finished backtest: 0:00:00\n"
     ]
    }
   ],
   "source": [
    "config = StrategyConfig(max_long_positions=5)\n",
    "strategy = Strategy(pyb_data_pe, '2020-04-01', '2020-05-10', config)\n",
    "strategy.add_execution(buy_highest_volume, pyb_data_pe.symbol.unique()[100:120])\n",
    "strategy.set_after_exec(print_rank)\n",
    "result = strategy.backtest()"
   ]
  },
  {
   "cell_type": "code",
   "execution_count": 11,
   "metadata": {},
   "outputs": [],
   "source": [
    "#result.trades"
   ]
  },
  {
   "cell_type": "markdown",
   "metadata": {},
   "source": [
    "## 市盈率与换手率的因子排名策略实现"
   ]
  },
  {
   "cell_type": "code",
   "execution_count": 28,
   "metadata": {},
   "outputs": [
    {
     "data": {
      "text/plain": [
       "Index(['index', '交易日期', '股票代码', '股票简称', '开盘价', '最高价', '最低价', '收盘价', '成交量(手)',\n",
       "       '成交额(千元)', '换手率(%)', '量比', '市盈率(静态)', '市盈率(TTM)', '市盈率(动态)', '市净率',\n",
       "       '市销率', '市销率(TTM)', '股息率(%)', '股息率(TTM)(%)', '总股本(万股)', '流通股本(万股)',\n",
       "       '总市值(万元)', '流通市值(万元)'],\n",
       "      dtype='object')"
      ]
     },
     "execution_count": 28,
     "metadata": {},
     "output_type": "execute_result"
    }
   ],
   "source": [
    "stock_daily0.columns"
   ]
  },
  {
   "cell_type": "code",
   "execution_count": 54,
   "metadata": {},
   "outputs": [
    {
     "data": {
      "text/html": [
       "<div>\n",
       "<style scoped>\n",
       "    .dataframe tbody tr th:only-of-type {\n",
       "        vertical-align: middle;\n",
       "    }\n",
       "\n",
       "    .dataframe tbody tr th {\n",
       "        vertical-align: top;\n",
       "    }\n",
       "\n",
       "    .dataframe thead th {\n",
       "        text-align: right;\n",
       "    }\n",
       "</style>\n",
       "<table border=\"1\" class=\"dataframe\">\n",
       "  <thead>\n",
       "    <tr style=\"text-align: right;\">\n",
       "      <th></th>\n",
       "      <th>date</th>\n",
       "      <th>symbol</th>\n",
       "      <th>open</th>\n",
       "      <th>high</th>\n",
       "      <th>low</th>\n",
       "      <th>close</th>\n",
       "      <th>volume</th>\n",
       "      <th>pe</th>\n",
       "    </tr>\n",
       "  </thead>\n",
       "  <tbody>\n",
       "    <tr>\n",
       "      <th>280036</th>\n",
       "      <td>2020-08-18</td>\n",
       "      <td>300216.SZ</td>\n",
       "      <td>7.1717</td>\n",
       "      <td>7.1717</td>\n",
       "      <td>7.1717</td>\n",
       "      <td>7.1717</td>\n",
       "      <td>2.0</td>\n",
       "      <td>0.0001</td>\n",
       "    </tr>\n",
       "    <tr>\n",
       "      <th>280040</th>\n",
       "      <td>2020-08-24</td>\n",
       "      <td>300216.SZ</td>\n",
       "      <td>4.7098</td>\n",
       "      <td>4.7098</td>\n",
       "      <td>4.7098</td>\n",
       "      <td>4.7098</td>\n",
       "      <td>3.0</td>\n",
       "      <td>0.0001</td>\n",
       "    </tr>\n",
       "    <tr>\n",
       "      <th>280029</th>\n",
       "      <td>2020-08-07</td>\n",
       "      <td>300216.SZ</td>\n",
       "      <td>14.8786</td>\n",
       "      <td>14.8786</td>\n",
       "      <td>14.8786</td>\n",
       "      <td>14.8786</td>\n",
       "      <td>2.0</td>\n",
       "      <td>0.0001</td>\n",
       "    </tr>\n",
       "    <tr>\n",
       "      <th>280038</th>\n",
       "      <td>2020-08-20</td>\n",
       "      <td>300216.SZ</td>\n",
       "      <td>5.8337</td>\n",
       "      <td>5.8337</td>\n",
       "      <td>5.8337</td>\n",
       "      <td>5.8337</td>\n",
       "      <td>5.0</td>\n",
       "      <td>0.0002</td>\n",
       "    </tr>\n",
       "    <tr>\n",
       "      <th>280039</th>\n",
       "      <td>2020-08-21</td>\n",
       "      <td>300216.SZ</td>\n",
       "      <td>5.2450</td>\n",
       "      <td>5.2450</td>\n",
       "      <td>5.2450</td>\n",
       "      <td>5.2450</td>\n",
       "      <td>19.0</td>\n",
       "      <td>0.0007</td>\n",
       "    </tr>\n",
       "  </tbody>\n",
       "</table>\n",
       "</div>"
      ],
      "text/plain": [
       "             date     symbol     open     high      low    close  volume  \\\n",
       "280036 2020-08-18  300216.SZ   7.1717   7.1717   7.1717   7.1717     2.0   \n",
       "280040 2020-08-24  300216.SZ   4.7098   4.7098   4.7098   4.7098     3.0   \n",
       "280029 2020-08-07  300216.SZ  14.8786  14.8786  14.8786  14.8786     2.0   \n",
       "280038 2020-08-20  300216.SZ   5.8337   5.8337   5.8337   5.8337     5.0   \n",
       "280039 2020-08-21  300216.SZ   5.2450   5.2450   5.2450   5.2450    19.0   \n",
       "\n",
       "            pe  \n",
       "280036  0.0001  \n",
       "280040  0.0001  \n",
       "280029  0.0001  \n",
       "280038  0.0002  \n",
       "280039  0.0007  "
      ]
     },
     "execution_count": 54,
     "metadata": {},
     "output_type": "execute_result"
    }
   ],
   "source": [
    "pyb_data_pe.sort_values(by=\"pe\").head(5)"
   ]
  },
  {
   "cell_type": "code",
   "execution_count": 56,
   "metadata": {},
   "outputs": [
    {
     "data": {
      "text/plain": [
       "count    1.132744e+06\n",
       "mean     4.284365e+00\n",
       "std      5.840322e+00\n",
       "min      1.000000e-04\n",
       "25%      1.286300e+00\n",
       "50%      2.404300e+00\n",
       "75%      4.829600e+00\n",
       "max      9.611500e+01\n",
       "Name: pe, dtype: float64"
      ]
     },
     "execution_count": 56,
     "metadata": {},
     "output_type": "execute_result"
    }
   ],
   "source": [
    "pyb_data_pe.pe.describe()"
   ]
  },
  {
   "cell_type": "code",
   "execution_count": 61,
   "metadata": {},
   "outputs": [],
   "source": [
    "def buy_highest_volume(ctx):\n",
    "    # If there are no long positions across all tickers being traded:\n",
    "    if not tuple(ctx.long_positions()):\n",
    "        ctx.buy_limit_price=ctx.close[-1]*1.095\n",
    "        ctx.buy_shares = ctx.calc_target_shares(0.1)\n",
    "        ctx.hold_bars = 10\n",
    "        ctx.score = -ctx.pe[-1]"
   ]
  },
  {
   "cell_type": "code",
   "execution_count": 47,
   "metadata": {},
   "outputs": [],
   "source": [
    "pyb_data_pe=stock_daily0[[\"交易日期\",\"股票代码\",\"开盘价\",\"最高价\",\"最低价\",\"收盘价\",\"成交量(手)\",\"换手率(%)\"]]\n",
    "pyb_data_pe.columns=[\"date\",\"symbol\",\"open\",\"high\",\"low\",\"close\",\"volume\",\"pe\"]"
   ]
  },
  {
   "cell_type": "code",
   "execution_count": 62,
   "metadata": {},
   "outputs": [
    {
     "name": "stdout",
     "output_type": "stream",
     "text": [
      "Backtesting: 2018-01-01 00:00:00 to 2023-02-10 00:00:00\n",
      "\n",
      "Test split: 2018-01-02 00:00:00 to 2023-02-10 00:00:00\n"
     ]
    },
    {
     "name": "stderr",
     "output_type": "stream",
     "text": [
      "  0% (0 of 1239) |                       | Elapsed Time: 0:00:00 ETA:  --:--:--\n",
      "  0% (1 of 1239) |                       | Elapsed Time: 0:00:01 ETA:   0:27:52\n",
      "  0% (11 of 1239) |                      | Elapsed Time: 0:00:02 ETA:   0:04:25\n",
      "  1% (21 of 1239) |                      | Elapsed Time: 0:00:02 ETA:   0:02:29\n",
      "  2% (31 of 1239) |                      | Elapsed Time: 0:00:02 ETA:   0:01:47\n",
      "  3% (41 of 1239) |                      | Elapsed Time: 0:00:02 ETA:   0:01:22\n",
      "  4% (51 of 1239) |                      | Elapsed Time: 0:00:03 ETA:   0:01:10\n",
      "  4% (61 of 1239) |#                     | Elapsed Time: 0:00:03 ETA:   0:01:01\n",
      "  5% (71 of 1239) |#                     | Elapsed Time: 0:00:03 ETA:   0:00:55\n",
      "  6% (81 of 1239) |#                     | Elapsed Time: 0:00:03 ETA:   0:00:50\n",
      "  7% (91 of 1239) |#                     | Elapsed Time: 0:00:03 ETA:   0:00:46\n",
      "  8% (101 of 1239) |#                    | Elapsed Time: 0:00:03 ETA:   0:00:42\n",
      "  8% (111 of 1239) |#                    | Elapsed Time: 0:00:03 ETA:   0:00:39\n",
      "  9% (121 of 1239) |##                   | Elapsed Time: 0:00:04 ETA:   0:00:37\n",
      " 10% (131 of 1239) |##                   | Elapsed Time: 0:00:04 ETA:   0:00:35\n",
      " 11% (141 of 1239) |##                   | Elapsed Time: 0:00:04 ETA:   0:00:33\n",
      " 12% (151 of 1239) |##                   | Elapsed Time: 0:00:04 ETA:   0:00:32\n",
      " 12% (161 of 1239) |##                   | Elapsed Time: 0:00:04 ETA:   0:00:31\n",
      " 13% (171 of 1239) |##                   | Elapsed Time: 0:00:04 ETA:   0:00:30\n",
      " 14% (181 of 1239) |###                  | Elapsed Time: 0:00:04 ETA:   0:00:29\n",
      " 15% (191 of 1239) |###                  | Elapsed Time: 0:00:05 ETA:   0:00:28\n",
      " 16% (201 of 1239) |###                  | Elapsed Time: 0:00:05 ETA:   0:00:27\n",
      " 17% (211 of 1239) |###                  | Elapsed Time: 0:00:05 ETA:   0:00:26\n",
      " 17% (221 of 1239) |###                  | Elapsed Time: 0:00:05 ETA:   0:00:25\n",
      " 18% (231 of 1239) |###                  | Elapsed Time: 0:00:05 ETA:   0:00:24\n",
      " 19% (241 of 1239) |####                 | Elapsed Time: 0:00:05 ETA:   0:00:24\n",
      " 20% (251 of 1239) |####                 | Elapsed Time: 0:00:06 ETA:   0:00:23\n",
      " 21% (261 of 1239) |####                 | Elapsed Time: 0:00:06 ETA:   0:00:23\n",
      " 21% (271 of 1239) |####                 | Elapsed Time: 0:00:06 ETA:   0:00:22\n",
      " 22% (281 of 1239) |####                 | Elapsed Time: 0:00:06 ETA:   0:00:22\n",
      " 23% (291 of 1239) |####                 | Elapsed Time: 0:00:06 ETA:   0:00:21\n",
      " 24% (301 of 1239) |#####                | Elapsed Time: 0:00:06 ETA:   0:00:21\n",
      " 25% (311 of 1239) |#####                | Elapsed Time: 0:00:07 ETA:   0:00:21\n",
      " 25% (321 of 1239) |#####                | Elapsed Time: 0:00:07 ETA:   0:00:20\n",
      " 26% (331 of 1239) |#####                | Elapsed Time: 0:00:07 ETA:   0:00:20\n",
      " 27% (341 of 1239) |#####                | Elapsed Time: 0:00:07 ETA:   0:00:19\n",
      " 28% (351 of 1239) |#####                | Elapsed Time: 0:00:07 ETA:   0:00:19\n",
      " 29% (361 of 1239) |######               | Elapsed Time: 0:00:07 ETA:   0:00:19\n",
      " 29% (371 of 1239) |######               | Elapsed Time: 0:00:08 ETA:   0:00:18\n",
      " 30% (381 of 1239) |######               | Elapsed Time: 0:00:08 ETA:   0:00:18\n",
      " 31% (391 of 1239) |######               | Elapsed Time: 0:00:08 ETA:   0:00:18\n",
      " 32% (401 of 1239) |######               | Elapsed Time: 0:00:08 ETA:   0:00:17\n",
      " 33% (411 of 1239) |######               | Elapsed Time: 0:00:08 ETA:   0:00:17\n",
      " 33% (421 of 1239) |#######              | Elapsed Time: 0:00:08 ETA:   0:00:17\n",
      " 34% (431 of 1239) |#######              | Elapsed Time: 0:00:08 ETA:   0:00:16\n",
      " 35% (441 of 1239) |#######              | Elapsed Time: 0:00:09 ETA:   0:00:16\n",
      " 36% (451 of 1239) |#######              | Elapsed Time: 0:00:09 ETA:   0:00:16\n",
      " 37% (461 of 1239) |#######              | Elapsed Time: 0:00:09 ETA:   0:00:15\n",
      " 38% (471 of 1239) |#######              | Elapsed Time: 0:00:09 ETA:   0:00:15\n",
      " 38% (481 of 1239) |########             | Elapsed Time: 0:00:09 ETA:   0:00:15\n",
      " 39% (491 of 1239) |########             | Elapsed Time: 0:00:09 ETA:   0:00:14\n",
      " 40% (501 of 1239) |########             | Elapsed Time: 0:00:09 ETA:   0:00:14\n",
      " 41% (511 of 1239) |########             | Elapsed Time: 0:00:10 ETA:   0:00:14\n",
      " 42% (521 of 1239) |########             | Elapsed Time: 0:00:10 ETA:   0:00:14\n",
      " 42% (531 of 1239) |#########            | Elapsed Time: 0:00:10 ETA:   0:00:13\n",
      " 43% (541 of 1239) |#########            | Elapsed Time: 0:00:10 ETA:   0:00:13\n",
      " 44% (551 of 1239) |#########            | Elapsed Time: 0:00:10 ETA:   0:00:13\n",
      " 45% (561 of 1239) |#########            | Elapsed Time: 0:00:10 ETA:   0:00:13\n",
      " 46% (571 of 1239) |#########            | Elapsed Time: 0:00:11 ETA:   0:00:12\n",
      " 46% (581 of 1239) |#########            | Elapsed Time: 0:00:11 ETA:   0:00:12\n",
      " 47% (591 of 1239) |##########           | Elapsed Time: 0:00:11 ETA:   0:00:12\n",
      " 48% (601 of 1239) |##########           | Elapsed Time: 0:00:11 ETA:   0:00:12\n",
      " 49% (611 of 1239) |##########           | Elapsed Time: 0:00:11 ETA:   0:00:12\n",
      " 50% (621 of 1239) |##########           | Elapsed Time: 0:00:11 ETA:   0:00:11\n",
      " 50% (631 of 1239) |##########           | Elapsed Time: 0:00:12 ETA:   0:00:11\n",
      " 51% (641 of 1239) |##########           | Elapsed Time: 0:00:12 ETA:   0:00:11\n",
      " 52% (651 of 1239) |###########          | Elapsed Time: 0:00:12 ETA:   0:00:11\n",
      " 53% (661 of 1239) |###########          | Elapsed Time: 0:00:12 ETA:   0:00:11\n",
      " 54% (671 of 1239) |###########          | Elapsed Time: 0:00:12 ETA:   0:00:10\n",
      " 54% (681 of 1239) |###########          | Elapsed Time: 0:00:13 ETA:   0:00:10\n",
      " 55% (691 of 1239) |###########          | Elapsed Time: 0:00:13 ETA:   0:00:10\n",
      " 56% (701 of 1239) |###########          | Elapsed Time: 0:00:13 ETA:   0:00:10\n",
      " 57% (711 of 1239) |############         | Elapsed Time: 0:00:13 ETA:   0:00:10\n",
      " 58% (721 of 1239) |############         | Elapsed Time: 0:00:14 ETA:   0:00:10\n",
      " 58% (731 of 1239) |############         | Elapsed Time: 0:00:14 ETA:   0:00:09\n",
      " 59% (741 of 1239) |############         | Elapsed Time: 0:00:14 ETA:   0:00:09\n",
      " 60% (751 of 1239) |############         | Elapsed Time: 0:00:14 ETA:   0:00:09\n",
      " 61% (761 of 1239) |############         | Elapsed Time: 0:00:14 ETA:   0:00:09\n",
      " 62% (771 of 1239) |#############        | Elapsed Time: 0:00:15 ETA:   0:00:09\n",
      " 63% (781 of 1239) |#############        | Elapsed Time: 0:00:15 ETA:   0:00:08\n",
      " 63% (791 of 1239) |#############        | Elapsed Time: 0:00:15 ETA:   0:00:08\n",
      " 64% (801 of 1239) |#############        | Elapsed Time: 0:00:15 ETA:   0:00:08\n",
      " 65% (811 of 1239) |#############        | Elapsed Time: 0:00:16 ETA:   0:00:08\n",
      " 66% (821 of 1239) |#############        | Elapsed Time: 0:00:16 ETA:   0:00:08\n",
      " 67% (831 of 1239) |##############       | Elapsed Time: 0:00:16 ETA:   0:00:08\n",
      " 67% (841 of 1239) |##############       | Elapsed Time: 0:00:16 ETA:   0:00:07\n",
      " 68% (851 of 1239) |##############       | Elapsed Time: 0:00:16 ETA:   0:00:07\n",
      " 69% (861 of 1239) |##############       | Elapsed Time: 0:00:17 ETA:   0:00:07\n",
      " 70% (871 of 1239) |##############       | Elapsed Time: 0:00:17 ETA:   0:00:07\n",
      " 71% (881 of 1239) |##############       | Elapsed Time: 0:00:17 ETA:   0:00:07\n",
      " 71% (891 of 1239) |###############      | Elapsed Time: 0:00:18 ETA:   0:00:07\n",
      " 72% (901 of 1239) |###############      | Elapsed Time: 0:00:18 ETA:   0:00:06\n",
      " 73% (911 of 1239) |###############      | Elapsed Time: 0:00:18 ETA:   0:00:06\n",
      " 74% (921 of 1239) |###############      | Elapsed Time: 0:00:18 ETA:   0:00:06\n",
      " 75% (931 of 1239) |###############      | Elapsed Time: 0:00:19 ETA:   0:00:06\n",
      " 75% (941 of 1239) |###############      | Elapsed Time: 0:00:19 ETA:   0:00:06\n",
      " 76% (951 of 1239) |################     | Elapsed Time: 0:00:19 ETA:   0:00:05\n",
      " 77% (961 of 1239) |################     | Elapsed Time: 0:00:19 ETA:   0:00:05\n",
      " 78% (971 of 1239) |################     | Elapsed Time: 0:00:19 ETA:   0:00:05\n",
      " 79% (981 of 1239) |################     | Elapsed Time: 0:00:20 ETA:   0:00:05\n",
      " 79% (991 of 1239) |################     | Elapsed Time: 0:00:20 ETA:   0:00:05\n",
      " 80% (1001 of 1239) |################    | Elapsed Time: 0:00:20 ETA:   0:00:04\n",
      " 81% (1011 of 1239) |################    | Elapsed Time: 0:00:20 ETA:   0:00:04\n",
      " 82% (1021 of 1239) |################    | Elapsed Time: 0:00:21 ETA:   0:00:04\n",
      " 83% (1031 of 1239) |################    | Elapsed Time: 0:00:21 ETA:   0:00:04\n",
      " 84% (1041 of 1239) |################    | Elapsed Time: 0:00:21 ETA:   0:00:04\n",
      " 84% (1051 of 1239) |################    | Elapsed Time: 0:00:22 ETA:   0:00:03\n",
      " 85% (1061 of 1239) |#################   | Elapsed Time: 0:00:22 ETA:   0:00:03\n",
      " 86% (1071 of 1239) |#################   | Elapsed Time: 0:00:22 ETA:   0:00:03\n",
      " 88% (1091 of 1239) |#################   | Elapsed Time: 0:00:22 ETA:   0:00:03\n",
      " 88% (1101 of 1239) |#################   | Elapsed Time: 0:00:23 ETA:   0:00:02\n",
      " 89% (1111 of 1239) |#################   | Elapsed Time: 0:00:23 ETA:   0:00:02\n",
      " 90% (1121 of 1239) |##################  | Elapsed Time: 0:00:23 ETA:   0:00:02\n",
      " 91% (1131 of 1239) |##################  | Elapsed Time: 0:00:23 ETA:   0:00:02\n",
      " 92% (1141 of 1239) |##################  | Elapsed Time: 0:00:23 ETA:   0:00:02\n",
      " 92% (1151 of 1239) |##################  | Elapsed Time: 0:00:24 ETA:   0:00:01\n",
      " 93% (1161 of 1239) |##################  | Elapsed Time: 0:00:24 ETA:   0:00:01\n",
      " 94% (1171 of 1239) |##################  | Elapsed Time: 0:00:24 ETA:   0:00:01\n",
      " 95% (1181 of 1239) |################### | Elapsed Time: 0:00:25 ETA:   0:00:01\n",
      " 96% (1191 of 1239) |################### | Elapsed Time: 0:00:25 ETA:   0:00:01\n",
      " 96% (1201 of 1239) |################### | Elapsed Time: 0:00:25 ETA:   0:00:00\n",
      " 97% (1211 of 1239) |################### | Elapsed Time: 0:00:25 ETA:   0:00:00\n",
      " 98% (1221 of 1239) |################### | Elapsed Time: 0:00:26 ETA:   0:00:00\n",
      " 99% (1231 of 1239) |################### | Elapsed Time: 0:00:26 ETA:   0:00:00\n",
      "100% (1239 of 1239) |####################| Elapsed Time: 0:00:26 Time:  0:00:26\n"
     ]
    },
    {
     "name": "stdout",
     "output_type": "stream",
     "text": [
      "\n",
      "Finished backtest: 0:00:28\n"
     ]
    }
   ],
   "source": [
    "pybroker.register_columns('pe')\n",
    "config = StrategyConfig(max_long_positions=10)\n",
    "strategy = Strategy(pyb_data_pe, '2018-01-01', '2023-02-10', config)\n",
    "strategy.add_execution(buy_highest_volume, pyb_data_pe.symbol.unique())\n",
    "result = strategy.backtest()"
   ]
  },
  {
   "cell_type": "code",
   "execution_count": 66,
   "metadata": {},
   "outputs": [
    {
     "data": {
      "text/html": [
       "<div>\n",
       "<style scoped>\n",
       "    .dataframe tbody tr th:only-of-type {\n",
       "        vertical-align: middle;\n",
       "    }\n",
       "\n",
       "    .dataframe tbody tr th {\n",
       "        vertical-align: top;\n",
       "    }\n",
       "\n",
       "    .dataframe thead th {\n",
       "        text-align: right;\n",
       "    }\n",
       "</style>\n",
       "<table border=\"1\" class=\"dataframe\">\n",
       "  <thead>\n",
       "    <tr style=\"text-align: right;\">\n",
       "      <th></th>\n",
       "      <th>type</th>\n",
       "      <th>symbol</th>\n",
       "      <th>date</th>\n",
       "      <th>shares</th>\n",
       "      <th>limit_price</th>\n",
       "      <th>fill_price</th>\n",
       "      <th>fees</th>\n",
       "    </tr>\n",
       "    <tr>\n",
       "      <th>id</th>\n",
       "      <th></th>\n",
       "      <th></th>\n",
       "      <th></th>\n",
       "      <th></th>\n",
       "      <th></th>\n",
       "      <th></th>\n",
       "      <th></th>\n",
       "    </tr>\n",
       "  </thead>\n",
       "  <tbody>\n",
       "    <tr>\n",
       "      <th>1</th>\n",
       "      <td>buy</td>\n",
       "      <td>300174.SZ</td>\n",
       "      <td>2018-01-03</td>\n",
       "      <td>91</td>\n",
       "      <td>119.56</td>\n",
       "      <td>107.98</td>\n",
       "      <td>0.0</td>\n",
       "    </tr>\n",
       "    <tr>\n",
       "      <th>2</th>\n",
       "      <td>buy</td>\n",
       "      <td>300042.SZ</td>\n",
       "      <td>2018-01-03</td>\n",
       "      <td>150</td>\n",
       "      <td>72.52</td>\n",
       "      <td>65.85</td>\n",
       "      <td>0.0</td>\n",
       "    </tr>\n",
       "    <tr>\n",
       "      <th>3</th>\n",
       "      <td>buy</td>\n",
       "      <td>300448.SZ</td>\n",
       "      <td>2018-01-03</td>\n",
       "      <td>182</td>\n",
       "      <td>60.10</td>\n",
       "      <td>55.60</td>\n",
       "      <td>0.0</td>\n",
       "    </tr>\n",
       "    <tr>\n",
       "      <th>4</th>\n",
       "      <td>buy</td>\n",
       "      <td>300138.SZ</td>\n",
       "      <td>2018-01-03</td>\n",
       "      <td>223</td>\n",
       "      <td>48.92</td>\n",
       "      <td>44.65</td>\n",
       "      <td>0.0</td>\n",
       "    </tr>\n",
       "    <tr>\n",
       "      <th>5</th>\n",
       "      <td>buy</td>\n",
       "      <td>300178.SZ</td>\n",
       "      <td>2018-01-03</td>\n",
       "      <td>165</td>\n",
       "      <td>66.02</td>\n",
       "      <td>60.79</td>\n",
       "      <td>0.0</td>\n",
       "    </tr>\n",
       "    <tr>\n",
       "      <th>6</th>\n",
       "      <td>buy</td>\n",
       "      <td>300001.SZ</td>\n",
       "      <td>2018-01-03</td>\n",
       "      <td>105</td>\n",
       "      <td>103.89</td>\n",
       "      <td>95.19</td>\n",
       "      <td>0.0</td>\n",
       "    </tr>\n",
       "    <tr>\n",
       "      <th>7</th>\n",
       "      <td>buy</td>\n",
       "      <td>300257.SZ</td>\n",
       "      <td>2018-01-03</td>\n",
       "      <td>110</td>\n",
       "      <td>98.81</td>\n",
       "      <td>89.89</td>\n",
       "      <td>0.0</td>\n",
       "    </tr>\n",
       "    <tr>\n",
       "      <th>8</th>\n",
       "      <td>buy</td>\n",
       "      <td>300114.SZ</td>\n",
       "      <td>2018-01-03</td>\n",
       "      <td>165</td>\n",
       "      <td>65.99</td>\n",
       "      <td>61.52</td>\n",
       "      <td>0.0</td>\n",
       "    </tr>\n",
       "    <tr>\n",
       "      <th>9</th>\n",
       "      <td>buy</td>\n",
       "      <td>300094.SZ</td>\n",
       "      <td>2018-01-03</td>\n",
       "      <td>593</td>\n",
       "      <td>18.44</td>\n",
       "      <td>16.93</td>\n",
       "      <td>0.0</td>\n",
       "    </tr>\n",
       "    <tr>\n",
       "      <th>10</th>\n",
       "      <td>buy</td>\n",
       "      <td>300301.SZ</td>\n",
       "      <td>2018-01-03</td>\n",
       "      <td>291</td>\n",
       "      <td>37.52</td>\n",
       "      <td>34.13</td>\n",
       "      <td>0.0</td>\n",
       "    </tr>\n",
       "    <tr>\n",
       "      <th>11</th>\n",
       "      <td>sell</td>\n",
       "      <td>300174.SZ</td>\n",
       "      <td>2018-01-17</td>\n",
       "      <td>91</td>\n",
       "      <td>NaN</td>\n",
       "      <td>104.94</td>\n",
       "      <td>0.0</td>\n",
       "    </tr>\n",
       "    <tr>\n",
       "      <th>12</th>\n",
       "      <td>sell</td>\n",
       "      <td>300042.SZ</td>\n",
       "      <td>2018-01-17</td>\n",
       "      <td>150</td>\n",
       "      <td>NaN</td>\n",
       "      <td>65.25</td>\n",
       "      <td>0.0</td>\n",
       "    </tr>\n",
       "  </tbody>\n",
       "</table>\n",
       "</div>"
      ],
      "text/plain": [
       "    type     symbol       date  shares  limit_price  fill_price  fees\n",
       "id                                                                   \n",
       "1    buy  300174.SZ 2018-01-03      91       119.56      107.98   0.0\n",
       "2    buy  300042.SZ 2018-01-03     150        72.52       65.85   0.0\n",
       "3    buy  300448.SZ 2018-01-03     182        60.10       55.60   0.0\n",
       "4    buy  300138.SZ 2018-01-03     223        48.92       44.65   0.0\n",
       "5    buy  300178.SZ 2018-01-03     165        66.02       60.79   0.0\n",
       "6    buy  300001.SZ 2018-01-03     105       103.89       95.19   0.0\n",
       "7    buy  300257.SZ 2018-01-03     110        98.81       89.89   0.0\n",
       "8    buy  300114.SZ 2018-01-03     165        65.99       61.52   0.0\n",
       "9    buy  300094.SZ 2018-01-03     593        18.44       16.93   0.0\n",
       "10   buy  300301.SZ 2018-01-03     291        37.52       34.13   0.0\n",
       "11  sell  300174.SZ 2018-01-17      91          NaN      104.94   0.0\n",
       "12  sell  300042.SZ 2018-01-17     150          NaN       65.25   0.0"
      ]
     },
     "execution_count": 66,
     "metadata": {},
     "output_type": "execute_result"
    }
   ],
   "source": [
    "result.orders.head(12)"
   ]
  },
  {
   "cell_type": "code",
   "execution_count": 63,
   "metadata": {},
   "outputs": [
    {
     "data": {
      "text/html": [
       "<div>\n",
       "<style scoped>\n",
       "    .dataframe tbody tr th:only-of-type {\n",
       "        vertical-align: middle;\n",
       "    }\n",
       "\n",
       "    .dataframe tbody tr th {\n",
       "        vertical-align: top;\n",
       "    }\n",
       "\n",
       "    .dataframe thead th {\n",
       "        text-align: right;\n",
       "    }\n",
       "</style>\n",
       "<table border=\"1\" class=\"dataframe\">\n",
       "  <thead>\n",
       "    <tr style=\"text-align: right;\">\n",
       "      <th></th>\n",
       "      <th>name</th>\n",
       "      <th>value</th>\n",
       "    </tr>\n",
       "  </thead>\n",
       "  <tbody>\n",
       "    <tr>\n",
       "      <th>0</th>\n",
       "      <td>trade_count</td>\n",
       "      <td>1055.00</td>\n",
       "    </tr>\n",
       "    <tr>\n",
       "      <th>1</th>\n",
       "      <td>initial_market_value</td>\n",
       "      <td>100000.00</td>\n",
       "    </tr>\n",
       "    <tr>\n",
       "      <th>2</th>\n",
       "      <td>end_market_value</td>\n",
       "      <td>148042.77</td>\n",
       "    </tr>\n",
       "    <tr>\n",
       "      <th>3</th>\n",
       "      <td>total_pnl</td>\n",
       "      <td>44380.79</td>\n",
       "    </tr>\n",
       "    <tr>\n",
       "      <th>4</th>\n",
       "      <td>unrealized_pnl</td>\n",
       "      <td>3661.98</td>\n",
       "    </tr>\n",
       "  </tbody>\n",
       "</table>\n",
       "</div>"
      ],
      "text/plain": [
       "                   name      value\n",
       "0           trade_count    1055.00\n",
       "1  initial_market_value  100000.00\n",
       "2      end_market_value  148042.77\n",
       "3             total_pnl   44380.79\n",
       "4        unrealized_pnl    3661.98"
      ]
     },
     "execution_count": 63,
     "metadata": {},
     "output_type": "execute_result"
    }
   ],
   "source": [
    "result.metrics_df.head()"
   ]
  },
  {
   "cell_type": "code",
   "execution_count": 64,
   "metadata": {},
   "outputs": [
    {
     "data": {
      "text/plain": [
       "<Axes: xlabel='date'>"
      ]
     },
     "execution_count": 64,
     "metadata": {},
     "output_type": "execute_result"
    },
    {
     "data": {
      "image/png": "[encoded data removed]",
      "text/plain": [
       "<Figure size 1800x400 with 1 Axes>"
      ]
     },
     "metadata": {},
     "output_type": "display_data"
    }
   ],
   "source": [
    "index_close=index_zh_a_hist_df[\"收盘\"]\n",
    "index_time_scale=index_close/index_close.iloc[0]\n",
    "index_time_scale.plot(figsize=(18,4))\n",
    "cash_value=result.portfolio.equity/100000\n",
    "cash_value.plot()"
   ]
  },
  {
   "cell_type": "markdown",
   "metadata": {},
   "source": [
    "## 限价与涨停——换手率因子问题解决\n",
    "\n",
    "* 换手率极小的意义\n",
    "* buy_limit_price"
   ]
  },
  {
   "cell_type": "code",
   "execution_count": 124,
   "metadata": {},
   "outputs": [
    {
     "data": {
      "text/plain": [
       "Index(['index', '交易日期', '股票代码', '股票简称', '开盘价', '最高价', '最低价', '收盘价', '成交量(手)',\n",
       "       '成交额(千元)', '换手率(%)', '量比', '市盈率(静态)', '市盈率(TTM)', '市盈率(动态)', '市净率',\n",
       "       '市销率', '市销率(TTM)', '股息率(%)', '股息率(TTM)(%)', '总股本(万股)', '流通股本(万股)',\n",
       "       '总市值(万元)', '流通市值(万元)'],\n",
       "      dtype='object')"
      ]
     },
     "execution_count": 124,
     "metadata": {},
     "output_type": "execute_result"
    }
   ],
   "source": [
    "stock_daily0.columns"
   ]
  },
  {
   "cell_type": "code",
   "execution_count": 12,
   "metadata": {},
   "outputs": [],
   "source": [
    "pyb_data_huan=stock_daily0[[\"交易日期\",\"股票代码\",\"开盘价\",\"最高价\",\"最低价\",\"收盘价\",\"成交量(手)\",\"换手率(%)\"]]\n",
    "pyb_data_huan.columns=[\"date\",\"symbol\",\"open\",\"high\",\"low\",\"close\",\"volume\",\"huanshou\"]"
   ]
  },
  {
   "cell_type": "code",
   "execution_count": 13,
   "metadata": {},
   "outputs": [
    {
     "data": {
      "text/plain": [
       "count    1.132744e+06\n",
       "mean     4.284365e+00\n",
       "std      5.840322e+00\n",
       "min      1.000000e-04\n",
       "25%      1.286300e+00\n",
       "50%      2.404300e+00\n",
       "75%      4.829600e+00\n",
       "max      9.611500e+01\n",
       "Name: huanshou, dtype: float64"
      ]
     },
     "execution_count": 13,
     "metadata": {},
     "output_type": "execute_result"
    }
   ],
   "source": [
    "pyb_data_huan.huanshou.describe()"
   ]
  },
  {
   "cell_type": "code",
   "execution_count": 17,
   "metadata": {},
   "outputs": [],
   "source": [
    "def buy_highest_huan(ctx):\n",
    "    # If there are no long positions across all tickers being traded:\n",
    "    if not tuple(ctx.long_positions()) and ctx.huanshou[-1] > 1.5:\n",
    "        ctx.buy_shares = ctx.calc_target_shares(0.2)\n",
    "        ctx.hold_bars = 25\n",
    "        ctx.score = -ctx.huanshou[-1]"
   ]
  },
  {
   "cell_type": "code",
   "execution_count": 18,
   "metadata": {},
   "outputs": [
    {
     "name": "stdout",
     "output_type": "stream",
     "text": [
      "Backtesting: 2018-02-22 00:00:00 to 2023-02-10 00:00:00\n",
      "\n",
      "Test split: 2018-02-22 00:00:00 to 2023-02-10 00:00:00\n"
     ]
    },
    {
     "name": "stderr",
     "output_type": "stream",
     "text": [
      "  0% (0 of 1207) |                       | Elapsed Time: 0:00:00 ETA:  --:--:--\n",
      "  0% (1 of 1207) |                       | Elapsed Time: 0:00:00 ETA:   0:12:44\n",
      "  0% (11 of 1207) |                      | Elapsed Time: 0:00:01 ETA:   0:01:49\n",
      "  1% (21 of 1207) |                      | Elapsed Time: 0:00:01 ETA:   0:00:59\n",
      "  2% (31 of 1207) |                      | Elapsed Time: 0:00:01 ETA:   0:01:10\n",
      "  4% (51 of 1207) |                      | Elapsed Time: 0:00:01 ETA:   0:00:44\n",
      "  5% (61 of 1207) |#                     | Elapsed Time: 0:00:02 ETA:   0:00:41\n",
      "  5% (71 of 1207) |#                     | Elapsed Time: 0:00:02 ETA:   0:00:36\n",
      "  6% (81 of 1207) |#                     | Elapsed Time: 0:00:02 ETA:   0:00:33\n",
      "  8% (101 of 1207) |#                    | Elapsed Time: 0:00:02 ETA:   0:00:27\n",
      "  9% (111 of 1207) |#                    | Elapsed Time: 0:00:02 ETA:   0:00:26\n",
      " 10% (131 of 1207) |##                   | Elapsed Time: 0:00:02 ETA:   0:00:23\n",
      " 11% (141 of 1207) |##                   | Elapsed Time: 0:00:02 ETA:   0:00:22\n",
      " 13% (161 of 1207) |##                   | Elapsed Time: 0:00:03 ETA:   0:00:20\n",
      " 14% (171 of 1207) |##                   | Elapsed Time: 0:00:03 ETA:   0:00:19\n",
      " 15% (191 of 1207) |###                  | Elapsed Time: 0:00:03 ETA:   0:00:18\n",
      " 16% (201 of 1207) |###                  | Elapsed Time: 0:00:03 ETA:   0:00:17\n",
      " 17% (211 of 1207) |###                  | Elapsed Time: 0:00:03 ETA:   0:00:16\n",
      " 18% (221 of 1207) |###                  | Elapsed Time: 0:00:03 ETA:   0:00:16\n",
      " 19% (231 of 1207) |####                 | Elapsed Time: 0:00:03 ETA:   0:00:15\n",
      " 19% (241 of 1207) |####                 | Elapsed Time: 0:00:03 ETA:   0:00:15\n",
      " 20% (251 of 1207) |####                 | Elapsed Time: 0:00:03 ETA:   0:00:14\n",
      " 21% (261 of 1207) |####                 | Elapsed Time: 0:00:03 ETA:   0:00:14\n",
      " 22% (271 of 1207) |####                 | Elapsed Time: 0:00:04 ETA:   0:00:14\n",
      " 23% (281 of 1207) |####                 | Elapsed Time: 0:00:04 ETA:   0:00:13\n",
      " 24% (291 of 1207) |#####                | Elapsed Time: 0:00:04 ETA:   0:00:13\n",
      " 25% (311 of 1207) |#####                | Elapsed Time: 0:00:04 ETA:   0:00:12\n",
      " 26% (321 of 1207) |#####                | Elapsed Time: 0:00:04 ETA:   0:00:12\n",
      " 28% (341 of 1207) |#####                | Elapsed Time: 0:00:04 ETA:   0:00:12\n",
      " 29% (361 of 1207) |######               | Elapsed Time: 0:00:04 ETA:   0:00:11\n",
      " 30% (371 of 1207) |######               | Elapsed Time: 0:00:04 ETA:   0:00:11\n",
      " 32% (391 of 1207) |######               | Elapsed Time: 0:00:05 ETA:   0:00:10\n",
      " 33% (401 of 1207) |######               | Elapsed Time: 0:00:05 ETA:   0:00:10\n",
      " 34% (421 of 1207) |#######              | Elapsed Time: 0:00:05 ETA:   0:00:10\n",
      " 35% (431 of 1207) |#######              | Elapsed Time: 0:00:05 ETA:   0:00:09\n",
      " 37% (451 of 1207) |#######              | Elapsed Time: 0:00:05 ETA:   0:00:09\n",
      " 38% (461 of 1207) |########             | Elapsed Time: 0:00:05 ETA:   0:00:09\n",
      " 39% (471 of 1207) |########             | Elapsed Time: 0:00:05 ETA:   0:00:09\n",
      " 39% (481 of 1207) |########             | Elapsed Time: 0:00:05 ETA:   0:00:08\n",
      " 40% (491 of 1207) |########             | Elapsed Time: 0:00:06 ETA:   0:00:08\n",
      " 41% (501 of 1207) |########             | Elapsed Time: 0:00:06 ETA:   0:00:08\n",
      " 42% (511 of 1207) |########             | Elapsed Time: 0:00:06 ETA:   0:00:08\n",
      " 43% (521 of 1207) |#########            | Elapsed Time: 0:00:06 ETA:   0:00:08\n",
      " 44% (541 of 1207) |#########            | Elapsed Time: 0:00:06 ETA:   0:00:07\n",
      " 45% (551 of 1207) |#########            | Elapsed Time: 0:00:06 ETA:   0:00:07\n",
      " 47% (571 of 1207) |#########            | Elapsed Time: 0:00:06 ETA:   0:00:07\n",
      " 48% (581 of 1207) |##########           | Elapsed Time: 0:00:06 ETA:   0:00:07\n",
      " 49% (601 of 1207) |##########           | Elapsed Time: 0:00:07 ETA:   0:00:07\n",
      " 51% (621 of 1207) |##########           | Elapsed Time: 0:00:07 ETA:   0:00:06\n",
      " 52% (631 of 1207) |##########           | Elapsed Time: 0:00:07 ETA:   0:00:06\n",
      " 53% (651 of 1207) |###########          | Elapsed Time: 0:00:07 ETA:   0:00:06\n",
      " 54% (661 of 1207) |###########          | Elapsed Time: 0:00:07 ETA:   0:00:06\n",
      " 56% (681 of 1207) |###########          | Elapsed Time: 0:00:08 ETA:   0:00:06\n",
      " 57% (691 of 1207) |############         | Elapsed Time: 0:00:08 ETA:   0:00:06\n",
      " 58% (701 of 1207) |############         | Elapsed Time: 0:00:08 ETA:   0:00:05\n",
      " 58% (711 of 1207) |############         | Elapsed Time: 0:00:08 ETA:   0:00:05\n",
      " 59% (721 of 1207) |############         | Elapsed Time: 0:00:08 ETA:   0:00:05\n",
      " 60% (731 of 1207) |############         | Elapsed Time: 0:00:08 ETA:   0:00:05\n",
      " 61% (741 of 1207) |############         | Elapsed Time: 0:00:08 ETA:   0:00:05\n",
      " 62% (751 of 1207) |#############        | Elapsed Time: 0:00:08 ETA:   0:00:05\n",
      " 63% (761 of 1207) |#############        | Elapsed Time: 0:00:09 ETA:   0:00:05\n",
      " 63% (771 of 1207) |#############        | Elapsed Time: 0:00:09 ETA:   0:00:05\n",
      " 64% (781 of 1207) |#############        | Elapsed Time: 0:00:09 ETA:   0:00:05\n",
      " 65% (791 of 1207) |#############        | Elapsed Time: 0:00:09 ETA:   0:00:04\n",
      " 66% (801 of 1207) |#############        | Elapsed Time: 0:00:09 ETA:   0:00:04\n",
      " 67% (811 of 1207) |##############       | Elapsed Time: 0:00:09 ETA:   0:00:04\n",
      " 68% (831 of 1207) |##############       | Elapsed Time: 0:00:09 ETA:   0:00:04\n",
      " 69% (841 of 1207) |##############       | Elapsed Time: 0:00:10 ETA:   0:00:04\n",
      " 71% (861 of 1207) |##############       | Elapsed Time: 0:00:10 ETA:   0:00:04\n",
      " 72% (871 of 1207) |###############      | Elapsed Time: 0:00:10 ETA:   0:00:04\n",
      " 73% (891 of 1207) |###############      | Elapsed Time: 0:00:10 ETA:   0:00:03\n",
      " 75% (911 of 1207) |###############      | Elapsed Time: 0:00:10 ETA:   0:00:03\n",
      " 76% (921 of 1207) |################     | Elapsed Time: 0:00:11 ETA:   0:00:03\n",
      " 77% (941 of 1207) |################     | Elapsed Time: 0:00:11 ETA:   0:00:03\n",
      " 78% (951 of 1207) |################     | Elapsed Time: 0:00:11 ETA:   0:00:03\n",
      " 80% (971 of 1207) |################     | Elapsed Time: 0:00:11 ETA:   0:00:02\n",
      " 81% (981 of 1207) |#################    | Elapsed Time: 0:00:11 ETA:   0:00:02\n",
      " 82% (991 of 1207) |#################    | Elapsed Time: 0:00:12 ETA:   0:00:02\n",
      " 82% (1001 of 1207) |################    | Elapsed Time: 0:00:12 ETA:   0:00:02\n",
      " 83% (1011 of 1207) |################    | Elapsed Time: 0:00:12 ETA:   0:00:02\n",
      " 84% (1021 of 1207) |################    | Elapsed Time: 0:00:12 ETA:   0:00:02\n",
      " 85% (1031 of 1207) |#################   | Elapsed Time: 0:00:12 ETA:   0:00:02\n",
      " 86% (1041 of 1207) |#################   | Elapsed Time: 0:00:12 ETA:   0:00:02\n",
      " 87% (1051 of 1207) |#################   | Elapsed Time: 0:00:12 ETA:   0:00:01\n",
      " 87% (1061 of 1207) |#################   | Elapsed Time: 0:00:12 ETA:   0:00:01\n",
      " 88% (1071 of 1207) |#################   | Elapsed Time: 0:00:13 ETA:   0:00:01\n",
      " 89% (1081 of 1207) |#################   | Elapsed Time: 0:00:13 ETA:   0:00:01\n",
      " 90% (1091 of 1207) |##################  | Elapsed Time: 0:00:13 ETA:   0:00:01\n",
      " 91% (1101 of 1207) |##################  | Elapsed Time: 0:00:13 ETA:   0:00:01\n",
      " 92% (1121 of 1207) |##################  | Elapsed Time: 0:00:13 ETA:   0:00:01\n",
      " 93% (1131 of 1207) |##################  | Elapsed Time: 0:00:13 ETA:   0:00:00\n",
      " 95% (1151 of 1207) |################### | Elapsed Time: 0:00:14 ETA:   0:00:00\n",
      " 97% (1171 of 1207) |################### | Elapsed Time: 0:00:14 ETA:   0:00:00\n",
      " 97% (1181 of 1207) |################### | Elapsed Time: 0:00:14 ETA:   0:00:00\n",
      " 98% (1191 of 1207) |################### | Elapsed Time: 0:00:14 ETA:   0:00:00\n",
      " 99% (1201 of 1207) |################### | Elapsed Time: 0:00:14 ETA:   0:00:00\n",
      "100% (1207 of 1207) |####################| Elapsed Time: 0:00:14 ETA:  00:00:00\n",
      "100% (1207 of 1207) |####################| Elapsed Time: 0:00:14 Time:  0:00:14\n"
     ]
    },
    {
     "name": "stdout",
     "output_type": "stream",
     "text": [
      "\n",
      "Finished backtest: 0:00:16\n"
     ]
    }
   ],
   "source": [
    "pybroker.register_columns('huanshou')\n",
    "config = StrategyConfig(max_long_positions=5)\n",
    "strategy = Strategy(pyb_data_huan, '2018-02-22', '2023-02-10', config)\n",
    "strategy.add_execution(buy_highest_huan, pyb_data_huan.symbol.unique())\n",
    "result = strategy.backtest()"
   ]
  },
  {
   "cell_type": "code",
   "execution_count": 20,
   "metadata": {},
   "outputs": [
    {
     "data": {
      "text/html": [
       "<div>\n",
       "<style scoped>\n",
       "    .dataframe tbody tr th:only-of-type {\n",
       "        vertical-align: middle;\n",
       "    }\n",
       "\n",
       "    .dataframe tbody tr th {\n",
       "        vertical-align: top;\n",
       "    }\n",
       "\n",
       "    .dataframe thead th {\n",
       "        text-align: right;\n",
       "    }\n",
       "</style>\n",
       "<table border=\"1\" class=\"dataframe\">\n",
       "  <thead>\n",
       "    <tr style=\"text-align: right;\">\n",
       "      <th></th>\n",
       "      <th>name</th>\n",
       "      <th>value</th>\n",
       "    </tr>\n",
       "  </thead>\n",
       "  <tbody>\n",
       "    <tr>\n",
       "      <th>0</th>\n",
       "      <td>trade_count</td>\n",
       "      <td>230.00</td>\n",
       "    </tr>\n",
       "    <tr>\n",
       "      <th>1</th>\n",
       "      <td>initial_market_value</td>\n",
       "      <td>100000.00</td>\n",
       "    </tr>\n",
       "    <tr>\n",
       "      <th>2</th>\n",
       "      <td>end_market_value</td>\n",
       "      <td>285895.29</td>\n",
       "    </tr>\n",
       "    <tr>\n",
       "      <th>3</th>\n",
       "      <td>total_pnl</td>\n",
       "      <td>162355.04</td>\n",
       "    </tr>\n",
       "    <tr>\n",
       "      <th>4</th>\n",
       "      <td>unrealized_pnl</td>\n",
       "      <td>23540.25</td>\n",
       "    </tr>\n",
       "  </tbody>\n",
       "</table>\n",
       "</div>"
      ],
      "text/plain": [
       "                   name      value\n",
       "0           trade_count     230.00\n",
       "1  initial_market_value  100000.00\n",
       "2      end_market_value  285895.29\n",
       "3             total_pnl  162355.04\n",
       "4        unrealized_pnl   23540.25"
      ]
     },
     "execution_count": 20,
     "metadata": {},
     "output_type": "execute_result"
    }
   ],
   "source": [
    "result.metrics_df.head()"
   ]
  },
  {
   "cell_type": "code",
   "execution_count": 129,
   "metadata": {},
   "outputs": [
    {
     "data": {
      "text/plain": [
       "28.50607"
      ]
     },
     "execution_count": 129,
     "metadata": {},
     "output_type": "execute_result"
    }
   ],
   "source": [
    "2850607/100000"
   ]
  },
  {
   "cell_type": "code",
   "execution_count": 202,
   "metadata": {},
   "outputs": [
    {
     "data": {
      "text/plain": [
       "<Axes: xlabel='date'>"
      ]
     },
     "execution_count": 202,
     "metadata": {},
     "output_type": "execute_result"
    },
    {
     "data": {
      "image/png": "[encoded data removed]",
      "text/plain": [
       "<Figure size 640x480 with 1 Axes>"
      ]
     },
     "metadata": {},
     "output_type": "display_data"
    }
   ],
   "source": [
    "result.portfolio.equity.plot()"
   ]
  },
  {
   "cell_type": "code",
   "execution_count": 27,
   "metadata": {},
   "outputs": [
    {
     "data": {
      "text/html": [
       "<div>\n",
       "<style scoped>\n",
       "    .dataframe tbody tr th:only-of-type {\n",
       "        vertical-align: middle;\n",
       "    }\n",
       "\n",
       "    .dataframe tbody tr th {\n",
       "        vertical-align: top;\n",
       "    }\n",
       "\n",
       "    .dataframe thead th {\n",
       "        text-align: right;\n",
       "    }\n",
       "</style>\n",
       "<table border=\"1\" class=\"dataframe\">\n",
       "  <thead>\n",
       "    <tr style=\"text-align: right;\">\n",
       "      <th></th>\n",
       "      <th>交易日期</th>\n",
       "      <th>股票代码</th>\n",
       "      <th>开盘价</th>\n",
       "      <th>收盘价</th>\n",
       "      <th>换手率(%)</th>\n",
       "    </tr>\n",
       "  </thead>\n",
       "  <tbody>\n",
       "    <tr>\n",
       "      <th>280036</th>\n",
       "      <td>2020-08-18</td>\n",
       "      <td>300216.SZ</td>\n",
       "      <td>7.1717</td>\n",
       "      <td>7.1717</td>\n",
       "      <td>0.0001</td>\n",
       "    </tr>\n",
       "    <tr>\n",
       "      <th>280040</th>\n",
       "      <td>2020-08-24</td>\n",
       "      <td>300216.SZ</td>\n",
       "      <td>4.7098</td>\n",
       "      <td>4.7098</td>\n",
       "      <td>0.0001</td>\n",
       "    </tr>\n",
       "    <tr>\n",
       "      <th>280029</th>\n",
       "      <td>2020-08-07</td>\n",
       "      <td>300216.SZ</td>\n",
       "      <td>14.8786</td>\n",
       "      <td>14.8786</td>\n",
       "      <td>0.0001</td>\n",
       "    </tr>\n",
       "  </tbody>\n",
       "</table>\n",
       "</div>"
      ],
      "text/plain": [
       "             交易日期       股票代码      开盘价      收盘价  换手率(%)\n",
       "280036 2020-08-18  300216.SZ   7.1717   7.1717  0.0001\n",
       "280040 2020-08-24  300216.SZ   4.7098   4.7098  0.0001\n",
       "280029 2020-08-07  300216.SZ  14.8786  14.8786  0.0001"
      ]
     },
     "execution_count": 27,
     "metadata": {},
     "output_type": "execute_result"
    }
   ],
   "source": [
    "stock_daily0.sort_values(by=\"换手率(%)\")[[\"交易日期\",\"股票代码\",\"开盘价\",\"收盘价\",\"换手率(%)\"]].head(3)"
   ]
  },
  {
   "cell_type": "code",
   "execution_count": 29,
   "metadata": {},
   "outputs": [],
   "source": [
    "#stock_daily0"
   ]
  },
  {
   "cell_type": "code",
   "execution_count": 40,
   "metadata": {},
   "outputs": [],
   "source": [
    "def buy_highest_huan(ctx):\n",
    "    # If there are no long positions across all tickers being traded:\n",
    "    if not tuple(ctx.long_positions()):\n",
    "        ctx.buy_limit_price = ctx.close[-1] * 1.095\n",
    "        ctx.buy_shares = ctx.calc_target_shares(0.2)\n",
    "        ctx.hold_bars = 25\n",
    "        ctx.score = -ctx.huanshou[-1]"
   ]
  },
  {
   "cell_type": "code",
   "execution_count": null,
   "metadata": {},
   "outputs": [],
   "source": [
    "def print_rank(ctxs: dict[str, ExecContext]) -> bool:\n",
    "    dt = tuple(ctxs.values())[0].dt\n",
    "    print(dt)\n",
    "    symbols = []\n",
    "    scores = []\n",
    "    for ctx in ctxs.values():\n",
    "        symbols.append(ctx.symbol)\n",
    "        scores.append(ctx.score)\n",
    "    \n",
    "    v_rank = pd.DataFrame({\"symbol\": symbols, \"score\": scores}).sort_values(by=\"score\", ascending=False)\n",
    "    print(v_rank.head(7))\n",
    "\n",
    "    return False"
   ]
  },
  {
   "cell_type": "code",
   "execution_count": 55,
   "metadata": {},
   "outputs": [
    {
     "name": "stdout",
     "output_type": "stream",
     "text": [
      "Backtesting: 2018-02-22 00:00:00 to 2018-02-24 00:00:00\n",
      "\n",
      "Test split: 2018-02-22 00:00:00 to 2018-02-23 00:00:00\n"
     ]
    },
    {
     "name": "stderr",
     "output_type": "stream",
     "text": [
      "  0% (0 of 2) |                          | Elapsed Time: 0:00:00 ETA:  --:--:--\n"
     ]
    },
    {
     "name": "stdout",
     "output_type": "stream",
     "text": [
      "2018-02-22 00:00:00\n",
      "        symbol   score\n",
      "152  300174.SZ -0.0392\n",
      "96   300110.SZ -0.0931\n",
      "301  300342.SZ -0.1054\n",
      "94   300108.SZ -0.1247\n",
      "336  300381.SZ -0.1263\n",
      "264  300301.SZ -0.1266\n",
      "214  300243.SZ -0.1336\n"
     ]
    },
    {
     "name": "stderr",
     "output_type": "stream",
     "text": [
      " 50% (1 of 2) |#############             | Elapsed Time: 0:00:01 ETA:   0:00:01\n",
      "100% (2 of 2) |##########################| Elapsed Time: 0:00:01 ETA:  00:00:00\n",
      "100% (2 of 2) |##########################| Elapsed Time: 0:00:01 Time:  0:00:01\n"
     ]
    },
    {
     "name": "stdout",
     "output_type": "stream",
     "text": [
      "2018-02-23 00:00:00\n",
      "      symbol score\n",
      "0  300001.SZ  None\n",
      "1  300002.SZ  None\n",
      "2  300003.SZ  None\n",
      "3  300005.SZ  None\n",
      "4  300006.SZ  None\n",
      "5  300007.SZ  None\n",
      "6  300008.SZ  None\n",
      "\n",
      "Finished backtest: 0:00:02\n"
     ]
    }
   ],
   "source": [
    "pybroker.register_columns('huanshou')\n",
    "config = StrategyConfig(max_long_positions=5)\n",
    "strategy = Strategy(pyb_data_huan, '2018-02-22', '2018-02-24', config)\n",
    "strategy.add_execution(buy_highest_huan, pyb_data_huan.symbol.unique())\n",
    "strategy.set_after_exec(print_rank)\n",
    "result = strategy.backtest()"
   ]
  },
  {
   "cell_type": "code",
   "execution_count": 57,
   "metadata": {},
   "outputs": [
    {
     "data": {
      "text/html": [
       "<div>\n",
       "<style scoped>\n",
       "    .dataframe tbody tr th:only-of-type {\n",
       "        vertical-align: middle;\n",
       "    }\n",
       "\n",
       "    .dataframe tbody tr th {\n",
       "        vertical-align: top;\n",
       "    }\n",
       "\n",
       "    .dataframe thead th {\n",
       "        text-align: right;\n",
       "    }\n",
       "</style>\n",
       "<table border=\"1\" class=\"dataframe\">\n",
       "  <thead>\n",
       "    <tr style=\"text-align: right;\">\n",
       "      <th></th>\n",
       "      <th>type</th>\n",
       "      <th>symbol</th>\n",
       "      <th>date</th>\n",
       "      <th>shares</th>\n",
       "      <th>limit_price</th>\n",
       "      <th>fill_price</th>\n",
       "      <th>fees</th>\n",
       "    </tr>\n",
       "    <tr>\n",
       "      <th>id</th>\n",
       "      <th></th>\n",
       "      <th></th>\n",
       "      <th></th>\n",
       "      <th></th>\n",
       "      <th></th>\n",
       "      <th></th>\n",
       "      <th></th>\n",
       "    </tr>\n",
       "  </thead>\n",
       "  <tbody>\n",
       "    <tr>\n",
       "      <th>1</th>\n",
       "      <td>buy</td>\n",
       "      <td>300174.SZ</td>\n",
       "      <td>2018-02-23</td>\n",
       "      <td>184</td>\n",
       "      <td>118.65</td>\n",
       "      <td>107.01</td>\n",
       "      <td>0.0</td>\n",
       "    </tr>\n",
       "    <tr>\n",
       "      <th>2</th>\n",
       "      <td>buy</td>\n",
       "      <td>300110.SZ</td>\n",
       "      <td>2018-02-23</td>\n",
       "      <td>460</td>\n",
       "      <td>47.60</td>\n",
       "      <td>39.14</td>\n",
       "      <td>0.0</td>\n",
       "    </tr>\n",
       "    <tr>\n",
       "      <th>3</th>\n",
       "      <td>buy</td>\n",
       "      <td>300342.SZ</td>\n",
       "      <td>2018-02-23</td>\n",
       "      <td>362</td>\n",
       "      <td>60.47</td>\n",
       "      <td>55.52</td>\n",
       "      <td>0.0</td>\n",
       "    </tr>\n",
       "    <tr>\n",
       "      <th>4</th>\n",
       "      <td>buy</td>\n",
       "      <td>300108.SZ</td>\n",
       "      <td>2018-02-23</td>\n",
       "      <td>397</td>\n",
       "      <td>55.14</td>\n",
       "      <td>50.63</td>\n",
       "      <td>0.0</td>\n",
       "    </tr>\n",
       "    <tr>\n",
       "      <th>5</th>\n",
       "      <td>buy</td>\n",
       "      <td>300381.SZ</td>\n",
       "      <td>2018-02-23</td>\n",
       "      <td>310</td>\n",
       "      <td>70.63</td>\n",
       "      <td>64.47</td>\n",
       "      <td>0.0</td>\n",
       "    </tr>\n",
       "  </tbody>\n",
       "</table>\n",
       "</div>"
      ],
      "text/plain": [
       "   type     symbol       date  shares  limit_price  fill_price  fees\n",
       "id                                                                  \n",
       "1   buy  300174.SZ 2018-02-23     184       118.65      107.01   0.0\n",
       "2   buy  300110.SZ 2018-02-23     460        47.60       39.14   0.0\n",
       "3   buy  300342.SZ 2018-02-23     362        60.47       55.52   0.0\n",
       "4   buy  300108.SZ 2018-02-23     397        55.14       50.63   0.0\n",
       "5   buy  300381.SZ 2018-02-23     310        70.63       64.47   0.0"
      ]
     },
     "execution_count": 57,
     "metadata": {},
     "output_type": "execute_result"
    }
   ],
   "source": [
    "result.orders.head(10)"
   ]
  },
  {
   "cell_type": "code",
   "execution_count": 58,
   "metadata": {},
   "outputs": [
    {
     "data": {
      "text/html": [
       "<div>\n",
       "<style scoped>\n",
       "    .dataframe tbody tr th:only-of-type {\n",
       "        vertical-align: middle;\n",
       "    }\n",
       "\n",
       "    .dataframe tbody tr th {\n",
       "        vertical-align: top;\n",
       "    }\n",
       "\n",
       "    .dataframe thead th {\n",
       "        text-align: right;\n",
       "    }\n",
       "</style>\n",
       "<table border=\"1\" class=\"dataframe\">\n",
       "  <thead>\n",
       "    <tr style=\"text-align: right;\">\n",
       "      <th></th>\n",
       "      <th>name</th>\n",
       "      <th>value</th>\n",
       "    </tr>\n",
       "  </thead>\n",
       "  <tbody>\n",
       "    <tr>\n",
       "      <th>0</th>\n",
       "      <td>trade_count</td>\n",
       "      <td>0.00</td>\n",
       "    </tr>\n",
       "    <tr>\n",
       "      <th>1</th>\n",
       "      <td>initial_market_value</td>\n",
       "      <td>100000.00</td>\n",
       "    </tr>\n",
       "    <tr>\n",
       "      <th>2</th>\n",
       "      <td>end_market_value</td>\n",
       "      <td>99715.86</td>\n",
       "    </tr>\n",
       "    <tr>\n",
       "      <th>3</th>\n",
       "      <td>total_pnl</td>\n",
       "      <td>0.00</td>\n",
       "    </tr>\n",
       "    <tr>\n",
       "      <th>4</th>\n",
       "      <td>unrealized_pnl</td>\n",
       "      <td>-284.14</td>\n",
       "    </tr>\n",
       "  </tbody>\n",
       "</table>\n",
       "</div>"
      ],
      "text/plain": [
       "                   name      value\n",
       "0           trade_count       0.00\n",
       "1  initial_market_value  100000.00\n",
       "2      end_market_value   99715.86\n",
       "3             total_pnl       0.00\n",
       "4        unrealized_pnl    -284.14"
      ]
     },
     "execution_count": 58,
     "metadata": {},
     "output_type": "execute_result"
    }
   ],
   "source": [
    "result.metrics_df.head()"
   ]
  },
  {
   "cell_type": "code",
   "execution_count": 52,
   "metadata": {},
   "outputs": [
    {
     "data": {
      "text/plain": [
       "<Axes: xlabel='date'>"
      ]
     },
     "execution_count": 52,
     "metadata": {},
     "output_type": "execute_result"
    },
    {
     "data": {
      "image/png": "[encoded data removed]",
      "text/plain": [
       "<Figure size 1800x400 with 1 Axes>"
      ]
     },
     "metadata": {},
     "output_type": "display_data"
    }
   ],
   "source": [
    "index_time_scale=index_zh_a_hist_df[\"收盘\"]/index_zh_a_hist_df[\"收盘\"].iloc[0]\n",
    "index_time_scale.plot(figsize=(18,4))\n",
    "(result.portfolio.equity/100000).plot()"
   ]
  },
  {
   "cell_type": "markdown",
   "metadata": {},
   "source": [
    "## 多因子策略\n",
    "\n",
    "1 选择多个因子， 先给每个因子单独排序， 序号加权求和\n",
    "\n",
    "* pandas 分组回顾\n",
    "\n",
    "* rank的用法"
   ]
  },
  {
   "cell_type": "code",
   "execution_count": 70,
   "metadata": {},
   "outputs": [
    {
     "name": "stdout",
     "output_type": "stream",
     "text": [
      "        index       交易日期       股票代码  股票简称       开盘价       最高价       最低价  \\\n",
      "844755      3 2018-01-02  300684.SZ  中石科技   15.3300   15.3300   15.3300   \n",
      "902773      1 2018-01-02  300735.SZ  光弘科技   15.8300   15.8300   15.8300   \n",
      "774772    195 2018-01-02  300626.SZ  华瑞股份   28.8000   28.8600   28.1000   \n",
      "710444    263 2018-01-02  300572.SZ  安车检测   64.1507   64.7680   62.9970   \n",
      "560223    653 2018-01-02  300448.SZ  浩云科技   54.3084   55.5358   54.3084   \n",
      "...       ...        ...        ...   ...       ...       ...       ...   \n",
      "449484   1156 2018-01-02  300355.SZ  蒙草生态  123.0629  124.9245  120.5154   \n",
      "54093    1793 2018-01-02  300027.SZ  华谊兄弟  133.6618  136.0701  132.0060   \n",
      "92211    1830 2018-01-02  300059.SZ  东方财富  348.4208  351.6345  344.4037   \n",
      "126306   1407 2018-01-02  300088.SZ  长信科技  127.4941  129.7708  123.2660   \n",
      "41864    1935 2018-01-02  300017.SZ  网宿科技  246.7998  254.4832  242.6089   \n",
      "\n",
      "             收盘价     成交量(手)     成交额(千元)  ...  市盈率(动态)     市净率      市销率  \\\n",
      "844755   15.3300      41.27      63.266  ...    33.61  2.6551   6.7116   \n",
      "902773   15.8300     194.18     307.386  ...    29.91  3.5625   4.5759   \n",
      "774772   28.3700    1101.00    3125.683  ...    50.51  6.0339   4.1261   \n",
      "710444   64.2215    1225.56    7717.646  ...    52.89  7.7419  13.4135   \n",
      "560223   54.8846    1484.92    3243.252  ...   243.91  4.6594   8.7796   \n",
      "...          ...        ...         ...  ...      ...     ...      ...   \n",
      "449484  124.8265  382096.58  479552.084  ...    21.35  5.8791   7.1449   \n",
      "54093   133.9628  416208.88  371274.165  ...    30.79  2.6088   7.0482   \n",
      "92211   348.1530  508378.14  660022.824  ...    91.38  4.2045  46.3439   \n",
      "126306  128.9577  644336.46  502355.260  ...    29.89  4.2822   2.1343   \n",
      "41864   249.8266  738318.62  788649.492  ...    33.88  3.3491   5.8184   \n",
      "\n",
      "        市销率(TTM)  股息率(%)  股息率(TTM)(%)      总股本(万股)     流通股本(万股)       总市值(万元)  \\\n",
      "844755    6.7116     NaN          NaN    8687.0000    2172.0000  1.331717e+05   \n",
      "902773    4.5683     NaN          NaN   35468.0000    8868.0000  5.614584e+05   \n",
      "774772    3.4895     NaN          NaN   10000.0000    2500.0000  2.837000e+05   \n",
      "710444   11.0349  0.7811       0.7811    6725.4000    3088.5800  4.267939e+05   \n",
      "560223    9.1960  0.3679       0.3679   21837.0659    8105.7097  4.784501e+05   \n",
      "...          ...     ...          ...          ...          ...           ...   \n",
      "449484    3.6567  0.2943       0.2943  160424.2081  115846.3360  2.043804e+06   \n",
      "54093     6.5479  0.3384       0.3384  277450.5919  192038.1277  2.469310e+06   \n",
      "92211    53.8786  0.2553       0.2553  428877.9718  318819.6076  5.575414e+06   \n",
      "126306    1.4728  0.3153       0.3153  229887.9814  225677.3966  1.823012e+06   \n",
      "41864     5.1523  0.7745       0.7745  241114.9148  159121.5164  2.587163e+06   \n",
      "\n",
      "            流通市值(万元)  \n",
      "844755  3.329676e+04  \n",
      "902773  1.403804e+05  \n",
      "774772  7.092500e+04  \n",
      "710444  1.960013e+05  \n",
      "560223  1.775961e+05  \n",
      "...              ...  \n",
      "449484  1.475882e+06  \n",
      "54093   1.709139e+06  \n",
      "92211   4.144655e+06  \n",
      "126306  1.789622e+06  \n",
      "41864   1.707374e+06  \n",
      "\n",
      "[663 rows x 24 columns]\n"
     ]
    }
   ],
   "source": [
    "for i in stock_daily0.groupby(\"交易日期\"):\n",
    "    print(i[1].sort_values(by=\"成交量(手)\"))\n",
    "    break"
   ]
  },
  {
   "cell_type": "code",
   "execution_count": 122,
   "metadata": {},
   "outputs": [
    {
     "name": "stdout",
     "output_type": "stream",
     "text": [
      "     A      B  C    D\n",
      "0  foo    one  1  2.0\n",
      "1  bar    one  5  5.0\n",
      "2  foo    two  5  8.0\n",
      "3  bar  three  2  1.0\n",
      "4  foo    two  5  2.0\n",
      "5  bar    two  5  9.0\n",
      "6  foo    one  6  4.0\n",
      "7  foo  three  7  6.0\n",
      "A     \n",
      "bar  1    2\n",
      "     3   -1\n",
      "     5    2\n",
      "foo  0   -4\n",
      "     2    0\n",
      "     4    0\n",
      "     6    1\n",
      "     7    2\n",
      "Name: C, dtype: int64\n",
      "0   -4\n",
      "1    2\n",
      "2    0\n",
      "3   -1\n",
      "4    0\n",
      "5    2\n",
      "6    1\n",
      "7    2\n",
      "Name: C, dtype: int64\n"
     ]
    }
   ],
   "source": [
    "#group_keys的作用\n",
    "df = pd.DataFrame({\n",
    "    'A': ['foo', 'bar', 'foo', 'bar', 'foo', 'bar', 'foo', 'foo'],\n",
    "    'B': ['one', 'one', 'two', 'three', 'two', 'two', 'one', 'three'],\n",
    "    'C': [1, 5, 5, 2, 5, 5, 6, 7],\n",
    "    'D': [2.0, 5., 8., 1., 2., 9., 4., 6.]\n",
    "})\n",
    "\n",
    "# 自定义函数，用于计算每个分组的平均C列和D列的和\n",
    "def custom_func(x):\n",
    "    return x-len(x)\n",
    "\n",
    "print(df) \n",
    "# 使用groupby应用自定义函数\n",
    "grouped = df.groupby('A')[\"C\"].apply(custom_func)\n",
    "print(grouped)\n",
    "grouped = df.groupby('A', group_keys=False)[\"C\"].apply(custom_func)\n",
    "print(grouped)"
   ]
  },
  {
   "cell_type": "code",
   "execution_count": 73,
   "metadata": {},
   "outputs": [
    {
     "data": {
      "text/plain": [
       "0          115.0\n",
       "1          152.0\n",
       "2          119.0\n",
       "3          108.0\n",
       "4           90.0\n",
       "           ...  \n",
       "1132744      NaN\n",
       "1132745      NaN\n",
       "1132746      NaN\n",
       "1132747      NaN\n",
       "1132748      NaN\n",
       "Name: 市盈率(静态), Length: 1132749, dtype: float64"
      ]
     },
     "execution_count": 73,
     "metadata": {},
     "output_type": "execute_result"
    }
   ],
   "source": [
    "stock_daily0.groupby(\"交易日期\")[\"市盈率(静态)\"].rank()"
   ]
  },
  {
   "cell_type": "code",
   "execution_count": 60,
   "metadata": {},
   "outputs": [
    {
     "data": {
      "text/plain": [
       "Index(['index', '交易日期', '股票代码', '股票简称', '开盘价', '最高价', '最低价', '收盘价', '成交量(手)',\n",
       "       '成交额(千元)', '换手率(%)', '量比', '市盈率(静态)', '市盈率(TTM)', '市盈率(动态)', '市净率',\n",
       "       '市销率', '市销率(TTM)', '股息率(%)', '股息率(TTM)(%)', '总股本(万股)', '流通股本(万股)',\n",
       "       '总市值(万元)', '流通市值(万元)'],\n",
       "      dtype='object')"
      ]
     },
     "execution_count": 60,
     "metadata": {},
     "output_type": "execute_result"
    }
   ],
   "source": [
    "stock_daily0.columns"
   ]
  },
  {
   "cell_type": "code",
   "execution_count": 25,
   "metadata": {},
   "outputs": [
    {
     "data": {
      "text/plain": [
       "0          646.0\n",
       "1          610.0\n",
       "2          644.0\n",
       "3          657.0\n",
       "4          676.0\n",
       "           ...  \n",
       "1132744      NaN\n",
       "1132745      NaN\n",
       "1132746      NaN\n",
       "1132747      NaN\n",
       "1132748      NaN\n",
       "Name: 市盈率(静态), Length: 1132749, dtype: float64"
      ]
     },
     "execution_count": 25,
     "metadata": {},
     "output_type": "execute_result"
    }
   ],
   "source": [
    "stock_daily0.groupby(\"交易日期\")[\"市盈率(静态)\"].rank(ascending=False)"
   ]
  },
  {
   "cell_type": "code",
   "execution_count": 74,
   "metadata": {},
   "outputs": [],
   "source": [
    "stock_daily0[\"pe_rank\"]=stock_daily0.groupby(\"交易日期\")[\"市盈率(静态)\"].rank(ascending=False)\n",
    "stock_daily0[\"hs_rank\"]=stock_daily0.groupby(\"交易日期\")[\"换手率(%)\"].rank()\n",
    "stock_daily0[\"sz_rank\"]=stock_daily0.groupby(\"交易日期\")[\"总市值(万元)\"].rank()"
   ]
  },
  {
   "cell_type": "code",
   "execution_count": 76,
   "metadata": {},
   "outputs": [],
   "source": [
    "#stock_daily0.head(10)"
   ]
  },
  {
   "cell_type": "code",
   "execution_count": 65,
   "metadata": {},
   "outputs": [
    {
     "data": {
      "text/plain": [
       "array(['003001.SZ', '003002.SZ', '003003.SZ', ..., '301398.SZ',\n",
       "       '301419.SZ', '430047.BJ'], dtype=object)"
      ]
     },
     "execution_count": 65,
     "metadata": {},
     "output_type": "execute_result"
    }
   ],
   "source": [
    "pyb_data_huan.symbol.unique()"
   ]
  },
  {
   "cell_type": "markdown",
   "metadata": {},
   "source": []
  },
  {
   "cell_type": "markdown",
   "metadata": {},
   "source": []
  },
  {
   "cell_type": "code",
   "execution_count": 73,
   "metadata": {},
   "outputs": [
    {
     "data": {
      "text/html": [
       "<div>\n",
       "<style scoped>\n",
       "    .dataframe tbody tr th:only-of-type {\n",
       "        vertical-align: middle;\n",
       "    }\n",
       "\n",
       "    .dataframe tbody tr th {\n",
       "        vertical-align: top;\n",
       "    }\n",
       "\n",
       "    .dataframe thead th {\n",
       "        text-align: right;\n",
       "    }\n",
       "</style>\n",
       "<table border=\"1\" class=\"dataframe\">\n",
       "  <thead>\n",
       "    <tr style=\"text-align: right;\">\n",
       "      <th></th>\n",
       "      <th>交易日期</th>\n",
       "      <th>股票代码</th>\n",
       "      <th>开盘价</th>\n",
       "      <th>收盘价</th>\n",
       "      <th>市盈率(静态)</th>\n",
       "      <th>pe_rank</th>\n",
       "    </tr>\n",
       "  </thead>\n",
       "  <tbody>\n",
       "    <tr>\n",
       "      <th>837457</th>\n",
       "      <td>2023-02-10</td>\n",
       "      <td>300677.SZ</td>\n",
       "      <td>151.1040</td>\n",
       "      <td>152.4829</td>\n",
       "      <td>2.3559</td>\n",
       "      <td>1103.0</td>\n",
       "    </tr>\n",
       "    <tr>\n",
       "      <th>211215</th>\n",
       "      <td>2023-02-10</td>\n",
       "      <td>300158.SZ</td>\n",
       "      <td>40.7969</td>\n",
       "      <td>40.5614</td>\n",
       "      <td>2.7047</td>\n",
       "      <td>1102.0</td>\n",
       "    </tr>\n",
       "    <tr>\n",
       "      <th>1059739</th>\n",
       "      <td>2023-02-10</td>\n",
       "      <td>300981.SZ</td>\n",
       "      <td>40.5587</td>\n",
       "      <td>41.5137</td>\n",
       "      <td>2.7286</td>\n",
       "      <td>1101.0</td>\n",
       "    </tr>\n",
       "    <tr>\n",
       "      <th>792099</th>\n",
       "      <td>2023-02-10</td>\n",
       "      <td>300639.SZ</td>\n",
       "      <td>83.9986</td>\n",
       "      <td>83.7654</td>\n",
       "      <td>9.2632</td>\n",
       "      <td>1100.0</td>\n",
       "    </tr>\n",
       "    <tr>\n",
       "      <th>901533</th>\n",
       "      <td>2023-02-10</td>\n",
       "      <td>300732.SZ</td>\n",
       "      <td>45.1845</td>\n",
       "      <td>45.4174</td>\n",
       "      <td>9.8451</td>\n",
       "      <td>1099.0</td>\n",
       "    </tr>\n",
       "    <tr>\n",
       "      <th>358765</th>\n",
       "      <td>2023-02-10</td>\n",
       "      <td>300280.SZ</td>\n",
       "      <td>18.8467</td>\n",
       "      <td>19.2859</td>\n",
       "      <td>9.8604</td>\n",
       "      <td>1098.0</td>\n",
       "    </tr>\n",
       "    <tr>\n",
       "      <th>333048</th>\n",
       "      <td>2023-02-10</td>\n",
       "      <td>300259.SZ</td>\n",
       "      <td>55.5570</td>\n",
       "      <td>55.5570</td>\n",
       "      <td>10.4133</td>\n",
       "      <td>1097.0</td>\n",
       "    </tr>\n",
       "    <tr>\n",
       "      <th>1004826</th>\n",
       "      <td>2023-02-10</td>\n",
       "      <td>300867.SZ</td>\n",
       "      <td>18.7662</td>\n",
       "      <td>18.8877</td>\n",
       "      <td>10.7535</td>\n",
       "      <td>1096.0</td>\n",
       "    </tr>\n",
       "    <tr>\n",
       "      <th>256633</th>\n",
       "      <td>2023-02-10</td>\n",
       "      <td>300196.SZ</td>\n",
       "      <td>54.5076</td>\n",
       "      <td>54.2606</td>\n",
       "      <td>10.9817</td>\n",
       "      <td>1095.0</td>\n",
       "    </tr>\n",
       "    <tr>\n",
       "      <th>725245</th>\n",
       "      <td>2023-02-10</td>\n",
       "      <td>300584.SZ</td>\n",
       "      <td>44.4498</td>\n",
       "      <td>43.5868</td>\n",
       "      <td>11.6609</td>\n",
       "      <td>1094.0</td>\n",
       "    </tr>\n",
       "  </tbody>\n",
       "</table>\n",
       "</div>"
      ],
      "text/plain": [
       "              交易日期       股票代码       开盘价       收盘价  市盈率(静态)  pe_rank\n",
       "837457  2023-02-10  300677.SZ  151.1040  152.4829   2.3559   1103.0\n",
       "211215  2023-02-10  300158.SZ   40.7969   40.5614   2.7047   1102.0\n",
       "1059739 2023-02-10  300981.SZ   40.5587   41.5137   2.7286   1101.0\n",
       "792099  2023-02-10  300639.SZ   83.9986   83.7654   9.2632   1100.0\n",
       "901533  2023-02-10  300732.SZ   45.1845   45.4174   9.8451   1099.0\n",
       "358765  2023-02-10  300280.SZ   18.8467   19.2859   9.8604   1098.0\n",
       "333048  2023-02-10  300259.SZ   55.5570   55.5570  10.4133   1097.0\n",
       "1004826 2023-02-10  300867.SZ   18.7662   18.8877  10.7535   1096.0\n",
       "256633  2023-02-10  300196.SZ   54.5076   54.2606  10.9817   1095.0\n",
       "725245  2023-02-10  300584.SZ   44.4498   43.5868  11.6609   1094.0"
      ]
     },
     "execution_count": 73,
     "metadata": {},
     "output_type": "execute_result"
    }
   ],
   "source": [
    "stock_daily0[stock_daily0[\"交易日期\"]==\"2023-02-10\"].sort_values(by=\"市盈率(静态)\")[[\"交易日期\",\"股票代码\",\"开盘价\",\"收盘价\",\"市盈率(静态)\",\"pe_rank\"]].head(10)"
   ]
  },
  {
   "cell_type": "code",
   "execution_count": 77,
   "metadata": {},
   "outputs": [],
   "source": [
    "stock_daily0[\"muti_factor_rank\"]=stock_daily0[\"pe_rank\"]*1+stock_daily0[\"hs_rank\"]*0.3+stock_daily0[\"sz_rank\"]*0.9"
   ]
  },
  {
   "cell_type": "code",
   "execution_count": 76,
   "metadata": {},
   "outputs": [],
   "source": [
    "#stock_daily0[\"muti_factor_rank\"]"
   ]
  },
  {
   "cell_type": "code",
   "execution_count": 78,
   "metadata": {},
   "outputs": [],
   "source": [
    "pyb_data_huan=stock_daily0[[\"交易日期\",\"股票代码\",\"开盘价\",\"最高价\",\"最低价\",\"收盘价\",\"成交量(手)\",\"muti_factor_rank\"]]\n",
    "pyb_data_huan.columns=[\"date\",\"symbol\",\"open\",\"high\",\"low\",\"close\",\"volume\",\"huanshou\",]"
   ]
  },
  {
   "cell_type": "code",
   "execution_count": 83,
   "metadata": {},
   "outputs": [],
   "source": [
    "def buy_highest_huan(ctx):\n",
    "    # If there are no long positions across all tickers being traded:\n",
    "    if not tuple(ctx.long_positions()):\n",
    "        ctx.buy_limit_price = ctx.close[-1] * 1.095\n",
    "        ctx.buy_shares = ctx.calc_target_shares(0.1)\n",
    "        ctx.hold_bars = 25\n",
    "        ctx.score = -ctx.huanshou[-1]"
   ]
  },
  {
   "cell_type": "code",
   "execution_count": 84,
   "metadata": {},
   "outputs": [
    {
     "name": "stdout",
     "output_type": "stream",
     "text": [
      "Backtesting: 2018-02-22 00:00:00 to 2023-02-24 00:00:00\n",
      "\n",
      "Test split: 2018-02-22 00:00:00 to 2023-02-17 00:00:00\n"
     ]
    },
    {
     "name": "stderr",
     "output_type": "stream",
     "text": [
      "  0% (0 of 1212) |                       | Elapsed Time: 0:00:00 ETA:  --:--:--\n",
      "  0% (1 of 1212) |                       | Elapsed Time: 0:00:01 ETA:   0:31:04\n",
      "  0% (11 of 1212) |                      | Elapsed Time: 0:00:02 ETA:   0:04:39\n",
      "  1% (21 of 1212) |                      | Elapsed Time: 0:00:02 ETA:   0:02:30\n",
      "  2% (31 of 1212) |                      | Elapsed Time: 0:00:02 ETA:   0:01:50\n",
      "  4% (51 of 1212) |                      | Elapsed Time: 0:00:03 ETA:   0:01:09\n",
      "  5% (61 of 1212) |#                     | Elapsed Time: 0:00:03 ETA:   0:01:01\n",
      "  5% (71 of 1212) |#                     | Elapsed Time: 0:00:03 ETA:   0:00:54\n",
      "  6% (81 of 1212) |#                     | Elapsed Time: 0:00:03 ETA:   0:00:49\n",
      "  8% (101 of 1212) |#                    | Elapsed Time: 0:00:03 ETA:   0:00:41\n",
      "  9% (111 of 1212) |#                    | Elapsed Time: 0:00:03 ETA:   0:00:39\n",
      "  9% (121 of 1212) |##                   | Elapsed Time: 0:00:04 ETA:   0:00:36\n",
      " 10% (131 of 1212) |##                   | Elapsed Time: 0:00:04 ETA:   0:00:34\n",
      " 11% (141 of 1212) |##                   | Elapsed Time: 0:00:04 ETA:   0:00:33\n",
      " 13% (161 of 1212) |##                   | Elapsed Time: 0:00:04 ETA:   0:00:29\n",
      " 14% (171 of 1212) |##                   | Elapsed Time: 0:00:04 ETA:   0:00:28\n",
      " 15% (191 of 1212) |###                  | Elapsed Time: 0:00:04 ETA:   0:00:26\n",
      " 16% (201 of 1212) |###                  | Elapsed Time: 0:00:05 ETA:   0:00:25\n",
      " 17% (211 of 1212) |###                  | Elapsed Time: 0:00:05 ETA:   0:00:24\n",
      " 18% (221 of 1212) |###                  | Elapsed Time: 0:00:05 ETA:   0:00:23\n",
      " 19% (231 of 1212) |####                 | Elapsed Time: 0:00:05 ETA:   0:00:22\n",
      " 19% (241 of 1212) |####                 | Elapsed Time: 0:00:05 ETA:   0:00:22\n",
      " 20% (251 of 1212) |####                 | Elapsed Time: 0:00:05 ETA:   0:00:21\n",
      " 21% (261 of 1212) |####                 | Elapsed Time: 0:00:05 ETA:   0:00:21\n",
      " 22% (271 of 1212) |####                 | Elapsed Time: 0:00:05 ETA:   0:00:20\n",
      " 23% (281 of 1212) |####                 | Elapsed Time: 0:00:06 ETA:   0:00:19\n",
      " 24% (291 of 1212) |#####                | Elapsed Time: 0:00:06 ETA:   0:00:19\n",
      " 24% (301 of 1212) |#####                | Elapsed Time: 0:00:06 ETA:   0:00:19\n",
      " 25% (311 of 1212) |#####                | Elapsed Time: 0:00:06 ETA:   0:00:18\n",
      " 26% (321 of 1212) |#####                | Elapsed Time: 0:00:06 ETA:   0:00:18\n",
      " 27% (331 of 1212) |#####                | Elapsed Time: 0:00:06 ETA:   0:00:17\n",
      " 28% (341 of 1212) |#####                | Elapsed Time: 0:00:06 ETA:   0:00:17\n",
      " 29% (361 of 1212) |######               | Elapsed Time: 0:00:07 ETA:   0:00:16\n",
      " 30% (371 of 1212) |######               | Elapsed Time: 0:00:07 ETA:   0:00:16\n",
      " 32% (391 of 1212) |######               | Elapsed Time: 0:00:07 ETA:   0:00:15\n",
      " 33% (401 of 1212) |######               | Elapsed Time: 0:00:07 ETA:   0:00:15\n",
      " 34% (421 of 1212) |#######              | Elapsed Time: 0:00:07 ETA:   0:00:14\n",
      " 35% (431 of 1212) |#######              | Elapsed Time: 0:00:07 ETA:   0:00:14\n",
      " 37% (451 of 1212) |#######              | Elapsed Time: 0:00:08 ETA:   0:00:13\n",
      " 38% (461 of 1212) |#######              | Elapsed Time: 0:00:08 ETA:   0:00:13\n",
      " 38% (471 of 1212) |########             | Elapsed Time: 0:00:08 ETA:   0:00:13\n",
      " 39% (481 of 1212) |########             | Elapsed Time: 0:00:08 ETA:   0:00:13\n",
      " 40% (491 of 1212) |########             | Elapsed Time: 0:00:08 ETA:   0:00:12\n",
      " 41% (501 of 1212) |########             | Elapsed Time: 0:00:08 ETA:   0:00:12\n",
      " 42% (511 of 1212) |########             | Elapsed Time: 0:00:08 ETA:   0:00:12\n",
      " 42% (521 of 1212) |#########            | Elapsed Time: 0:00:09 ETA:   0:00:12\n",
      " 43% (531 of 1212) |#########            | Elapsed Time: 0:00:09 ETA:   0:00:11\n",
      " 44% (541 of 1212) |#########            | Elapsed Time: 0:00:09 ETA:   0:00:11\n",
      " 45% (551 of 1212) |#########            | Elapsed Time: 0:00:09 ETA:   0:00:11\n",
      " 46% (561 of 1212) |#########            | Elapsed Time: 0:00:09 ETA:   0:00:11\n",
      " 47% (571 of 1212) |#########            | Elapsed Time: 0:00:09 ETA:   0:00:10\n",
      " 47% (581 of 1212) |##########           | Elapsed Time: 0:00:09 ETA:   0:00:10\n",
      " 48% (591 of 1212) |##########           | Elapsed Time: 0:00:10 ETA:   0:00:10\n",
      " 49% (601 of 1212) |##########           | Elapsed Time: 0:00:10 ETA:   0:00:10\n",
      " 51% (621 of 1212) |##########           | Elapsed Time: 0:00:10 ETA:   0:00:09\n",
      " 52% (631 of 1212) |##########           | Elapsed Time: 0:00:10 ETA:   0:00:09\n",
      " 53% (651 of 1212) |###########          | Elapsed Time: 0:00:11 ETA:   0:00:09\n",
      " 54% (661 of 1212) |###########          | Elapsed Time: 0:00:11 ETA:   0:00:09\n",
      " 55% (671 of 1212) |###########          | Elapsed Time: 0:00:11 ETA:   0:00:09\n",
      " 56% (681 of 1212) |###########          | Elapsed Time: 0:00:11 ETA:   0:00:09\n",
      " 57% (691 of 1212) |###########          | Elapsed Time: 0:00:11 ETA:   0:00:08\n",
      " 57% (701 of 1212) |############         | Elapsed Time: 0:00:11 ETA:   0:00:08\n",
      " 58% (711 of 1212) |############         | Elapsed Time: 0:00:12 ETA:   0:00:08\n",
      " 59% (721 of 1212) |############         | Elapsed Time: 0:00:12 ETA:   0:00:08\n",
      " 60% (731 of 1212) |############         | Elapsed Time: 0:00:12 ETA:   0:00:08\n",
      " 61% (741 of 1212) |############         | Elapsed Time: 0:00:12 ETA:   0:00:07\n",
      " 61% (751 of 1212) |#############        | Elapsed Time: 0:00:12 ETA:   0:00:07\n",
      " 62% (761 of 1212) |#############        | Elapsed Time: 0:00:12 ETA:   0:00:07\n",
      " 63% (771 of 1212) |#############        | Elapsed Time: 0:00:13 ETA:   0:00:07\n",
      " 64% (781 of 1212) |#############        | Elapsed Time: 0:00:13 ETA:   0:00:07\n",
      " 65% (791 of 1212) |#############        | Elapsed Time: 0:00:13 ETA:   0:00:07\n",
      " 66% (801 of 1212) |#############        | Elapsed Time: 0:00:13 ETA:   0:00:06\n",
      " 66% (811 of 1212) |##############       | Elapsed Time: 0:00:13 ETA:   0:00:06\n",
      " 67% (821 of 1212) |##############       | Elapsed Time: 0:00:13 ETA:   0:00:06\n",
      " 68% (831 of 1212) |##############       | Elapsed Time: 0:00:13 ETA:   0:00:06\n",
      " 69% (841 of 1212) |##############       | Elapsed Time: 0:00:14 ETA:   0:00:06\n",
      " 70% (851 of 1212) |##############       | Elapsed Time: 0:00:14 ETA:   0:00:06\n",
      " 71% (861 of 1212) |##############       | Elapsed Time: 0:00:14 ETA:   0:00:06\n",
      " 71% (871 of 1212) |###############      | Elapsed Time: 0:00:14 ETA:   0:00:05\n",
      " 72% (881 of 1212) |###############      | Elapsed Time: 0:00:15 ETA:   0:00:05\n",
      " 73% (891 of 1212) |###############      | Elapsed Time: 0:00:15 ETA:   0:00:05\n",
      " 74% (901 of 1212) |###############      | Elapsed Time: 0:00:15 ETA:   0:00:05\n",
      " 75% (911 of 1212) |###############      | Elapsed Time: 0:00:15 ETA:   0:00:05\n",
      " 75% (921 of 1212) |###############      | Elapsed Time: 0:00:15 ETA:   0:00:05\n",
      " 76% (931 of 1212) |################     | Elapsed Time: 0:00:16 ETA:   0:00:04\n",
      " 77% (941 of 1212) |################     | Elapsed Time: 0:00:16 ETA:   0:00:04\n",
      " 78% (951 of 1212) |################     | Elapsed Time: 0:00:16 ETA:   0:00:04\n",
      " 79% (961 of 1212) |################     | Elapsed Time: 0:00:16 ETA:   0:00:04\n",
      " 80% (971 of 1212) |################     | Elapsed Time: 0:00:16 ETA:   0:00:04\n",
      " 80% (981 of 1212) |################     | Elapsed Time: 0:00:17 ETA:   0:00:04\n",
      " 81% (991 of 1212) |#################    | Elapsed Time: 0:00:17 ETA:   0:00:03\n",
      " 82% (1001 of 1212) |################    | Elapsed Time: 0:00:17 ETA:   0:00:03\n",
      " 83% (1011 of 1212) |################    | Elapsed Time: 0:00:17 ETA:   0:00:03\n",
      " 84% (1021 of 1212) |################    | Elapsed Time: 0:00:17 ETA:   0:00:03\n",
      " 85% (1031 of 1212) |#################   | Elapsed Time: 0:00:18 ETA:   0:00:03\n",
      " 85% (1041 of 1212) |#################   | Elapsed Time: 0:00:18 ETA:   0:00:02\n",
      " 86% (1051 of 1212) |#################   | Elapsed Time: 0:00:18 ETA:   0:00:02\n",
      " 87% (1061 of 1212) |#################   | Elapsed Time: 0:00:18 ETA:   0:00:02\n",
      " 88% (1071 of 1212) |#################   | Elapsed Time: 0:00:18 ETA:   0:00:02\n",
      " 89% (1081 of 1212) |#################   | Elapsed Time: 0:00:18 ETA:   0:00:02\n",
      " 90% (1091 of 1212) |##################  | Elapsed Time: 0:00:19 ETA:   0:00:02\n",
      " 90% (1101 of 1212) |##################  | Elapsed Time: 0:00:19 ETA:   0:00:01\n",
      " 91% (1111 of 1212) |##################  | Elapsed Time: 0:00:19 ETA:   0:00:01\n",
      " 92% (1121 of 1212) |##################  | Elapsed Time: 0:00:19 ETA:   0:00:01\n",
      " 93% (1131 of 1212) |##################  | Elapsed Time: 0:00:19 ETA:   0:00:01\n",
      " 94% (1141 of 1212) |##################  | Elapsed Time: 0:00:20 ETA:   0:00:01\n",
      " 94% (1151 of 1212) |##################  | Elapsed Time: 0:00:20 ETA:   0:00:01\n",
      " 95% (1161 of 1212) |################### | Elapsed Time: 0:00:20 ETA:   0:00:00\n",
      " 96% (1171 of 1212) |################### | Elapsed Time: 0:00:20 ETA:   0:00:00\n",
      " 97% (1181 of 1212) |################### | Elapsed Time: 0:00:20 ETA:   0:00:00\n",
      " 98% (1191 of 1212) |################### | Elapsed Time: 0:00:21 ETA:   0:00:00\n",
      " 99% (1201 of 1212) |################### | Elapsed Time: 0:00:21 ETA:   0:00:00\n",
      " 99% (1211 of 1212) |################### | Elapsed Time: 0:00:21 ETA:   0:00:00\n",
      "100% (1212 of 1212) |####################| Elapsed Time: 0:00:21 Time:  0:00:21\n"
     ]
    },
    {
     "name": "stdout",
     "output_type": "stream",
     "text": [
      "\n",
      "Finished backtest: 0:00:23\n"
     ]
    }
   ],
   "source": [
    "pybroker.register_columns('huanshou')\n",
    "config = StrategyConfig(max_long_positions=10)\n",
    "strategy = Strategy(pyb_data_huan, '2018-02-22', '2023-02-24', config)\n",
    "strategy.add_execution(buy_highest_huan, pyb_data_huan.symbol.unique())\n",
    "result = strategy.backtest()"
   ]
  },
  {
   "cell_type": "code",
   "execution_count": 85,
   "metadata": {},
   "outputs": [
    {
     "data": {
      "text/html": [
       "<div>\n",
       "<style scoped>\n",
       "    .dataframe tbody tr th:only-of-type {\n",
       "        vertical-align: middle;\n",
       "    }\n",
       "\n",
       "    .dataframe tbody tr th {\n",
       "        vertical-align: top;\n",
       "    }\n",
       "\n",
       "    .dataframe thead th {\n",
       "        text-align: right;\n",
       "    }\n",
       "</style>\n",
       "<table border=\"1\" class=\"dataframe\">\n",
       "  <thead>\n",
       "    <tr style=\"text-align: right;\">\n",
       "      <th></th>\n",
       "      <th>name</th>\n",
       "      <th>value</th>\n",
       "    </tr>\n",
       "  </thead>\n",
       "  <tbody>\n",
       "    <tr>\n",
       "      <th>0</th>\n",
       "      <td>trade_count</td>\n",
       "      <td>460.00</td>\n",
       "    </tr>\n",
       "    <tr>\n",
       "      <th>1</th>\n",
       "      <td>initial_market_value</td>\n",
       "      <td>100000.00</td>\n",
       "    </tr>\n",
       "    <tr>\n",
       "      <th>2</th>\n",
       "      <td>end_market_value</td>\n",
       "      <td>329087.05</td>\n",
       "    </tr>\n",
       "    <tr>\n",
       "      <th>3</th>\n",
       "      <td>total_pnl</td>\n",
       "      <td>224226.82</td>\n",
       "    </tr>\n",
       "    <tr>\n",
       "      <th>4</th>\n",
       "      <td>unrealized_pnl</td>\n",
       "      <td>4860.23</td>\n",
       "    </tr>\n",
       "  </tbody>\n",
       "</table>\n",
       "</div>"
      ],
      "text/plain": [
       "                   name      value\n",
       "0           trade_count     460.00\n",
       "1  initial_market_value  100000.00\n",
       "2      end_market_value  329087.05\n",
       "3             total_pnl  224226.82\n",
       "4        unrealized_pnl    4860.23"
      ]
     },
     "execution_count": 85,
     "metadata": {},
     "output_type": "execute_result"
    }
   ],
   "source": [
    "result.metrics_df.head()"
   ]
  },
  {
   "cell_type": "code",
   "execution_count": 86,
   "metadata": {},
   "outputs": [
    {
     "data": {
      "text/plain": [
       "<Axes: xlabel='date'>"
      ]
     },
     "execution_count": 86,
     "metadata": {},
     "output_type": "execute_result"
    },
    {
     "data": {
      "image/png": "[encoded data removed]",
      "text/plain": [
       "<Figure size 1800x400 with 1 Axes>"
      ]
     },
     "metadata": {},
     "output_type": "display_data"
    }
   ],
   "source": [
    "index_close=index_zh_a_hist_df[\"收盘\"]\n",
    "index_time_scale=index_close/index_close.iloc[0]\n",
    "index_time_scale.plot(figsize=(18,4))\n",
    "cash_value=result.portfolio.equity/100000\n",
    "cash_value.plot()"
   ]
  },
  {
   "cell_type": "markdown",
   "metadata": {},
   "source": []
  },
  {
   "cell_type": "markdown",
   "metadata": {},
   "source": [
    "## 因子轮动交易\n",
    "\n",
    "* set_before_exec"
   ]
  },
  {
   "cell_type": "code",
   "execution_count": 87,
   "metadata": {},
   "outputs": [
    {
     "data": {
      "text/plain": [
       "Index(['index', '交易日期', '股票代码', '股票简称', '开盘价', '最高价', '最低价', '收盘价', '成交量(手)',\n",
       "       '成交额(千元)', '换手率(%)', '量比', '市盈率(静态)', '市盈率(TTM)', '市盈率(动态)', '市净率',\n",
       "       '市销率', '市销率(TTM)', '股息率(%)', '股息率(TTM)(%)', '总股本(万股)', '流通股本(万股)',\n",
       "       '总市值(万元)', '流通市值(万元)', 'pe_rank', 'hs_rank', 'sz_rank',\n",
       "       'muti_factor_rank'],\n",
       "      dtype='object')"
      ]
     },
     "execution_count": 87,
     "metadata": {},
     "output_type": "execute_result"
    }
   ],
   "source": [
    "stock_daily0.columns"
   ]
  },
  {
   "cell_type": "code",
   "execution_count": 92,
   "metadata": {},
   "outputs": [],
   "source": [
    "pyb_data_ld=stock_daily0[[\"交易日期\",\"股票代码\",\"开盘价\",\"最高价\",\"最低价\",\"收盘价\",\"成交量(手)\",\"市盈率(静态)\"]]\n",
    "pyb_data_ld.columns=[\"date\",\"symbol\",\"open\",\"high\",\"low\",\"close\",\"volume\",\"lundong\",]"
   ]
  },
  {
   "cell_type": "code",
   "execution_count": 109,
   "metadata": {},
   "outputs": [],
   "source": [
    "def rand_ld(ctxs: dict[str, ExecContext]) -> bool:\n",
    "    dt = tuple(ctxs.values())[0].dt\n",
    "    symbols = []\n",
    "    lundong = []\n",
    "    for ctx in ctxs.values():\n",
    "        symbols.append(ctx.symbol)\n",
    "        lundong.append(ctx.lundong[-1])\n",
    "    \n",
    "    v_rank = pd.DataFrame({\"symbol\": symbols, \"lundong\": lundong}).sort_values(by=\"lundong\", ascending=False)\n",
    "    pybroker.param('symbols',v_rank.head(5).symbol.values)"
   ]
  },
  {
   "cell_type": "code",
   "execution_count": 112,
   "metadata": {},
   "outputs": [],
   "source": [
    "def lundong_fuc(ctx):\n",
    "    if ctx.long_pos():\n",
    "        if ctx.symbol not in pybroker.param('symbols'):\n",
    "            ctx.sell_all_shares()\n",
    "    else:\n",
    "        ctx.buy_limit_price = ctx.close[-1] * 1.095\n",
    "        ctx.buy_shares = ctx.calc_target_shares(0.1)\n",
    "        ctx.score = ctx.lundong[-1]"
   ]
  },
  {
   "cell_type": "code",
   "execution_count": 119,
   "metadata": {},
   "outputs": [
    {
     "name": "stdout",
     "output_type": "stream",
     "text": [
      "Backtesting: 2018-02-22 00:00:00 to 2019-04-01 00:00:00\n",
      "\n",
      "Test split: 2018-02-22 00:00:00 to 2019-04-01 00:00:00\n"
     ]
    },
    {
     "name": "stderr",
     "output_type": "stream",
     "text": [
      "  0% (0 of 270) |                        | Elapsed Time: 0:00:00 ETA:  --:--:--\n",
      "  0% (1 of 270) |                        | Elapsed Time: 0:00:01 ETA:   0:07:37\n",
      "  4% (11 of 270) |                       | Elapsed Time: 0:00:03 ETA:   0:01:30\n",
      "  7% (21 of 270) |#                      | Elapsed Time: 0:00:04 ETA:   0:00:56\n",
      " 11% (31 of 270) |##                     | Elapsed Time: 0:00:05 ETA:   0:00:42\n",
      " 15% (41 of 270) |###                    | Elapsed Time: 0:00:06 ETA:   0:00:35\n",
      " 18% (51 of 270) |####                   | Elapsed Time: 0:00:07 ETA:   0:00:31\n",
      " 22% (61 of 270) |#####                  | Elapsed Time: 0:00:08 ETA:   0:00:27\n",
      " 26% (71 of 270) |######                 | Elapsed Time: 0:00:09 ETA:   0:00:25\n",
      " 30% (81 of 270) |######                 | Elapsed Time: 0:00:09 ETA:   0:00:23\n",
      " 33% (91 of 270) |#######                | Elapsed Time: 0:00:10 ETA:   0:00:21\n",
      " 37% (101 of 270) |########              | Elapsed Time: 0:00:11 ETA:   0:00:19\n",
      " 41% (111 of 270) |#########             | Elapsed Time: 0:00:12 ETA:   0:00:17\n",
      " 44% (121 of 270) |#########             | Elapsed Time: 0:00:13 ETA:   0:00:16\n",
      " 48% (131 of 270) |##########            | Elapsed Time: 0:00:14 ETA:   0:00:14\n",
      " 52% (141 of 270) |###########           | Elapsed Time: 0:00:15 ETA:   0:00:13\n",
      " 55% (151 of 270) |############          | Elapsed Time: 0:00:15 ETA:   0:00:12\n",
      " 59% (161 of 270) |#############         | Elapsed Time: 0:00:16 ETA:   0:00:11\n",
      " 63% (171 of 270) |#############         | Elapsed Time: 0:00:17 ETA:   0:00:10\n",
      " 67% (181 of 270) |##############        | Elapsed Time: 0:00:18 ETA:   0:00:09\n",
      " 70% (191 of 270) |###############       | Elapsed Time: 0:00:19 ETA:   0:00:07\n",
      " 74% (201 of 270) |################      | Elapsed Time: 0:00:20 ETA:   0:00:06\n",
      " 78% (211 of 270) |#################     | Elapsed Time: 0:00:20 ETA:   0:00:05\n",
      " 81% (221 of 270) |##################    | Elapsed Time: 0:00:21 ETA:   0:00:04\n",
      " 85% (231 of 270) |##################    | Elapsed Time: 0:00:22 ETA:   0:00:03\n",
      " 89% (241 of 270) |###################   | Elapsed Time: 0:00:23 ETA:   0:00:02\n",
      " 92% (251 of 270) |####################  | Elapsed Time: 0:00:24 ETA:   0:00:01\n",
      " 96% (261 of 270) |##################### | Elapsed Time: 0:00:25 ETA:   0:00:00\n",
      "100% (270 of 270) |######################| Elapsed Time: 0:00:26 ETA:  00:00:00\n",
      "100% (270 of 270) |######################| Elapsed Time: 0:00:26 Time:  0:00:26\n"
     ]
    },
    {
     "name": "stdout",
     "output_type": "stream",
     "text": [
      "\n",
      "Finished backtest: 0:00:27\n"
     ]
    }
   ],
   "source": [
    "pybroker.register_columns('lundong')\n",
    "config = StrategyConfig(max_long_positions=10)\n",
    "strategy = Strategy(pyb_data_ld, '2018-02-22', '2019-04-01', config)\n",
    "strategy.add_execution(lundong_fuc, pyb_data_ld.symbol.unique())\n",
    "strategy.set_before_exec(rand_ld)\n",
    "result = strategy.backtest()"
   ]
  },
  {
   "cell_type": "code",
   "execution_count": 120,
   "metadata": {},
   "outputs": [
    {
     "data": {
      "text/html": [
       "<div>\n",
       "<style scoped>\n",
       "    .dataframe tbody tr th:only-of-type {\n",
       "        vertical-align: middle;\n",
       "    }\n",
       "\n",
       "    .dataframe tbody tr th {\n",
       "        vertical-align: top;\n",
       "    }\n",
       "\n",
       "    .dataframe thead th {\n",
       "        text-align: right;\n",
       "    }\n",
       "</style>\n",
       "<table border=\"1\" class=\"dataframe\">\n",
       "  <thead>\n",
       "    <tr style=\"text-align: right;\">\n",
       "      <th></th>\n",
       "      <th>name</th>\n",
       "      <th>value</th>\n",
       "    </tr>\n",
       "  </thead>\n",
       "  <tbody>\n",
       "    <tr>\n",
       "      <th>0</th>\n",
       "      <td>trade_count</td>\n",
       "      <td>2191.00</td>\n",
       "    </tr>\n",
       "    <tr>\n",
       "      <th>1</th>\n",
       "      <td>initial_market_value</td>\n",
       "      <td>100000.00</td>\n",
       "    </tr>\n",
       "    <tr>\n",
       "      <th>2</th>\n",
       "      <td>end_market_value</td>\n",
       "      <td>79861.04</td>\n",
       "    </tr>\n",
       "    <tr>\n",
       "      <th>3</th>\n",
       "      <td>total_pnl</td>\n",
       "      <td>-20664.46</td>\n",
       "    </tr>\n",
       "    <tr>\n",
       "      <th>4</th>\n",
       "      <td>unrealized_pnl</td>\n",
       "      <td>525.50</td>\n",
       "    </tr>\n",
       "  </tbody>\n",
       "</table>\n",
       "</div>"
      ],
      "text/plain": [
       "                   name      value\n",
       "0           trade_count    2191.00\n",
       "1  initial_market_value  100000.00\n",
       "2      end_market_value   79861.04\n",
       "3             total_pnl  -20664.46\n",
       "4        unrealized_pnl     525.50"
      ]
     },
     "execution_count": 120,
     "metadata": {},
     "output_type": "execute_result"
    }
   ],
   "source": [
    "result.metrics_df.head()"
   ]
  },
  {
   "cell_type": "code",
   "execution_count": 117,
   "metadata": {},
   "outputs": [],
   "source": [
    "# result.orders.head(40)"
   ]
  },
  {
   "cell_type": "code",
   "execution_count": 198,
   "metadata": {},
   "outputs": [
    {
     "data": {
      "text/plain": [
       "0.14285714285714285"
      ]
     },
     "execution_count": 198,
     "metadata": {},
     "output_type": "execute_result"
    }
   ],
   "source": [
    "config = StrategyConfig(max_long_positions=7)\n",
    "pybroker.param('target_size', 1 / config.max_long_positions)"
   ]
  },
  {
   "cell_type": "code",
   "execution_count": 204,
   "metadata": {},
   "outputs": [],
   "source": [
    "def rand_ld(ctxs: dict[str, ExecContext]):\n",
    "    #print(tuple(ctxs.values())[0].dt)\n",
    "    symbols=[]\n",
    "    ld=[]\n",
    "    for ctx in ctxs.values():\n",
    "        symbols.append(ctx.symbol)\n",
    "        ld.append(ctx.lundong[-1])\n",
    "    \n",
    "    v_rank=pd.DataFrame({\"symbol\":symbols,\"ld\":ld}).sort_values(by=\"ld\",ascending=False)\n",
    "    pybroker.param('symbols', v_rank.head(config.max_long_positions).symbol.values)"
   ]
  },
  {
   "cell_type": "code",
   "execution_count": 205,
   "metadata": {},
   "outputs": [],
   "source": [
    "def rotate(ctx: ExecContext):\n",
    "    if ctx.long_pos():\n",
    "        if ctx.symbol not in pybroker.param('symbols'):\n",
    "            ctx.sell_all_shares()\n",
    "    else:\n",
    "        ctx.buy_limit_price = ctx.close[-1] * 1.095\n",
    "        target_size = pybroker.param('target_size')\n",
    "        ctx.buy_shares = ctx.calc_target_shares(target_size)\n",
    "        ctx.score = ctx.lundong[-1]"
   ]
  },
  {
   "cell_type": "code",
   "execution_count": 206,
   "metadata": {},
   "outputs": [
    {
     "name": "stdout",
     "output_type": "stream",
     "text": [
      "Backtesting: 2018-02-22 00:00:00 to 2019-03-24 00:00:00\n",
      "\n",
      "Test split: 2018-02-22 00:00:00 to 2019-03-22 00:00:00\n"
     ]
    },
    {
     "name": "stderr",
     "output_type": "stream",
     "text": [
      "  0% (0 of 264) |                        | Elapsed Time: 0:00:00 ETA:  --:--:--\n",
      "  0% (1 of 264) |                        | Elapsed Time: 0:00:01 ETA:   0:04:45\n",
      "  4% (11 of 264) |                       | Elapsed Time: 0:00:02 ETA:   0:00:58\n",
      "  7% (21 of 264) |#                      | Elapsed Time: 0:00:03 ETA:   0:00:37\n",
      " 11% (31 of 264) |##                     | Elapsed Time: 0:00:03 ETA:   0:00:28\n",
      " 15% (41 of 264) |###                    | Elapsed Time: 0:00:04 ETA:   0:00:25\n",
      " 19% (51 of 264) |####                   | Elapsed Time: 0:00:05 ETA:   0:00:22\n",
      " 23% (61 of 264) |#####                  | Elapsed Time: 0:00:06 ETA:   0:00:20\n",
      " 26% (71 of 264) |######                 | Elapsed Time: 0:00:06 ETA:   0:00:18\n",
      " 30% (81 of 264) |#######                | Elapsed Time: 0:00:07 ETA:   0:00:16\n",
      " 34% (91 of 264) |#######                | Elapsed Time: 0:00:08 ETA:   0:00:15\n",
      " 38% (101 of 264) |########              | Elapsed Time: 0:00:08 ETA:   0:00:14\n",
      " 42% (111 of 264) |#########             | Elapsed Time: 0:00:09 ETA:   0:00:12\n",
      " 45% (121 of 264) |##########            | Elapsed Time: 0:00:10 ETA:   0:00:11\n",
      " 49% (131 of 264) |##########            | Elapsed Time: 0:00:10 ETA:   0:00:10\n",
      " 53% (141 of 264) |###########           | Elapsed Time: 0:00:11 ETA:   0:00:09\n",
      " 57% (151 of 264) |############          | Elapsed Time: 0:00:12 ETA:   0:00:09\n",
      " 60% (161 of 264) |#############         | Elapsed Time: 0:00:12 ETA:   0:00:08\n",
      " 64% (171 of 264) |##############        | Elapsed Time: 0:00:13 ETA:   0:00:07\n",
      " 68% (181 of 264) |###############       | Elapsed Time: 0:00:14 ETA:   0:00:06\n",
      " 72% (191 of 264) |###############       | Elapsed Time: 0:00:15 ETA:   0:00:05\n",
      " 76% (201 of 264) |################      | Elapsed Time: 0:00:15 ETA:   0:00:04\n",
      " 79% (211 of 264) |#################     | Elapsed Time: 0:00:16 ETA:   0:00:04\n",
      " 83% (221 of 264) |##################    | Elapsed Time: 0:00:17 ETA:   0:00:03\n",
      " 87% (231 of 264) |###################   | Elapsed Time: 0:00:17 ETA:   0:00:02\n",
      " 91% (241 of 264) |####################  | Elapsed Time: 0:00:18 ETA:   0:00:01\n",
      " 95% (251 of 264) |####################  | Elapsed Time: 0:00:19 ETA:   0:00:01\n",
      " 98% (261 of 264) |##################### | Elapsed Time: 0:00:20 ETA:   0:00:00\n",
      "100% (264 of 264) |######################| Elapsed Time: 0:00:20 ETA:  00:00:00\n",
      "100% (264 of 264) |######################| Elapsed Time: 0:00:20 Time:  0:00:20\n"
     ]
    },
    {
     "name": "stdout",
     "output_type": "stream",
     "text": [
      "\n",
      "Finished backtest: 0:00:21\n"
     ]
    }
   ],
   "source": [
    "pybroker.register_columns('lundong')\n",
    "strategy = Strategy(pyb_data_ld, '2018-02-22', '2019-03-24', config)\n",
    "strategy.add_execution(rotate, pyb_data_ld.symbol.unique())\n",
    "strategy.set_before_exec(rand_ld)\n",
    "result = strategy.backtest()"
   ]
  },
  {
   "cell_type": "code",
   "execution_count": 207,
   "metadata": {},
   "outputs": [
    {
     "data": {
      "text/html": [
       "<div>\n",
       "<style scoped>\n",
       "    .dataframe tbody tr th:only-of-type {\n",
       "        vertical-align: middle;\n",
       "    }\n",
       "\n",
       "    .dataframe tbody tr th {\n",
       "        vertical-align: top;\n",
       "    }\n",
       "\n",
       "    .dataframe thead th {\n",
       "        text-align: right;\n",
       "    }\n",
       "</style>\n",
       "<table border=\"1\" class=\"dataframe\">\n",
       "  <thead>\n",
       "    <tr style=\"text-align: right;\">\n",
       "      <th></th>\n",
       "      <th>name</th>\n",
       "      <th>value</th>\n",
       "    </tr>\n",
       "  </thead>\n",
       "  <tbody>\n",
       "    <tr>\n",
       "      <th>0</th>\n",
       "      <td>trade_count</td>\n",
       "      <td>760.00</td>\n",
       "    </tr>\n",
       "    <tr>\n",
       "      <th>1</th>\n",
       "      <td>initial_market_value</td>\n",
       "      <td>100000.00</td>\n",
       "    </tr>\n",
       "    <tr>\n",
       "      <th>2</th>\n",
       "      <td>end_market_value</td>\n",
       "      <td>9257.34</td>\n",
       "    </tr>\n",
       "    <tr>\n",
       "      <th>3</th>\n",
       "      <td>total_pnl</td>\n",
       "      <td>-90663.46</td>\n",
       "    </tr>\n",
       "    <tr>\n",
       "      <th>4</th>\n",
       "      <td>unrealized_pnl</td>\n",
       "      <td>-79.20</td>\n",
       "    </tr>\n",
       "  </tbody>\n",
       "</table>\n",
       "</div>"
      ],
      "text/plain": [
       "                   name      value\n",
       "0           trade_count     760.00\n",
       "1  initial_market_value  100000.00\n",
       "2      end_market_value    9257.34\n",
       "3             total_pnl  -90663.46\n",
       "4        unrealized_pnl     -79.20"
      ]
     },
     "execution_count": 207,
     "metadata": {},
     "output_type": "execute_result"
    }
   ],
   "source": [
    "result.metrics_df.head()"
   ]
  },
  {
   "cell_type": "code",
   "execution_count": 208,
   "metadata": {},
   "outputs": [
    {
     "data": {
      "text/plain": [
       "<Axes: xlabel='date'>"
      ]
     },
     "execution_count": 208,
     "metadata": {},
     "output_type": "execute_result"
    },
    {
     "data": {
      "image/png": "[encoded data removed]",
      "text/plain": [
       "<Figure size 640x480 with 1 Axes>"
      ]
     },
     "metadata": {},
     "output_type": "display_data"
    }
   ],
   "source": [
    "cash_value=result.portfolio.equity/100000\n",
    "cash_value.plot()"
   ]
  },
  {
   "cell_type": "markdown",
   "metadata": {},
   "source": [
    "## talib因子构建\n",
    "\n",
    "`talib.ROC` 是技术分析库 `TA-Lib` 中的一个函数，用于计算价格的变动率（Rate of Change，ROC）指标。变动率指标是一种技术分析工具，它通过比较当前价格与过去某一时期的价格，来衡量价格的变化速度和幅度，帮助投资者判断市场的买卖信号和趋势强度。\n",
    "\n",
    "### 计算公式\n",
    "ROC 指标的计算公式如下：\n",
    "$$ROC = \\frac{Close - Close_{n}}{Close_{n}} \\times 100$$\n",
    "其中：\n",
    "- `Close` 是当前的收盘价。\n",
    "- `Close_{n}` 是 `n` 个周期前的收盘价。\n",
    "- `n` 是计算 ROC 指标所使用的周期数。\n",
    "\n",
    "### 应用场景\n",
    "- **判断市场买卖信号**：当 ROC 指标从负数变为正数时，可能是买入信号；当 ROC 指标从正数变为负数时，可能是卖出信号。\n",
    "- **衡量市场趋势强度**：ROC 指标的绝对值越大，说明价格的变化速"
   ]
  },
  {
   "cell_type": "code",
   "execution_count": 194,
   "metadata": {},
   "outputs": [],
   "source": [
    "def factor(x):\n",
    "    return talib.ROC(x, timeperiod=10)"
   ]
  },
  {
   "cell_type": "code",
   "execution_count": 195,
   "metadata": {},
   "outputs": [],
   "source": [
    "stock_daily0[\"roc\"]=stock_daily0.groupby(\"股票代码\", group_keys=False)[\"收盘价\"].apply(factor)"
   ]
  },
  {
   "cell_type": "code",
   "execution_count": 193,
   "metadata": {},
   "outputs": [
    {
     "data": {
      "text/plain": [
       "-0.007828689845728674"
      ]
     },
     "execution_count": 193,
     "metadata": {},
     "output_type": "execute_result"
    }
   ],
   "source": [
    "(43.09-43.43)/43.43"
   ]
  },
  {
   "cell_type": "code",
   "execution_count": 196,
   "metadata": {},
   "outputs": [
    {
     "data": {
      "text/html": [
       "<div>\n",
       "<style scoped>\n",
       "    .dataframe tbody tr th:only-of-type {\n",
       "        vertical-align: middle;\n",
       "    }\n",
       "\n",
       "    .dataframe tbody tr th {\n",
       "        vertical-align: top;\n",
       "    }\n",
       "\n",
       "    .dataframe thead th {\n",
       "        text-align: right;\n",
       "    }\n",
       "</style>\n",
       "<table border=\"1\" class=\"dataframe\">\n",
       "  <thead>\n",
       "    <tr style=\"text-align: right;\">\n",
       "      <th></th>\n",
       "      <th>交易日期</th>\n",
       "      <th>收盘价</th>\n",
       "      <th>roc</th>\n",
       "    </tr>\n",
       "  </thead>\n",
       "  <tbody>\n",
       "    <tr>\n",
       "      <th>0</th>\n",
       "      <td>2020-10-13</td>\n",
       "      <td>43.43</td>\n",
       "      <td>NaN</td>\n",
       "    </tr>\n",
       "    <tr>\n",
       "      <th>1</th>\n",
       "      <td>2020-10-14</td>\n",
       "      <td>47.77</td>\n",
       "      <td>NaN</td>\n",
       "    </tr>\n",
       "    <tr>\n",
       "      <th>2</th>\n",
       "      <td>2020-10-15</td>\n",
       "      <td>43.09</td>\n",
       "      <td>NaN</td>\n",
       "    </tr>\n",
       "    <tr>\n",
       "      <th>3</th>\n",
       "      <td>2020-10-16</td>\n",
       "      <td>41.94</td>\n",
       "      <td>NaN</td>\n",
       "    </tr>\n",
       "    <tr>\n",
       "      <th>4</th>\n",
       "      <td>2020-10-19</td>\n",
       "      <td>39.45</td>\n",
       "      <td>NaN</td>\n",
       "    </tr>\n",
       "    <tr>\n",
       "      <th>5</th>\n",
       "      <td>2020-10-20</td>\n",
       "      <td>39.12</td>\n",
       "      <td>NaN</td>\n",
       "    </tr>\n",
       "    <tr>\n",
       "      <th>6</th>\n",
       "      <td>2020-10-21</td>\n",
       "      <td>40.12</td>\n",
       "      <td>NaN</td>\n",
       "    </tr>\n",
       "    <tr>\n",
       "      <th>7</th>\n",
       "      <td>2020-10-22</td>\n",
       "      <td>38.68</td>\n",
       "      <td>NaN</td>\n",
       "    </tr>\n",
       "    <tr>\n",
       "      <th>8</th>\n",
       "      <td>2020-10-23</td>\n",
       "      <td>37.40</td>\n",
       "      <td>NaN</td>\n",
       "    </tr>\n",
       "    <tr>\n",
       "      <th>9</th>\n",
       "      <td>2020-10-26</td>\n",
       "      <td>37.62</td>\n",
       "      <td>NaN</td>\n",
       "    </tr>\n",
       "    <tr>\n",
       "      <th>10</th>\n",
       "      <td>2020-10-27</td>\n",
       "      <td>37.56</td>\n",
       "      <td>-13.516003</td>\n",
       "    </tr>\n",
       "    <tr>\n",
       "      <th>11</th>\n",
       "      <td>2020-10-28</td>\n",
       "      <td>37.28</td>\n",
       "      <td>-21.959389</td>\n",
       "    </tr>\n",
       "    <tr>\n",
       "      <th>12</th>\n",
       "      <td>2020-10-29</td>\n",
       "      <td>36.55</td>\n",
       "      <td>-15.177535</td>\n",
       "    </tr>\n",
       "    <tr>\n",
       "      <th>13</th>\n",
       "      <td>2020-10-30</td>\n",
       "      <td>36.39</td>\n",
       "      <td>-13.233190</td>\n",
       "    </tr>\n",
       "    <tr>\n",
       "      <th>14</th>\n",
       "      <td>2020-11-02</td>\n",
       "      <td>34.90</td>\n",
       "      <td>-11.533587</td>\n",
       "    </tr>\n",
       "    <tr>\n",
       "      <th>15</th>\n",
       "      <td>2020-11-03</td>\n",
       "      <td>35.45</td>\n",
       "      <td>-9.381391</td>\n",
       "    </tr>\n",
       "    <tr>\n",
       "      <th>16</th>\n",
       "      <td>2020-11-04</td>\n",
       "      <td>35.58</td>\n",
       "      <td>-11.316052</td>\n",
       "    </tr>\n",
       "    <tr>\n",
       "      <th>17</th>\n",
       "      <td>2020-11-05</td>\n",
       "      <td>36.12</td>\n",
       "      <td>-6.618407</td>\n",
       "    </tr>\n",
       "    <tr>\n",
       "      <th>18</th>\n",
       "      <td>2020-11-06</td>\n",
       "      <td>35.44</td>\n",
       "      <td>-5.240642</td>\n",
       "    </tr>\n",
       "    <tr>\n",
       "      <th>19</th>\n",
       "      <td>2020-11-09</td>\n",
       "      <td>36.94</td>\n",
       "      <td>-1.807549</td>\n",
       "    </tr>\n",
       "    <tr>\n",
       "      <th>20</th>\n",
       "      <td>2020-11-10</td>\n",
       "      <td>36.94</td>\n",
       "      <td>-1.650692</td>\n",
       "    </tr>\n",
       "    <tr>\n",
       "      <th>21</th>\n",
       "      <td>2020-11-11</td>\n",
       "      <td>37.65</td>\n",
       "      <td>0.992489</td>\n",
       "    </tr>\n",
       "    <tr>\n",
       "      <th>22</th>\n",
       "      <td>2020-11-12</td>\n",
       "      <td>37.08</td>\n",
       "      <td>1.450068</td>\n",
       "    </tr>\n",
       "    <tr>\n",
       "      <th>23</th>\n",
       "      <td>2020-11-13</td>\n",
       "      <td>36.77</td>\n",
       "      <td>1.044243</td>\n",
       "    </tr>\n",
       "    <tr>\n",
       "      <th>24</th>\n",
       "      <td>2020-11-16</td>\n",
       "      <td>38.80</td>\n",
       "      <td>11.174785</td>\n",
       "    </tr>\n",
       "    <tr>\n",
       "      <th>25</th>\n",
       "      <td>2020-11-17</td>\n",
       "      <td>38.70</td>\n",
       "      <td>9.167842</td>\n",
       "    </tr>\n",
       "    <tr>\n",
       "      <th>26</th>\n",
       "      <td>2020-11-18</td>\n",
       "      <td>40.06</td>\n",
       "      <td>12.591343</td>\n",
       "    </tr>\n",
       "    <tr>\n",
       "      <th>27</th>\n",
       "      <td>2020-11-19</td>\n",
       "      <td>38.46</td>\n",
       "      <td>6.478405</td>\n",
       "    </tr>\n",
       "    <tr>\n",
       "      <th>28</th>\n",
       "      <td>2020-11-20</td>\n",
       "      <td>37.85</td>\n",
       "      <td>6.800226</td>\n",
       "    </tr>\n",
       "    <tr>\n",
       "      <th>29</th>\n",
       "      <td>2020-11-23</td>\n",
       "      <td>37.71</td>\n",
       "      <td>2.084461</td>\n",
       "    </tr>\n",
       "  </tbody>\n",
       "</table>\n",
       "</div>"
      ],
      "text/plain": [
       "         交易日期    收盘价        roc\n",
       "0  2020-10-13  43.43        NaN\n",
       "1  2020-10-14  47.77        NaN\n",
       "2  2020-10-15  43.09        NaN\n",
       "3  2020-10-16  41.94        NaN\n",
       "4  2020-10-19  39.45        NaN\n",
       "5  2020-10-20  39.12        NaN\n",
       "6  2020-10-21  40.12        NaN\n",
       "7  2020-10-22  38.68        NaN\n",
       "8  2020-10-23  37.40        NaN\n",
       "9  2020-10-26  37.62        NaN\n",
       "10 2020-10-27  37.56 -13.516003\n",
       "11 2020-10-28  37.28 -21.959389\n",
       "12 2020-10-29  36.55 -15.177535\n",
       "13 2020-10-30  36.39 -13.233190\n",
       "14 2020-11-02  34.90 -11.533587\n",
       "15 2020-11-03  35.45  -9.381391\n",
       "16 2020-11-04  35.58 -11.316052\n",
       "17 2020-11-05  36.12  -6.618407\n",
       "18 2020-11-06  35.44  -5.240642\n",
       "19 2020-11-09  36.94  -1.807549\n",
       "20 2020-11-10  36.94  -1.650692\n",
       "21 2020-11-11  37.65   0.992489\n",
       "22 2020-11-12  37.08   1.450068\n",
       "23 2020-11-13  36.77   1.044243\n",
       "24 2020-11-16  38.80  11.174785\n",
       "25 2020-11-17  38.70   9.167842\n",
       "26 2020-11-18  40.06  12.591343\n",
       "27 2020-11-19  38.46   6.478405\n",
       "28 2020-11-20  37.85   6.800226\n",
       "29 2020-11-23  37.71   2.084461"
      ]
     },
     "execution_count": 196,
     "metadata": {},
     "output_type": "execute_result"
    }
   ],
   "source": [
    "stock_daily0[stock_daily0[\"股票代码\"]==\"003001.SZ\"][[\"交易日期\",\"收盘价\",\"roc\"]].head(30)"
   ]
  },
  {
   "cell_type": "code",
   "execution_count": null,
   "metadata": {},
   "outputs": [],
   "source": []
  },
  {
   "cell_type": "code",
   "execution_count": null,
   "metadata": {},
   "outputs": [],
   "source": []
  },
  {
   "cell_type": "markdown",
   "metadata": {},
   "source": []
  }
 ],
 "metadata": {
  "kernelspec": {
   "display_name": "quant",
   "language": "python",
   "name": "python3"
  },
  "language_info": {
   "codemirror_mode": {
    "name": "ipython",
    "version": 3
   },
   "file_extension": ".py",
   "mimetype": "text/x-python",
   "name": "python",
   "nbconvert_exporter": "python",
   "pygments_lexer": "ipython3",
   "version": "3.11.11"
  }
 },
 "nbformat": 4,
 "nbformat_minor": 2
}
