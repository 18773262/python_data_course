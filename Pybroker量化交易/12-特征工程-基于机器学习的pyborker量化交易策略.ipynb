{
 "cells": [
  {
   "cell_type": "markdown",
   "metadata": {},
   "source": [
    "# 基于机器学习的pyborker量化交易策略"
   ]
  },
  {
   "cell_type": "markdown",
   "metadata": {},
   "source": []
  },
  {
   "cell_type": "code",
   "execution_count": 1,
   "metadata": {},
   "outputs": [
    {
     "data": {
      "text/plain": [
       "<diskcache.core.Cache at 0x239978a6a10>"
      ]
     },
     "execution_count": 1,
     "metadata": {},
     "output_type": "execute_result"
    }
   ],
   "source": [
    "import pybroker\n",
    "from pybroker.ext.data import AKShare\n",
    "from pybroker import ExecContext, StrategyConfig, Strategy\n",
    "from pybroker.data import DataSource\n",
    "import matplotlib.pyplot as plt\n",
    "from datetime import datetime\n",
    "import riskfolio as rp\n",
    "import akshare as ak\n",
    "import pandas as pd\n",
    "import numpy as np\n",
    "import sqlite3\n",
    "import datetime\n",
    "import seaborn as sns\n",
    "from scipy.stats import pearsonr, spearmanr\n",
    "import talib\n",
    "from pybroker.vect import cross\n",
    "\n",
    "#正常显示画图时出现的中文和负号\n",
    "from pylab import mpl\n",
    "\n",
    "from sklearn.preprocessing import StandardScaler\n",
    "from sklearn.model_selection import train_test_split \n",
    "from sklearn.tree import DecisionTreeRegressor\n",
    "from sklearn.metrics import r2_score\n",
    "from sklearn.metrics import mean_absolute_error\n",
    "from sklearn.linear_model import LinearRegression\n",
    "from sklearn.ensemble import GradientBoostingRegressor\n",
    "\n",
    "mpl.rcParams['font.sans-serif']=['SimHei']\n",
    "mpl.rcParams['axes.unicode_minus']=False\n",
    "\n",
    "akshare = AKShare()\n",
    "\n",
    "pybroker.enable_data_source_cache('akshare')"
   ]
  },
  {
   "cell_type": "markdown",
   "metadata": {},
   "source": [
    "## 基于机器学习算法在策略中的应用"
   ]
  },
  {
   "cell_type": "code",
   "execution_count": 2,
   "metadata": {},
   "outputs": [],
   "source": [
    "conn=sqlite3.connect(r'I:\\量化金融\\stock_2018.db')\n",
    "stock_daily1=pd.read_sql(\"select * from stock_daily where 股票代码<'003000.SZ'\",con=conn)\n",
    "stock_daily1[\"交易日期\"]=pd.to_datetime(stock_daily1[\"交易日期\"].astype(str))"
   ]
  },
  {
   "cell_type": "code",
   "execution_count": 5,
   "metadata": {},
   "outputs": [
    {
     "data": {
      "text/plain": [
       "Index(['index', '交易日期', '股票代码', '股票简称', '开盘价', '最高价', '最低价', '收盘价', '成交量(手)',\n",
       "       '成交额(千元)', '换手率(%)', '量比', '市盈率(静态)', '市盈率(TTM)', '市盈率(动态)', '市净率',\n",
       "       '市销率', '市销率(TTM)', '股息率(%)', '股息率(TTM)(%)', '总股本(万股)', '流通股本(万股)',\n",
       "       '总市值(万元)', '流通市值(万元)'],\n",
       "      dtype='object')"
      ]
     },
     "execution_count": 5,
     "metadata": {},
     "output_type": "execute_result"
    }
   ],
   "source": [
    "stock_daily1.columns"
   ]
  },
  {
   "cell_type": "code",
   "execution_count": 3,
   "metadata": {},
   "outputs": [],
   "source": [
    "stock_daily1.columns=['index', \"date\",\"symbol\", '股票简称', \"open\",\"high\",\"low\",\"close\",\"volume\",\n",
    "       '成交额(千元)', '换手率(%)', '量比', '市盈率(静态)', '市盈率(TTM)', '市盈率(动态)', '市净率',\n",
    "       '市销率', '市销率(TTM)', '股息率(%)', '股息率(TTM)(%)', '总股本(万股)', '流通股本(万股)',\n",
    "       '总市值(万元)', '流通市值(万元)']"
   ]
  },
  {
   "cell_type": "code",
   "execution_count": 4,
   "metadata": {},
   "outputs": [],
   "source": [
    "def func0(x):\n",
    "    return x.pct_change().shift(-1)"
   ]
  },
  {
   "cell_type": "code",
   "execution_count": 5,
   "metadata": {},
   "outputs": [],
   "source": [
    "stock_daily1[\"return_s1\"]=stock_daily1.groupby(\"symbol\", group_keys=False).close.apply(func0)"
   ]
  },
  {
   "cell_type": "code",
   "execution_count": 6,
   "metadata": {},
   "outputs": [],
   "source": [
    "def train_slr0(symbol, train_data, test_data):\n",
    "    x1=train_data[['close','high','low','volume']]\n",
    "    y1=train_data['return_s1']\n",
    "    #model = DecisionTreeRegressor()\n",
    "    model = GradientBoostingRegressor()\n",
    "    #model = LinearRegression()\n",
    "    model.fit(x1, y1)\n",
    "\n",
    "    x2=test_data[['close','high','low','volume']]\n",
    "    y2=test_data['return_s1']\n",
    "    y_pred = model.predict(x2)\n",
    "    r2 = r2_score(y2, y_pred)\n",
    "    print(symbol, f'R^2={r2}')\n",
    "\n",
    "    return model,[\"close\",\"high\",\"low\",\"volume\"]\n",
    "\n",
    "def hold_long(ctx):\n",
    "    if not ctx.long_pos():\n",
    "        # Buy if the next bar is predicted to have a positive return:\n",
    "        if ctx.preds('slr')[-1] > 0.:\n",
    "            ctx.buy_shares = ctx.calc_target_shares(0.5)\n",
    "    else:\n",
    "        # Sell if the next bar is predicted to have a negative return:\n",
    "        if ctx.preds('slr')[-1] < 0.:\n",
    "            ctx.sell_shares = ctx.calc_target_shares(0.5)"
   ]
  },
  {
   "cell_type": "code",
   "execution_count": 7,
   "metadata": {},
   "outputs": [],
   "source": [
    "pyb_data_pe=stock_daily1[[\"date\",\"symbol\",\"open\",\"high\",\"low\",\"close\",\"volume\",\"return_s1\"]].dropna()"
   ]
  },
  {
   "cell_type": "code",
   "execution_count": 8,
   "metadata": {},
   "outputs": [
    {
     "name": "stdout",
     "output_type": "stream",
     "text": [
      "Backtesting: 2018-03-19 00:00:00 to 2022-02-15 00:00:00\n",
      "\n",
      "Train split: 2018-03-21 00:00:00 to 2019-03-12 00:00:00\n",
      "000001.SZ R^2=-0.1531093981262832\n",
      "002594.SZ R^2=-0.242497593008264\n",
      "Finished training models: 0:00:00 \n",
      "\n",
      "Test split: 2019-03-13 00:00:00 to 2020-03-03 00:00:00\n"
     ]
    },
    {
     "name": "stderr",
     "output_type": "stream",
     "text": [
      "  0% (0 of 237) |                        | Elapsed Time: 0:00:00 ETA:  --:--:--\n",
      " 29% (71 of 237) |######                 | Elapsed Time: 0:00:00 ETA:   0:00:00\n",
      " 63% (151 of 237) |##############        | Elapsed Time: 0:00:00 ETA:   0:00:00\n",
      " 97% (231 of 237) |##################### | Elapsed Time: 0:00:00 ETA:   0:00:00\n",
      "100% (237 of 237) |######################| Elapsed Time: 0:00:00 Time:  0:00:00\n"
     ]
    },
    {
     "name": "stdout",
     "output_type": "stream",
     "text": [
      "\n",
      "Train split: 2019-03-13 00:00:00 to 2020-03-03 00:00:00\n",
      "000001.SZ R^2=-0.34570709077249995\n",
      "002594.SZ R^2=-0.4779307702234785\n",
      "Finished training models: 0:00:00 \n",
      "\n",
      "Test split: 2020-03-04 00:00:00 to 2021-02-23 00:00:00\n"
     ]
    },
    {
     "name": "stderr",
     "output_type": "stream",
     "text": [
      "  0% (0 of 237) |                        | Elapsed Time: 0:00:00 ETA:  --:--:--\n",
      " 21% (51 of 237) |####                   | Elapsed Time: 0:00:00 ETA:   0:00:00\n",
      " 51% (121 of 237) |###########           | Elapsed Time: 0:00:00 ETA:   0:00:00\n",
      " 80% (191 of 237) |#################     | Elapsed Time: 0:00:00 ETA:   0:00:00\n",
      "100% (237 of 237) |######################| Elapsed Time: 0:00:00 Time:  0:00:00\n"
     ]
    },
    {
     "name": "stdout",
     "output_type": "stream",
     "text": [
      "\n",
      "Train split: 2020-03-04 00:00:00 to 2021-02-23 00:00:00\n",
      "000001.SZ R^2=-0.4298399921222975\n",
      "002594.SZ R^2=-0.4268690708107139\n",
      "Finished training models: 0:00:00 \n",
      "\n",
      "Test split: 2021-02-24 00:00:00 to 2022-02-15 00:00:00\n"
     ]
    },
    {
     "name": "stderr",
     "output_type": "stream",
     "text": [
      "  0% (0 of 237) |                        | Elapsed Time: 0:00:00 ETA:  --:--:--\n",
      " 29% (71 of 237) |######                 | Elapsed Time: 0:00:00 ETA:   0:00:00\n",
      " 67% (161 of 237) |##############        | Elapsed Time: 0:00:00 ETA:   0:00:00\n",
      "100% (237 of 237) |######################| Elapsed Time: 0:00:00 Time:  0:00:00\n"
     ]
    },
    {
     "name": "stdout",
     "output_type": "stream",
     "text": [
      "\n",
      "Calculating bootstrap metrics: sample_size=100, samples=10000...\n",
      "Calculated bootstrap metrics: 0:00:06 \n",
      "\n",
      "Finished backtest: 0:00:12\n"
     ]
    }
   ],
   "source": [
    "model_slr = pybroker.model('slr', train_slr0)\n",
    "pybroker.register_columns('return_s1')\n",
    "config = StrategyConfig(bootstrap_sample_size=100)\n",
    "strategy = Strategy(pyb_data_pe, '2018-03-19', '2022-02-15', config)\n",
    "strategy.add_execution(hold_long, ['000001.SZ','002594.SZ'], models=model_slr)\n",
    "\n",
    "result = strategy.walkforward(\n",
    "    warmup=20,\n",
    "    windows=3,\n",
    "    train_size=0.5,\n",
    "    lookahead=1,\n",
    "    calc_bootstrap=True\n",
    ")"
   ]
  },
  {
   "cell_type": "code",
   "execution_count": 12,
   "metadata": {},
   "outputs": [],
   "source": [
    "#result.orders"
   ]
  },
  {
   "cell_type": "code",
   "execution_count": 10,
   "metadata": {},
   "outputs": [
    {
     "data": {
      "text/html": [
       "<div>\n",
       "<style scoped>\n",
       "    .dataframe tbody tr th:only-of-type {\n",
       "        vertical-align: middle;\n",
       "    }\n",
       "\n",
       "    .dataframe tbody tr th {\n",
       "        vertical-align: top;\n",
       "    }\n",
       "\n",
       "    .dataframe thead th {\n",
       "        text-align: right;\n",
       "    }\n",
       "</style>\n",
       "<table border=\"1\" class=\"dataframe\">\n",
       "  <thead>\n",
       "    <tr style=\"text-align: right;\">\n",
       "      <th></th>\n",
       "      <th>name</th>\n",
       "      <th>value</th>\n",
       "    </tr>\n",
       "  </thead>\n",
       "  <tbody>\n",
       "    <tr>\n",
       "      <th>0</th>\n",
       "      <td>trade_count</td>\n",
       "      <td>425.00</td>\n",
       "    </tr>\n",
       "    <tr>\n",
       "      <th>1</th>\n",
       "      <td>initial_market_value</td>\n",
       "      <td>100000.00</td>\n",
       "    </tr>\n",
       "    <tr>\n",
       "      <th>2</th>\n",
       "      <td>end_market_value</td>\n",
       "      <td>110039.32</td>\n",
       "    </tr>\n",
       "    <tr>\n",
       "      <th>3</th>\n",
       "      <td>total_pnl</td>\n",
       "      <td>13141.45</td>\n",
       "    </tr>\n",
       "    <tr>\n",
       "      <th>4</th>\n",
       "      <td>unrealized_pnl</td>\n",
       "      <td>-3102.13</td>\n",
       "    </tr>\n",
       "  </tbody>\n",
       "</table>\n",
       "</div>"
      ],
      "text/plain": [
       "                   name      value\n",
       "0           trade_count     425.00\n",
       "1  initial_market_value  100000.00\n",
       "2      end_market_value  110039.32\n",
       "3             total_pnl   13141.45\n",
       "4        unrealized_pnl   -3102.13"
      ]
     },
     "execution_count": 10,
     "metadata": {},
     "output_type": "execute_result"
    }
   ],
   "source": [
    "result.metrics_df.head()"
   ]
  },
  {
   "cell_type": "markdown",
   "metadata": {},
   "source": [
    "## 加入所有其他因子"
   ]
  },
  {
   "cell_type": "code",
   "execution_count": 13,
   "metadata": {},
   "outputs": [
    {
     "data": {
      "text/plain": [
       "Index(['index', 'date', 'symbol', '股票简称', 'open', 'high', 'low', 'close',\n",
       "       'volume', '成交额(千元)', '换手率(%)', '量比', '市盈率(静态)', '市盈率(TTM)', '市盈率(动态)',\n",
       "       '市净率', '市销率', '市销率(TTM)', '股息率(%)', '股息率(TTM)(%)', '总股本(万股)',\n",
       "       '流通股本(万股)', '总市值(万元)', '流通市值(万元)', 'return_s1'],\n",
       "      dtype='object')"
      ]
     },
     "execution_count": 13,
     "metadata": {},
     "output_type": "execute_result"
    }
   ],
   "source": [
    "stock_daily1.columns"
   ]
  },
  {
   "cell_type": "code",
   "execution_count": 18,
   "metadata": {},
   "outputs": [
    {
     "data": {
      "text/plain": [
       "['open',\n",
       " 'high',\n",
       " 'low',\n",
       " 'close',\n",
       " 'volume',\n",
       " '成交额(千元)',\n",
       " '换手率(%)',\n",
       " '量比',\n",
       " '市盈率(静态)',\n",
       " '市盈率(TTM)',\n",
       " '市盈率(动态)',\n",
       " '市净率',\n",
       " '市销率',\n",
       " '市销率(TTM)',\n",
       " '股息率(%)',\n",
       " '股息率(TTM)(%)',\n",
       " '总股本(万股)',\n",
       " '流通股本(万股)',\n",
       " '总市值(万元)',\n",
       " '流通市值(万元)']"
      ]
     },
     "execution_count": 18,
     "metadata": {},
     "output_type": "execute_result"
    }
   ],
   "source": [
    "factor=stock_daily1.columns[4:].tolist()\n",
    "factor.remove('return_s1')\n",
    "factor"
   ]
  },
  {
   "cell_type": "code",
   "execution_count": 26,
   "metadata": {},
   "outputs": [],
   "source": [
    "def train_slr1(symbol, train_data, test_data):\n",
    "    x1=train_data[factor]\n",
    "    y1=train_data['return_s1']\n",
    "    #model = DecisionTreeRegressor()\n",
    "    model = GradientBoostingRegressor()\n",
    "    #model = LinearRegression()\n",
    "    model.fit(x1, y1)\n",
    "\n",
    "    x2=test_data[factor]\n",
    "    y2=test_data['return_s1']\n",
    "    y_pred = model.predict(x2)\n",
    "    r2 = r2_score(y2, y_pred)\n",
    "    print(symbol, f'R^2={r2}')\n",
    "\n",
    "    return model,factor"
   ]
  },
  {
   "cell_type": "code",
   "execution_count": 29,
   "metadata": {},
   "outputs": [],
   "source": [
    "#去掉stock_daily1中'股票简称'列\n",
    "pyb_data_pe=stock_daily1.drop(columns=['股票简称']).dropna()"
   ]
  },
  {
   "cell_type": "code",
   "execution_count": 25,
   "metadata": {},
   "outputs": [
    {
     "data": {
      "text/plain": [
       "['成交额(千元)',\n",
       " '换手率(%)',\n",
       " '量比',\n",
       " '市盈率(静态)',\n",
       " '市盈率(TTM)',\n",
       " '市盈率(动态)',\n",
       " '市净率',\n",
       " '市销率',\n",
       " '市销率(TTM)',\n",
       " '股息率(%)',\n",
       " '股息率(TTM)(%)',\n",
       " '总股本(万股)',\n",
       " '流通股本(万股)',\n",
       " '总市值(万元)',\n",
       " '流通市值(万元)',\n",
       " 'return_s1']"
      ]
     },
     "execution_count": 25,
     "metadata": {},
     "output_type": "execute_result"
    }
   ],
   "source": [
    "factor[5:]+['return_s1']"
   ]
  },
  {
   "cell_type": "code",
   "execution_count": 30,
   "metadata": {},
   "outputs": [
    {
     "name": "stdout",
     "output_type": "stream",
     "text": [
      "Backtesting: 2018-03-19 00:00:00 to 2022-02-15 00:00:00\n",
      "\n",
      "Train split: 2018-03-23 00:00:00 to 2019-03-07 00:00:00\n",
      "000001.SZ R^2=-1.3687680810591587\n",
      "002594.SZ R^2=-0.6578603098779185\n",
      "Finished training models: 0:00:00 \n",
      "\n",
      "Test split: 2019-03-08 00:00:00 to 2020-03-02 00:00:00\n"
     ]
    },
    {
     "name": "stderr",
     "output_type": "stream",
     "text": [
      "  0% (0 of 232) |                        | Elapsed Time: 0:00:00 ETA:  --:--:--\n",
      " 17% (41 of 232) |####                   | Elapsed Time: 0:00:00 ETA:   0:00:00\n",
      " 47% (111 of 232) |##########            | Elapsed Time: 0:00:00 ETA:   0:00:00\n",
      " 78% (181 of 232) |#################     | Elapsed Time: 0:00:00 ETA:   0:00:00\n",
      "100% (232 of 232) |######################| Elapsed Time: 0:00:00 Time:  0:00:00\n"
     ]
    },
    {
     "name": "stdout",
     "output_type": "stream",
     "text": [
      "\n",
      "Train split: 2019-03-08 00:00:00 to 2020-03-02 00:00:00\n",
      "000001.SZ R^2=-0.24242033544728003\n",
      "002594.SZ R^2=-0.8807874670302995\n",
      "Finished training models: 0:00:00 \n",
      "\n",
      "Test split: 2020-03-03 00:00:00 to 2021-03-01 00:00:00\n"
     ]
    },
    {
     "name": "stderr",
     "output_type": "stream",
     "text": [
      "  0% (0 of 232) |                        | Elapsed Time: 0:00:00 ETA:  --:--:--\n",
      " 13% (31 of 232) |###                    | Elapsed Time: 0:00:00 ETA:   0:00:00\n",
      " 47% (111 of 232) |##########            | Elapsed Time: 0:00:00 ETA:   0:00:00\n",
      " 95% (221 of 232) |####################  | Elapsed Time: 0:00:00 ETA:   0:00:00\n",
      "100% (232 of 232) |######################| Elapsed Time: 0:00:00 Time:  0:00:00\n"
     ]
    },
    {
     "name": "stdout",
     "output_type": "stream",
     "text": [
      "\n",
      "Train split: 2020-03-03 00:00:00 to 2021-03-01 00:00:00\n",
      "000001.SZ R^2=-1.4877439327269264\n",
      "002594.SZ R^2=-0.5236108015544574\n",
      "Finished training models: 0:00:00 \n",
      "\n",
      "Test split: 2021-03-02 00:00:00 to 2022-02-15 00:00:00\n"
     ]
    },
    {
     "name": "stderr",
     "output_type": "stream",
     "text": [
      "  0% (0 of 232) |                        | Elapsed Time: 0:00:00 ETA:  --:--:--\n",
      "  9% (21 of 232) |##                     | Elapsed Time: 0:00:00 ETA:   0:00:00\n",
      " 39% (91 of 232) |#########              | Elapsed Time: 0:00:00 ETA:   0:00:00\n",
      " 65% (151 of 232) |##############        | Elapsed Time: 0:00:00 ETA:   0:00:00\n",
      " 86% (201 of 232) |###################   | Elapsed Time: 0:00:00 ETA:   0:00:00\n",
      " 95% (221 of 232) |####################  | Elapsed Time: 0:00:00 ETA:   0:00:00\n",
      "100% (232 of 232) |######################| Elapsed Time: 0:00:00 Time:  0:00:00\n"
     ]
    },
    {
     "name": "stdout",
     "output_type": "stream",
     "text": [
      "\n",
      "Calculating bootstrap metrics: sample_size=100, samples=10000...\n",
      "Calculated bootstrap metrics: 0:00:00 \n",
      "\n",
      "Finished backtest: 0:00:02\n"
     ]
    }
   ],
   "source": [
    "model_slr = pybroker.model('slr', train_slr1)\n",
    "pybroker.register_columns(factor[5:]+['return_s1'])\n",
    "config = StrategyConfig(bootstrap_sample_size=100)\n",
    "strategy = Strategy(pyb_data_pe, '2018-03-19', '2022-02-15', config)\n",
    "strategy.add_execution(hold_long, ['000001.SZ','002594.SZ'], models=model_slr)\n",
    "\n",
    "result = strategy.walkforward(\n",
    "    warmup=20,\n",
    "    windows=3,\n",
    "    train_size=0.5,\n",
    "    lookahead=1,\n",
    "    calc_bootstrap=True\n",
    ")"
   ]
  },
  {
   "cell_type": "code",
   "execution_count": 31,
   "metadata": {},
   "outputs": [
    {
     "data": {
      "text/html": [
       "<div>\n",
       "<style scoped>\n",
       "    .dataframe tbody tr th:only-of-type {\n",
       "        vertical-align: middle;\n",
       "    }\n",
       "\n",
       "    .dataframe tbody tr th {\n",
       "        vertical-align: top;\n",
       "    }\n",
       "\n",
       "    .dataframe thead th {\n",
       "        text-align: right;\n",
       "    }\n",
       "</style>\n",
       "<table border=\"1\" class=\"dataframe\">\n",
       "  <thead>\n",
       "    <tr style=\"text-align: right;\">\n",
       "      <th></th>\n",
       "      <th>name</th>\n",
       "      <th>value</th>\n",
       "    </tr>\n",
       "  </thead>\n",
       "  <tbody>\n",
       "    <tr>\n",
       "      <th>0</th>\n",
       "      <td>trade_count</td>\n",
       "      <td>168.00</td>\n",
       "    </tr>\n",
       "    <tr>\n",
       "      <th>1</th>\n",
       "      <td>initial_market_value</td>\n",
       "      <td>100000.00</td>\n",
       "    </tr>\n",
       "    <tr>\n",
       "      <th>2</th>\n",
       "      <td>end_market_value</td>\n",
       "      <td>37789.54</td>\n",
       "    </tr>\n",
       "    <tr>\n",
       "      <th>3</th>\n",
       "      <td>total_pnl</td>\n",
       "      <td>-60609.23</td>\n",
       "    </tr>\n",
       "    <tr>\n",
       "      <th>4</th>\n",
       "      <td>unrealized_pnl</td>\n",
       "      <td>-1601.23</td>\n",
       "    </tr>\n",
       "  </tbody>\n",
       "</table>\n",
       "</div>"
      ],
      "text/plain": [
       "                   name      value\n",
       "0           trade_count     168.00\n",
       "1  initial_market_value  100000.00\n",
       "2      end_market_value   37789.54\n",
       "3             total_pnl  -60609.23\n",
       "4        unrealized_pnl   -1601.23"
      ]
     },
     "execution_count": 31,
     "metadata": {},
     "output_type": "execute_result"
    }
   ],
   "source": [
    "result.metrics_df.head()"
   ]
  },
  {
   "cell_type": "code",
   "execution_count": 21,
   "metadata": {},
   "outputs": [
    {
     "data": {
      "text/plain": [
       "Index(['index', 'date', 'symbol', '股票简称', 'open', 'high', 'low', 'close',\n",
       "       'volume', '成交额(千元)', '换手率(%)', '量比', '市盈率(静态)', '市盈率(TTM)', '市盈率(动态)',\n",
       "       '市净率', '市销率', '市销率(TTM)', '股息率(%)', '股息率(TTM)(%)', '总股本(万股)',\n",
       "       '流通股本(万股)', '总市值(万元)', '流通市值(万元)', 'return_s1'],\n",
       "      dtype='object')"
      ]
     },
     "execution_count": 21,
     "metadata": {},
     "output_type": "execute_result"
    }
   ],
   "source": [
    "stock_daily1.columns"
   ]
  },
  {
   "cell_type": "code",
   "execution_count": 22,
   "metadata": {},
   "outputs": [],
   "source": [
    "base_name=[\"date\",\"symbol\",\"open\",\"high\",\"low\",\"close\",\"volume\"]"
   ]
  },
  {
   "cell_type": "code",
   "execution_count": 24,
   "metadata": {},
   "outputs": [
    {
     "name": "stdout",
     "output_type": "stream",
     "text": [
      "['成交额(千元)', '换手率(%)', '量比', '市盈率(静态)', '市盈率(TTM)', '市盈率(动态)', '市净率', '市销率', '市销率(TTM)', '股息率(%)', '股息率(TTM)(%)', '总股本(万股)', '流通股本(万股)', '总市值(万元)', '流通市值(万元)', 'return_s1']\n"
     ]
    }
   ],
   "source": [
    "factor_name=stock_daily1.columns[9:].tolist()\n",
    "print(factor_name)"
   ]
  },
  {
   "cell_type": "code",
   "execution_count": 30,
   "metadata": {},
   "outputs": [
    {
     "data": {
      "text/plain": [
       "['成交额(千元)',\n",
       " '换手率(%)',\n",
       " '量比',\n",
       " '市盈率(静态)',\n",
       " '市盈率(TTM)',\n",
       " '市盈率(动态)',\n",
       " '市净率',\n",
       " '市销率',\n",
       " '市销率(TTM)',\n",
       " '股息率(%)',\n",
       " '股息率(TTM)(%)',\n",
       " '总股本(万股)',\n",
       " '流通股本(万股)',\n",
       " '总市值(万元)',\n",
       " '流通市值(万元)']"
      ]
     },
     "execution_count": 30,
     "metadata": {},
     "output_type": "execute_result"
    }
   ],
   "source": [
    "factor_name[:-1]"
   ]
  },
  {
   "cell_type": "code",
   "execution_count": 31,
   "metadata": {},
   "outputs": [],
   "source": [
    "factor_base=base_name[2:]+factor_name[:-1]\n",
    "#factor_base"
   ]
  },
  {
   "cell_type": "code",
   "execution_count": 55,
   "metadata": {},
   "outputs": [],
   "source": [
    "def train_slr1(symbol, train_data, test_data):\n",
    "    x1=train_data[factor_base]\n",
    "    y1=train_data['return_s1']\n",
    "    #model = DecisionTreeRegressor()\n",
    "    model = GradientBoostingRegressor()\n",
    "    #model = LinearRegression()\n",
    "    model.fit(x1, y1)\n",
    "\n",
    "    x2=test_data[factor_base]\n",
    "    y2=test_data['return_s1']\n",
    "    y_pred = model.predict(x2)\n",
    "    r2 = r2_score(y2, y_pred)\n",
    "    print(symbol, f'R^2={r2}')\n",
    "\n",
    "    return model,factor_base"
   ]
  },
  {
   "cell_type": "code",
   "execution_count": 32,
   "metadata": {},
   "outputs": [],
   "source": [
    "pyb_data_pe=stock_daily1[base_name+factor_name].dropna()"
   ]
  },
  {
   "cell_type": "code",
   "execution_count": 34,
   "metadata": {},
   "outputs": [
    {
     "name": "stdout",
     "output_type": "stream",
     "text": [
      "Backtesting: 2018-03-19 00:00:00 to 2022-02-15 00:00:00\n",
      "\n",
      "Train split: 2018-03-21 00:00:00 to 2019-07-01 00:00:00\n",
      "000001.SZ R^2=-0.722963022603436\n",
      "002594.SZ R^2=-0.5779074408662241\n",
      "Finished training models: 0:00:00 \n",
      "\n",
      "Test split: 2019-07-02 00:00:00 to 2020-10-30 00:00:00\n"
     ]
    },
    {
     "name": "stderr",
     "output_type": "stream",
     "text": [
      "  0% (0 of 310) |                        | Elapsed Time: 0:00:00 ETA:  --:--:--\n",
      " 19% (61 of 310) |####                   | Elapsed Time: 0:00:00 ETA:   0:00:00\n",
      " 48% (151 of 310) |##########            | Elapsed Time: 0:00:00 ETA:   0:00:00\n",
      " 80% (251 of 310) |#################     | Elapsed Time: 0:00:00 ETA:   0:00:00\n",
      "100% (310 of 310) |######################| Elapsed Time: 0:00:00 Time:  0:00:00\n"
     ]
    },
    {
     "name": "stdout",
     "output_type": "stream",
     "text": [
      "\n",
      "Train split: 2019-07-02 00:00:00 to 2020-10-30 00:00:00\n",
      "000001.SZ R^2=-0.18297785024491597\n",
      "002594.SZ R^2=-0.4997214140101587\n",
      "Finished training models: 0:00:00 \n",
      "\n",
      "Test split: 2020-11-02 00:00:00 to 2022-02-15 00:00:00\n"
     ]
    },
    {
     "name": "stderr",
     "output_type": "stream",
     "text": [
      "  0% (0 of 310) |                        | Elapsed Time: 0:00:00 ETA:  --:--:--\n",
      " 13% (41 of 310) |###                    | Elapsed Time: 0:00:00 ETA:   0:00:00\n",
      " 45% (141 of 310) |##########            | Elapsed Time: 0:00:00 ETA:   0:00:00\n",
      " 77% (241 of 310) |#################     | Elapsed Time: 0:00:00 ETA:   0:00:00\n",
      "100% (310 of 310) |######################| Elapsed Time: 0:00:00 Time:  0:00:00\n"
     ]
    },
    {
     "name": "stdout",
     "output_type": "stream",
     "text": [
      "\n",
      "Calculating bootstrap metrics: sample_size=100, samples=10000...\n",
      "Calculated bootstrap metrics: 0:00:00 \n",
      "\n",
      "Finished backtest: 0:00:02\n"
     ]
    }
   ],
   "source": [
    "model_slr = pybroker.model('slr', train_slr1)\n",
    "pybroker.register_columns(factor_name)\n",
    "config = StrategyConfig(bootstrap_sample_size=100)\n",
    "strategy = Strategy(pyb_data_pe, '2018-03-19', '2022-02-15', config)\n",
    "strategy.add_execution(hold_long, ['000001.SZ','002594.SZ'], models=model_slr)\n",
    "\n",
    "result = strategy.walkforward(\n",
    "    warmup=20,\n",
    "    windows=2,\n",
    "    train_size=0.5,\n",
    "    lookahead=1,\n",
    "    calc_bootstrap=True\n",
    ")"
   ]
  },
  {
   "cell_type": "code",
   "execution_count": 36,
   "metadata": {},
   "outputs": [
    {
     "data": {
      "text/html": [
       "<div>\n",
       "<style scoped>\n",
       "    .dataframe tbody tr th:only-of-type {\n",
       "        vertical-align: middle;\n",
       "    }\n",
       "\n",
       "    .dataframe tbody tr th {\n",
       "        vertical-align: top;\n",
       "    }\n",
       "\n",
       "    .dataframe thead th {\n",
       "        text-align: right;\n",
       "    }\n",
       "</style>\n",
       "<table border=\"1\" class=\"dataframe\">\n",
       "  <thead>\n",
       "    <tr style=\"text-align: right;\">\n",
       "      <th></th>\n",
       "      <th>type</th>\n",
       "      <th>symbol</th>\n",
       "      <th>entry_date</th>\n",
       "      <th>exit_date</th>\n",
       "      <th>entry</th>\n",
       "      <th>exit</th>\n",
       "      <th>shares</th>\n",
       "      <th>pnl</th>\n",
       "      <th>return_pct</th>\n",
       "      <th>agg_pnl</th>\n",
       "      <th>bars</th>\n",
       "      <th>pnl_per_bar</th>\n",
       "      <th>stop</th>\n",
       "      <th>mae</th>\n",
       "      <th>mfe</th>\n",
       "    </tr>\n",
       "    <tr>\n",
       "      <th>id</th>\n",
       "      <th></th>\n",
       "      <th></th>\n",
       "      <th></th>\n",
       "      <th></th>\n",
       "      <th></th>\n",
       "      <th></th>\n",
       "      <th></th>\n",
       "      <th></th>\n",
       "      <th></th>\n",
       "      <th></th>\n",
       "      <th></th>\n",
       "      <th></th>\n",
       "      <th></th>\n",
       "      <th></th>\n",
       "      <th></th>\n",
       "    </tr>\n",
       "  </thead>\n",
       "  <tbody>\n",
       "    <tr>\n",
       "      <th>1</th>\n",
       "      <td>long</td>\n",
       "      <td>000001.SZ</td>\n",
       "      <td>2019-07-31</td>\n",
       "      <td>2019-08-01</td>\n",
       "      <td>1550.20</td>\n",
       "      <td>1535.46</td>\n",
       "      <td>31</td>\n",
       "      <td>-456.94</td>\n",
       "      <td>-0.95</td>\n",
       "      <td>-456.94</td>\n",
       "      <td>1</td>\n",
       "      <td>-456.94</td>\n",
       "      <td>None</td>\n",
       "      <td>-14.74</td>\n",
       "      <td>13.10</td>\n",
       "    </tr>\n",
       "    <tr>\n",
       "      <th>2</th>\n",
       "      <td>short</td>\n",
       "      <td>000001.SZ</td>\n",
       "      <td>2019-08-01</td>\n",
       "      <td>2019-08-02</td>\n",
       "      <td>1535.46</td>\n",
       "      <td>1503.26</td>\n",
       "      <td>1</td>\n",
       "      <td>32.20</td>\n",
       "      <td>2.14</td>\n",
       "      <td>-424.74</td>\n",
       "      <td>1</td>\n",
       "      <td>32.20</td>\n",
       "      <td>None</td>\n",
       "      <td>-13.65</td>\n",
       "      <td>32.20</td>\n",
       "    </tr>\n",
       "    <tr>\n",
       "      <th>3</th>\n",
       "      <td>long</td>\n",
       "      <td>000001.SZ</td>\n",
       "      <td>2019-08-02</td>\n",
       "      <td>2019-08-05</td>\n",
       "      <td>1503.26</td>\n",
       "      <td>1468.87</td>\n",
       "      <td>31</td>\n",
       "      <td>-1066.09</td>\n",
       "      <td>-2.29</td>\n",
       "      <td>-1490.83</td>\n",
       "      <td>1</td>\n",
       "      <td>-1066.09</td>\n",
       "      <td>None</td>\n",
       "      <td>-34.39</td>\n",
       "      <td>12.01</td>\n",
       "    </tr>\n",
       "    <tr>\n",
       "      <th>4</th>\n",
       "      <td>short</td>\n",
       "      <td>000001.SZ</td>\n",
       "      <td>2019-08-05</td>\n",
       "      <td>2019-08-06</td>\n",
       "      <td>1468.87</td>\n",
       "      <td>1445.94</td>\n",
       "      <td>2</td>\n",
       "      <td>45.86</td>\n",
       "      <td>1.59</td>\n",
       "      <td>-1444.97</td>\n",
       "      <td>1</td>\n",
       "      <td>45.86</td>\n",
       "      <td>None</td>\n",
       "      <td>-20.20</td>\n",
       "      <td>22.93</td>\n",
       "    </tr>\n",
       "    <tr>\n",
       "      <th>5</th>\n",
       "      <td>long</td>\n",
       "      <td>000001.SZ</td>\n",
       "      <td>2019-08-06</td>\n",
       "      <td>2019-08-08</td>\n",
       "      <td>1445.94</td>\n",
       "      <td>1547.47</td>\n",
       "      <td>31</td>\n",
       "      <td>3147.43</td>\n",
       "      <td>7.02</td>\n",
       "      <td>1702.46</td>\n",
       "      <td>2</td>\n",
       "      <td>1573.72</td>\n",
       "      <td>None</td>\n",
       "      <td>-23.47</td>\n",
       "      <td>101.53</td>\n",
       "    </tr>\n",
       "    <tr>\n",
       "      <th>...</th>\n",
       "      <td>...</td>\n",
       "      <td>...</td>\n",
       "      <td>...</td>\n",
       "      <td>...</td>\n",
       "      <td>...</td>\n",
       "      <td>...</td>\n",
       "      <td>...</td>\n",
       "      <td>...</td>\n",
       "      <td>...</td>\n",
       "      <td>...</td>\n",
       "      <td>...</td>\n",
       "      <td>...</td>\n",
       "      <td>...</td>\n",
       "      <td>...</td>\n",
       "      <td>...</td>\n",
       "    </tr>\n",
       "    <tr>\n",
       "      <th>162</th>\n",
       "      <td>short</td>\n",
       "      <td>000001.SZ</td>\n",
       "      <td>2021-12-22</td>\n",
       "      <td>2021-12-27</td>\n",
       "      <td>1955.28</td>\n",
       "      <td>1931.21</td>\n",
       "      <td>1</td>\n",
       "      <td>24.07</td>\n",
       "      <td>1.25</td>\n",
       "      <td>-56001.16</td>\n",
       "      <td>3</td>\n",
       "      <td>8.02</td>\n",
       "      <td>None</td>\n",
       "      <td>-19.02</td>\n",
       "      <td>29.10</td>\n",
       "    </tr>\n",
       "    <tr>\n",
       "      <th>163</th>\n",
       "      <td>long</td>\n",
       "      <td>000001.SZ</td>\n",
       "      <td>2021-12-27</td>\n",
       "      <td>2022-01-12</td>\n",
       "      <td>1931.21</td>\n",
       "      <td>1922.26</td>\n",
       "      <td>9</td>\n",
       "      <td>-80.55</td>\n",
       "      <td>-0.46</td>\n",
       "      <td>-56081.71</td>\n",
       "      <td>11</td>\n",
       "      <td>-7.32</td>\n",
       "      <td>None</td>\n",
       "      <td>-120.31</td>\n",
       "      <td>31.90</td>\n",
       "    </tr>\n",
       "    <tr>\n",
       "      <th>164</th>\n",
       "      <td>short</td>\n",
       "      <td>000001.SZ</td>\n",
       "      <td>2022-01-12</td>\n",
       "      <td>2022-01-13</td>\n",
       "      <td>1922.26</td>\n",
       "      <td>1906.03</td>\n",
       "      <td>1</td>\n",
       "      <td>16.23</td>\n",
       "      <td>0.85</td>\n",
       "      <td>-56065.48</td>\n",
       "      <td>1</td>\n",
       "      <td>16.23</td>\n",
       "      <td>None</td>\n",
       "      <td>-30.78</td>\n",
       "      <td>30.78</td>\n",
       "    </tr>\n",
       "    <tr>\n",
       "      <th>165</th>\n",
       "      <td>long</td>\n",
       "      <td>000001.SZ</td>\n",
       "      <td>2022-01-13</td>\n",
       "      <td>2022-02-10</td>\n",
       "      <td>1906.03</td>\n",
       "      <td>1885.89</td>\n",
       "      <td>9</td>\n",
       "      <td>-181.26</td>\n",
       "      <td>-1.06</td>\n",
       "      <td>-56246.74</td>\n",
       "      <td>15</td>\n",
       "      <td>-12.08</td>\n",
       "      <td>None</td>\n",
       "      <td>-135.42</td>\n",
       "      <td>59.32</td>\n",
       "    </tr>\n",
       "    <tr>\n",
       "      <th>166</th>\n",
       "      <td>short</td>\n",
       "      <td>000001.SZ</td>\n",
       "      <td>2022-02-10</td>\n",
       "      <td>2022-02-11</td>\n",
       "      <td>1885.89</td>\n",
       "      <td>1923.38</td>\n",
       "      <td>1</td>\n",
       "      <td>-37.49</td>\n",
       "      <td>-1.95</td>\n",
       "      <td>-56284.23</td>\n",
       "      <td>1</td>\n",
       "      <td>-37.49</td>\n",
       "      <td>None</td>\n",
       "      <td>-37.49</td>\n",
       "      <td>20.15</td>\n",
       "    </tr>\n",
       "  </tbody>\n",
       "</table>\n",
       "<p>166 rows × 15 columns</p>\n",
       "</div>"
      ],
      "text/plain": [
       "      type     symbol entry_date  exit_date    entry     exit  shares  \\\n",
       "id                                                                      \n",
       "1     long  000001.SZ 2019-07-31 2019-08-01  1550.20  1535.46      31   \n",
       "2    short  000001.SZ 2019-08-01 2019-08-02  1535.46  1503.26       1   \n",
       "3     long  000001.SZ 2019-08-02 2019-08-05  1503.26  1468.87      31   \n",
       "4    short  000001.SZ 2019-08-05 2019-08-06  1468.87  1445.94       2   \n",
       "5     long  000001.SZ 2019-08-06 2019-08-08  1445.94  1547.47      31   \n",
       "..     ...        ...        ...        ...      ...      ...     ...   \n",
       "162  short  000001.SZ 2021-12-22 2021-12-27  1955.28  1931.21       1   \n",
       "163   long  000001.SZ 2021-12-27 2022-01-12  1931.21  1922.26       9   \n",
       "164  short  000001.SZ 2022-01-12 2022-01-13  1922.26  1906.03       1   \n",
       "165   long  000001.SZ 2022-01-13 2022-02-10  1906.03  1885.89       9   \n",
       "166  short  000001.SZ 2022-02-10 2022-02-11  1885.89  1923.38       1   \n",
       "\n",
       "         pnl  return_pct   agg_pnl  bars  pnl_per_bar  stop     mae     mfe  \n",
       "id                                                                           \n",
       "1    -456.94       -0.95   -456.94     1      -456.94  None  -14.74   13.10  \n",
       "2      32.20        2.14   -424.74     1        32.20  None  -13.65   32.20  \n",
       "3   -1066.09       -2.29  -1490.83     1     -1066.09  None  -34.39   12.01  \n",
       "4      45.86        1.59  -1444.97     1        45.86  None  -20.20   22.93  \n",
       "5    3147.43        7.02   1702.46     2      1573.72  None  -23.47  101.53  \n",
       "..       ...         ...       ...   ...          ...   ...     ...     ...  \n",
       "162    24.07        1.25 -56001.16     3         8.02  None  -19.02   29.10  \n",
       "163   -80.55       -0.46 -56081.71    11        -7.32  None -120.31   31.90  \n",
       "164    16.23        0.85 -56065.48     1        16.23  None  -30.78   30.78  \n",
       "165  -181.26       -1.06 -56246.74    15       -12.08  None -135.42   59.32  \n",
       "166   -37.49       -1.95 -56284.23     1       -37.49  None  -37.49   20.15  \n",
       "\n",
       "[166 rows x 15 columns]"
      ]
     },
     "execution_count": 36,
     "metadata": {},
     "output_type": "execute_result"
    }
   ],
   "source": [
    "result.trades"
   ]
  },
  {
   "cell_type": "markdown",
   "metadata": {},
   "source": [
    "## 自定义因子-20日均值"
   ]
  },
  {
   "cell_type": "code",
   "execution_count": 32,
   "metadata": {},
   "outputs": [],
   "source": [
    "# 基于talib库的20日平均\n",
    "def func0(x):\n",
    "    return talib.SMA(x, timeperiod=20)\n",
    "\n",
    "stock_daily1[\"SMA20_close\"]=stock_daily1.groupby(\"symbol\", group_keys=False).close.apply(func0)"
   ]
  },
  {
   "cell_type": "code",
   "execution_count": 37,
   "metadata": {},
   "outputs": [
    {
     "data": {
      "text/plain": [
       "['open',\n",
       " 'high',\n",
       " 'low',\n",
       " 'close',\n",
       " 'volume',\n",
       " '成交额(千元)',\n",
       " '换手率(%)',\n",
       " '量比',\n",
       " '市盈率(静态)',\n",
       " '市盈率(TTM)',\n",
       " '市盈率(动态)',\n",
       " '市净率',\n",
       " '市销率',\n",
       " '市销率(TTM)',\n",
       " '股息率(%)',\n",
       " '股息率(TTM)(%)',\n",
       " '总股本(万股)',\n",
       " '流通股本(万股)',\n",
       " '总市值(万元)',\n",
       " '流通市值(万元)',\n",
       " 'SMA20_close']"
      ]
     },
     "execution_count": 37,
     "metadata": {},
     "output_type": "execute_result"
    }
   ],
   "source": [
    "factor=stock_daily1.columns[4:].tolist()\n",
    "factor.remove('return_s1')\n",
    "factor"
   ]
  },
  {
   "cell_type": "code",
   "execution_count": 38,
   "metadata": {},
   "outputs": [],
   "source": [
    "pyb_data_pe=stock_daily1.drop(columns=['股票简称']).dropna()"
   ]
  },
  {
   "cell_type": "code",
   "execution_count": 39,
   "metadata": {},
   "outputs": [
    {
     "name": "stdout",
     "output_type": "stream",
     "text": [
      "Backtesting: 2018-03-19 00:00:00 to 2022-02-15 00:00:00\n",
      "\n",
      "Train split: 2018-03-23 00:00:00 to 2019-03-07 00:00:00\n",
      "000001.SZ R^2=-1.0609735892383951\n",
      "002594.SZ R^2=-0.749404328309192\n",
      "Finished training models: 0:00:00 \n",
      "\n",
      "Test split: 2019-03-08 00:00:00 to 2020-03-02 00:00:00\n"
     ]
    },
    {
     "name": "stderr",
     "output_type": "stream",
     "text": [
      "  0% (0 of 232) |                        | Elapsed Time: 0:00:00 ETA:  --:--:--\n",
      "  9% (21 of 232) |##                     | Elapsed Time: 0:00:00 ETA:   0:00:00\n",
      " 30% (71 of 232) |#######                | Elapsed Time: 0:00:00 ETA:   0:00:00\n",
      " 65% (151 of 232) |##############        | Elapsed Time: 0:00:00 ETA:   0:00:00\n",
      " 82% (191 of 232) |##################    | Elapsed Time: 0:00:00 ETA:   0:00:00\n",
      "100% (232 of 232) |######################| Elapsed Time: 0:00:00 Time:  0:00:00\n"
     ]
    },
    {
     "name": "stdout",
     "output_type": "stream",
     "text": [
      "\n",
      "Train split: 2019-03-08 00:00:00 to 2020-03-02 00:00:00\n",
      "000001.SZ R^2=-0.8046091816253069\n",
      "002594.SZ R^2=-0.9483795987633561\n",
      "Finished training models: 0:00:00 \n",
      "\n",
      "Test split: 2020-03-03 00:00:00 to 2021-03-01 00:00:00\n"
     ]
    },
    {
     "name": "stderr",
     "output_type": "stream",
     "text": [
      "  0% (0 of 232) |                        | Elapsed Time: 0:00:00 ETA:  --:--:--\n",
      "  9% (21 of 232) |##                     | Elapsed Time: 0:00:00 ETA:   0:00:00\n",
      " 39% (91 of 232) |#########              | Elapsed Time: 0:00:00 ETA:   0:00:00\n",
      " 78% (181 of 232) |#################     | Elapsed Time: 0:00:00 ETA:   0:00:00\n",
      "100% (232 of 232) |######################| Elapsed Time: 0:00:00 Time:  0:00:00\n"
     ]
    },
    {
     "name": "stdout",
     "output_type": "stream",
     "text": [
      "\n",
      "Train split: 2020-03-03 00:00:00 to 2021-03-01 00:00:00\n",
      "000001.SZ R^2=-2.0076339697518653\n",
      "002594.SZ R^2=-0.9644746385509555\n",
      "Finished training models: 0:00:01 \n",
      "\n",
      "Test split: 2021-03-02 00:00:00 to 2022-02-15 00:00:00\n"
     ]
    },
    {
     "name": "stderr",
     "output_type": "stream",
     "text": [
      "  0% (0 of 232) |                        | Elapsed Time: 0:00:00 ETA:  --:--:--\n",
      "  9% (21 of 232) |##                     | Elapsed Time: 0:00:00 ETA:   0:00:00\n",
      " 34% (81 of 232) |########               | Elapsed Time: 0:00:00 ETA:   0:00:00\n",
      " 69% (161 of 232) |###############       | Elapsed Time: 0:00:00 ETA:   0:00:00\n",
      " 99% (231 of 232) |##################### | Elapsed Time: 0:00:00 ETA:   0:00:00\n",
      "100% (232 of 232) |######################| Elapsed Time: 0:00:00 Time:  0:00:00\n"
     ]
    },
    {
     "name": "stdout",
     "output_type": "stream",
     "text": [
      "\n",
      "Calculating bootstrap metrics: sample_size=100, samples=10000...\n",
      "Calculated bootstrap metrics: 0:00:00 \n",
      "\n",
      "Finished backtest: 0:00:03\n"
     ]
    }
   ],
   "source": [
    "model_slr = pybroker.model('slr', train_slr1)\n",
    "pybroker.register_columns(factor[5:]+['return_s1'])\n",
    "config = StrategyConfig(bootstrap_sample_size=100)\n",
    "strategy = Strategy(pyb_data_pe, '2018-03-19', '2022-02-15', config)\n",
    "strategy.add_execution(hold_long, ['000001.SZ','002594.SZ'], models=model_slr)\n",
    "\n",
    "result = strategy.walkforward(\n",
    "    warmup=20,\n",
    "    windows=3,\n",
    "    train_size=0.5,\n",
    "    lookahead=1,\n",
    "    calc_bootstrap=True\n",
    ")"
   ]
  },
  {
   "cell_type": "code",
   "execution_count": 35,
   "metadata": {},
   "outputs": [
    {
     "data": {
      "text/plain": [
       "['open',\n",
       " 'high',\n",
       " 'low',\n",
       " 'close',\n",
       " 'volume',\n",
       " '成交额(千元)',\n",
       " '换手率(%)',\n",
       " '量比',\n",
       " '市盈率(静态)',\n",
       " '市盈率(TTM)',\n",
       " '市盈率(动态)',\n",
       " '市净率',\n",
       " '市销率',\n",
       " '市销率(TTM)',\n",
       " '股息率(%)',\n",
       " '股息率(TTM)(%)',\n",
       " '总股本(万股)',\n",
       " '流通股本(万股)',\n",
       " '总市值(万元)',\n",
       " '流通市值(万元)']"
      ]
     },
     "execution_count": 35,
     "metadata": {},
     "output_type": "execute_result"
    }
   ],
   "source": [
    "factor"
   ]
  },
  {
   "cell_type": "code",
   "execution_count": 34,
   "metadata": {},
   "outputs": [],
   "source": [
    "#stock_daily1"
   ]
  },
  {
   "cell_type": "code",
   "execution_count": 38,
   "metadata": {},
   "outputs": [
    {
     "data": {
      "text/plain": [
       "Index(['index', 'date', 'symbol', '股票简称', 'open', 'high', 'low', 'close',\n",
       "       'volume', '成交额(千元)', '换手率(%)', '量比', '市盈率(静态)', '市盈率(TTM)', '市盈率(动态)',\n",
       "       '市净率', '市销率', '市销率(TTM)', '股息率(%)', '股息率(TTM)(%)', '总股本(万股)',\n",
       "       '流通股本(万股)', '总市值(万元)', '流通市值(万元)', 'return_s1', 'SMA20_close'],\n",
       "      dtype='object')"
      ]
     },
     "execution_count": 38,
     "metadata": {},
     "output_type": "execute_result"
    }
   ],
   "source": [
    "stock_daily1.columns"
   ]
  },
  {
   "cell_type": "code",
   "execution_count": 41,
   "metadata": {},
   "outputs": [
    {
     "data": {
      "text/plain": [
       "['date', 'symbol', 'open', 'high', 'low', 'close', 'volume']"
      ]
     },
     "execution_count": 41,
     "metadata": {},
     "output_type": "execute_result"
    }
   ],
   "source": [
    "base_name"
   ]
  },
  {
   "cell_type": "code",
   "execution_count": 45,
   "metadata": {},
   "outputs": [
    {
     "data": {
      "text/plain": [
       "['成交额(千元)',\n",
       " '换手率(%)',\n",
       " '量比',\n",
       " '市盈率(静态)',\n",
       " '市盈率(TTM)',\n",
       " '市盈率(动态)',\n",
       " '市净率',\n",
       " '市销率',\n",
       " '市销率(TTM)',\n",
       " '股息率(%)',\n",
       " '股息率(TTM)(%)',\n",
       " '总股本(万股)',\n",
       " '流通股本(万股)',\n",
       " '总市值(万元)',\n",
       " '流通市值(万元)',\n",
       " 'SMA20_close']"
      ]
     },
     "execution_count": 45,
     "metadata": {},
     "output_type": "execute_result"
    }
   ],
   "source": [
    "factor_name=stock_daily1.columns[9:].tolist()\n",
    "factor_name.remove('return_s1')\n",
    "factor_name"
   ]
  },
  {
   "cell_type": "code",
   "execution_count": 46,
   "metadata": {},
   "outputs": [],
   "source": [
    "factor_base=base_name[2:]+factor_name"
   ]
  },
  {
   "cell_type": "code",
   "execution_count": 50,
   "metadata": {},
   "outputs": [],
   "source": [
    "#factor_base"
   ]
  },
  {
   "cell_type": "code",
   "execution_count": 47,
   "metadata": {},
   "outputs": [],
   "source": [
    "pyb_data_pe=stock_daily1[base_name+factor_name+[\"return_s1\"]].dropna()"
   ]
  },
  {
   "cell_type": "code",
   "execution_count": 48,
   "metadata": {},
   "outputs": [
    {
     "data": {
      "text/plain": [
       "Index(['date', 'symbol', 'open', 'high', 'low', 'close', 'volume', '成交额(千元)',\n",
       "       '换手率(%)', '量比', '市盈率(静态)', '市盈率(TTM)', '市盈率(动态)', '市净率', '市销率',\n",
       "       '市销率(TTM)', '股息率(%)', '股息率(TTM)(%)', '总股本(万股)', '流通股本(万股)', '总市值(万元)',\n",
       "       '流通市值(万元)', 'SMA20_close', 'return_s1'],\n",
       "      dtype='object')"
      ]
     },
     "execution_count": 48,
     "metadata": {},
     "output_type": "execute_result"
    }
   ],
   "source": [
    "pyb_data_pe.columns"
   ]
  },
  {
   "cell_type": "code",
   "execution_count": 63,
   "metadata": {},
   "outputs": [
    {
     "name": "stdout",
     "output_type": "stream",
     "text": [
      "Backtesting: 2018-03-19 00:00:00 to 2022-02-15 00:00:00\n",
      "\n",
      "Train split: 2018-03-21 00:00:00 to 2019-07-01 00:00:00\n",
      "000001.SZ R^2=-6.012485786665197\n",
      "002594.SZ R^2=-0.4107363785072111\n",
      "Finished training models: 0:00:00 \n",
      "\n",
      "Test split: 2019-07-02 00:00:00 to 2020-10-30 00:00:00\n"
     ]
    },
    {
     "name": "stderr",
     "output_type": "stream",
     "text": [
      "  0% (0 of 310) |                        | Elapsed Time: 0:00:00 ETA:  --:--:--\n",
      " 26% (81 of 310) |######                 | Elapsed Time: 0:00:00 ETA:   0:00:00\n",
      " 71% (221 of 310) |###############       | Elapsed Time: 0:00:00 ETA:   0:00:00\n",
      "100% (310 of 310) |######################| Elapsed Time: 0:00:00 Time:  0:00:00\n"
     ]
    },
    {
     "name": "stdout",
     "output_type": "stream",
     "text": [
      "\n",
      "Train split: 2019-07-02 00:00:00 to 2020-10-30 00:00:00\n",
      "000001.SZ R^2=-0.42692847084190877\n",
      "002594.SZ R^2=-0.5831515332628479\n",
      "Finished training models: 0:00:00 \n",
      "\n",
      "Test split: 2020-11-02 00:00:00 to 2022-02-15 00:00:00\n"
     ]
    },
    {
     "name": "stderr",
     "output_type": "stream",
     "text": [
      "  0% (0 of 310) |                        | Elapsed Time: 0:00:00 ETA:  --:--:--\n",
      " 10% (31 of 310) |##                     | Elapsed Time: 0:00:00 ETA:   0:00:00\n",
      " 26% (81 of 310) |######                 | Elapsed Time: 0:00:00 ETA:   0:00:00\n",
      " 58% (181 of 310) |############          | Elapsed Time: 0:00:00 ETA:   0:00:00\n",
      "100% (310 of 310) |######################| Elapsed Time: 0:00:00 Time:  0:00:00\n"
     ]
    },
    {
     "name": "stdout",
     "output_type": "stream",
     "text": [
      "\n",
      "Calculating bootstrap metrics: sample_size=100, samples=10000...\n",
      "Calculated bootstrap metrics: 0:00:00 \n",
      "\n",
      "Finished backtest: 0:00:02\n"
     ]
    }
   ],
   "source": [
    "model_slr = pybroker.model('slr', train_slr1)\n",
    "pybroker.register_columns(factor_name+[\"return_s1\"])\n",
    "config = StrategyConfig(bootstrap_sample_size=100)\n",
    "strategy = Strategy(pyb_data_pe, '2018-03-19', '2022-02-15', config)\n",
    "strategy.add_execution(hold_long, ['000001.SZ','002594.SZ'], models=model_slr)\n",
    "\n",
    "result = strategy.walkforward(\n",
    "    warmup=30,\n",
    "    windows=2,\n",
    "    train_size=0.5,\n",
    "    lookahead=1,\n",
    "    calc_bootstrap=True\n",
    ")\n"
   ]
  },
  {
   "cell_type": "code",
   "execution_count": 57,
   "metadata": {},
   "outputs": [
    {
     "data": {
      "text/html": [
       "<div>\n",
       "<style scoped>\n",
       "    .dataframe tbody tr th:only-of-type {\n",
       "        vertical-align: middle;\n",
       "    }\n",
       "\n",
       "    .dataframe tbody tr th {\n",
       "        vertical-align: top;\n",
       "    }\n",
       "\n",
       "    .dataframe thead th {\n",
       "        text-align: right;\n",
       "    }\n",
       "</style>\n",
       "<table border=\"1\" class=\"dataframe\">\n",
       "  <thead>\n",
       "    <tr style=\"text-align: right;\">\n",
       "      <th></th>\n",
       "      <th>name</th>\n",
       "      <th>value</th>\n",
       "    </tr>\n",
       "  </thead>\n",
       "  <tbody>\n",
       "    <tr>\n",
       "      <th>0</th>\n",
       "      <td>trade_count</td>\n",
       "      <td>119.00</td>\n",
       "    </tr>\n",
       "    <tr>\n",
       "      <th>1</th>\n",
       "      <td>initial_market_value</td>\n",
       "      <td>100000.00</td>\n",
       "    </tr>\n",
       "    <tr>\n",
       "      <th>2</th>\n",
       "      <td>end_market_value</td>\n",
       "      <td>22532.33</td>\n",
       "    </tr>\n",
       "    <tr>\n",
       "      <th>3</th>\n",
       "      <td>total_pnl</td>\n",
       "      <td>-76729.09</td>\n",
       "    </tr>\n",
       "    <tr>\n",
       "      <th>4</th>\n",
       "      <td>unrealized_pnl</td>\n",
       "      <td>-738.58</td>\n",
       "    </tr>\n",
       "  </tbody>\n",
       "</table>\n",
       "</div>"
      ],
      "text/plain": [
       "                   name      value\n",
       "0           trade_count     119.00\n",
       "1  initial_market_value  100000.00\n",
       "2      end_market_value   22532.33\n",
       "3             total_pnl  -76729.09\n",
       "4        unrealized_pnl    -738.58"
      ]
     },
     "execution_count": 57,
     "metadata": {},
     "output_type": "execute_result"
    }
   ],
   "source": [
    "result.metrics_df.head()"
   ]
  },
  {
   "cell_type": "markdown",
   "metadata": {},
   "source": [
    "## 特征工程"
   ]
  },
  {
   "cell_type": "code",
   "execution_count": null,
   "metadata": {},
   "outputs": [],
   "source": []
  },
  {
   "cell_type": "code",
   "execution_count": 40,
   "metadata": {},
   "outputs": [],
   "source": [
    "def compute_bb(stock_data):\n",
    "\n",
    "    high, mid, low = talib.BBANDS(stock_data, timeperiod=20)\n",
    "\n",
    "    x,y,z=talib.MACD(stock_data,fastperiod=12, slowperiod=26, signalperiod=9)\n",
    "\n",
    "    dongliang=talib.MOM(stock_data, timeperiod=10)\n",
    "\n",
    "    rsi_6=talib.RSI(stock_data, timeperiod=6)\n",
    "    rsi_24=talib.RSI(stock_data, timeperiod=24)\n",
    "\n",
    "    up = talib.MAX(stock_data, 20)\n",
    "    down = talib.MIN(stock_data, 20)\n",
    "\n",
    "    return_30=stock_data.pct_change(30)\n",
    "    return_5=stock_data.pct_change(5)\n",
    "    return_10=stock_data.pct_change(10)\n",
    "\n",
    "\n",
    "    df=pd.concat([high,low,x,y,z,dongliang,rsi_6,rsi_24,up,down,return_30,return_5,return_10],axis=1)\n",
    "    df.columns=[\"b_high\",\"b_low\",\"MACD_x\",\"MACD_y\",\"MACD_z\",\"dong10\",\"rsi_6\",\"rsi_24\",\"up\",\"down\",\"return_30\",\"return_5\",\"return_10\"]\n",
    "\n",
    "    return df"
   ]
  },
  {
   "cell_type": "code",
   "execution_count": 42,
   "metadata": {},
   "outputs": [],
   "source": [
    "z=stock_daily1.groupby(\"symbol\", group_keys=False).close.apply(compute_bb)"
   ]
  },
  {
   "cell_type": "code",
   "execution_count": 44,
   "metadata": {},
   "outputs": [],
   "source": [
    "stock_daily1=stock_daily1.join(z)"
   ]
  },
  {
   "cell_type": "code",
   "execution_count": 47,
   "metadata": {},
   "outputs": [],
   "source": [
    "stock_daily1[\"close-o\"]=stock_daily1[\"close\"]-stock_daily1[\"open\"]\n",
    "stock_daily1[\"high-l\"]=stock_daily1[\"high\"]-stock_daily1[\"low\"]"
   ]
  },
  {
   "cell_type": "code",
   "execution_count": 45,
   "metadata": {},
   "outputs": [
    {
     "data": {
      "text/plain": [
       "Index(['open', 'high', 'low', 'close', 'volume', '成交额(千元)', '换手率(%)', '量比',\n",
       "       '市盈率(静态)', '市盈率(TTM)', '市盈率(动态)', '市净率', '市销率', '市销率(TTM)', '股息率(%)',\n",
       "       '股息率(TTM)(%)', '总股本(万股)', '流通股本(万股)', '总市值(万元)', '流通市值(万元)',\n",
       "       'return_s1', 'SMA20_close', 'b_high', 'b_low', 'MACD_x', 'MACD_y',\n",
       "       'MACD_z', 'dong10', 'rsi_6', 'rsi_24', 'up', 'down', 'return_30',\n",
       "       'return_5', 'return_10'],\n",
       "      dtype='object')"
      ]
     },
     "execution_count": 45,
     "metadata": {},
     "output_type": "execute_result"
    }
   ],
   "source": [
    "stock_daily1.columns[4:]"
   ]
  },
  {
   "cell_type": "code",
   "execution_count": 48,
   "metadata": {},
   "outputs": [
    {
     "name": "stdout",
     "output_type": "stream",
     "text": [
      "Backtesting: 2018-03-19 00:00:00 to 2022-02-15 00:00:00\n",
      "\n",
      "Train split: 2018-03-23 00:00:00 to 2019-03-07 00:00:00\n",
      "000001.SZ R^2=-1.3898822492995633\n",
      "002594.SZ R^2=-0.528955938232482\n",
      "Finished training models: 0:00:01 \n",
      "\n",
      "Test split: 2019-03-08 00:00:00 to 2020-03-02 00:00:00\n"
     ]
    },
    {
     "name": "stderr",
     "output_type": "stream",
     "text": [
      "  0% (0 of 232) |                        | Elapsed Time: 0:00:00 ETA:  --:--:--\n",
      "  9% (21 of 232) |##                     | Elapsed Time: 0:00:00 ETA:   0:00:00\n",
      " 43% (101 of 232) |#########             | Elapsed Time: 0:00:00 ETA:   0:00:00\n",
      " 78% (181 of 232) |#################     | Elapsed Time: 0:00:00 ETA:   0:00:00\n",
      "100% (232 of 232) |######################| Elapsed Time: 0:00:00 Time:  0:00:00\n"
     ]
    },
    {
     "name": "stdout",
     "output_type": "stream",
     "text": [
      "\n",
      "Train split: 2019-03-08 00:00:00 to 2020-03-02 00:00:00\n",
      "000001.SZ R^2=-0.8495384225532854\n",
      "002594.SZ R^2=-0.391792872151312\n",
      "Finished training models: 0:00:01 \n",
      "\n",
      "Test split: 2020-03-03 00:00:00 to 2021-03-01 00:00:00\n"
     ]
    },
    {
     "name": "stderr",
     "output_type": "stream",
     "text": [
      "  0% (0 of 232) |                        | Elapsed Time: 0:00:00 ETA:  --:--:--\n",
      "  9% (21 of 232) |##                     | Elapsed Time: 0:00:00 ETA:   0:00:01\n",
      " 34% (81 of 232) |########               | Elapsed Time: 0:00:00 ETA:   0:00:00\n",
      " 65% (151 of 232) |##############        | Elapsed Time: 0:00:00 ETA:   0:00:00\n",
      " 95% (221 of 232) |####################  | Elapsed Time: 0:00:00 ETA:   0:00:00\n",
      "100% (232 of 232) |######################| Elapsed Time: 0:00:00 Time:  0:00:00\n"
     ]
    },
    {
     "name": "stdout",
     "output_type": "stream",
     "text": [
      "\n",
      "Train split: 2020-03-03 00:00:00 to 2021-03-01 00:00:00\n",
      "000001.SZ R^2=-1.7132312033154142\n",
      "002594.SZ R^2=-1.4429180639007053\n",
      "Finished training models: 0:00:01 \n",
      "\n",
      "Test split: 2021-03-02 00:00:00 to 2022-02-15 00:00:00\n"
     ]
    },
    {
     "name": "stderr",
     "output_type": "stream",
     "text": [
      "  0% (0 of 232) |                        | Elapsed Time: 0:00:00 ETA:  --:--:--\n",
      "  9% (21 of 232) |##                     | Elapsed Time: 0:00:00 ETA:   0:00:00\n",
      " 39% (91 of 232) |#########              | Elapsed Time: 0:00:00 ETA:   0:00:00\n",
      " 65% (151 of 232) |##############        | Elapsed Time: 0:00:00 ETA:   0:00:00\n",
      " 90% (211 of 232) |####################  | Elapsed Time: 0:00:00 ETA:   0:00:00\n",
      "100% (232 of 232) |######################| Elapsed Time: 0:00:00 Time:  0:00:00\n"
     ]
    },
    {
     "name": "stdout",
     "output_type": "stream",
     "text": [
      "\n",
      "Calculating bootstrap metrics: sample_size=100, samples=10000...\n",
      "Calculated bootstrap metrics: 0:00:00 \n",
      "\n",
      "Finished backtest: 0:00:03\n"
     ]
    }
   ],
   "source": [
    "factor=stock_daily1.columns[4:].tolist()\n",
    "factor.remove('return_s1')\n",
    "pyb_data_pe=stock_daily1.drop(columns=['股票简称']).dropna()\n",
    "model_slr = pybroker.model('slr', train_slr1)\n",
    "pybroker.register_columns(factor[5:]+['return_s1'])\n",
    "config = StrategyConfig(bootstrap_sample_size=100)\n",
    "strategy = Strategy(pyb_data_pe, '2018-03-19', '2022-02-15', config)\n",
    "strategy.add_execution(hold_long, ['000001.SZ','002594.SZ'], models=model_slr)\n",
    "\n",
    "result = strategy.walkforward(\n",
    "    warmup=20,\n",
    "    windows=3,\n",
    "    train_size=0.5,\n",
    "    lookahead=1,\n",
    "    calc_bootstrap=True\n",
    ")"
   ]
  },
  {
   "cell_type": "code",
   "execution_count": null,
   "metadata": {},
   "outputs": [],
   "source": []
  },
  {
   "cell_type": "code",
   "execution_count": 64,
   "metadata": {},
   "outputs": [],
   "source": [
    "stock_daily1=stock_daily1.join(stock_daily1.groupby(\"symbol\", group_keys=False).close.apply(compute_bb))"
   ]
  },
  {
   "cell_type": "code",
   "execution_count": 70,
   "metadata": {},
   "outputs": [],
   "source": [
    "stock_daily1[\"close-o\"]=stock_daily1[\"close\"]-stock_daily1[\"open\"]\n",
    "stock_daily1[\"high-l\"]=stock_daily1[\"high\"]-stock_daily1[\"low\"]"
   ]
  },
  {
   "cell_type": "code",
   "execution_count": 71,
   "metadata": {},
   "outputs": [
    {
     "data": {
      "text/plain": [
       "Index(['index', 'date', 'symbol', '股票简称', 'open', 'high', 'low', 'close',\n",
       "       'volume', '成交额(千元)', '换手率(%)', '量比', '市盈率(静态)', '市盈率(TTM)', '市盈率(动态)',\n",
       "       '市净率', '市销率', '市销率(TTM)', '股息率(%)', '股息率(TTM)(%)', '总股本(万股)',\n",
       "       '流通股本(万股)', '总市值(万元)', '流通市值(万元)', 'return_s1', 'SMA20_close', 'b_high',\n",
       "       'b_low', 'MACD_x', 'MACD_y', 'MACD_z', 'dong10', 'rsi_6', 'rsi_24',\n",
       "       'up', 'down', 'return_30', 'return_5', 'return_10', 'close-o',\n",
       "       'high-l'],\n",
       "      dtype='object')"
      ]
     },
     "execution_count": 71,
     "metadata": {},
     "output_type": "execute_result"
    }
   ],
   "source": [
    "stock_daily1.columns"
   ]
  },
  {
   "cell_type": "code",
   "execution_count": 72,
   "metadata": {},
   "outputs": [
    {
     "data": {
      "text/plain": [
       "['成交额(千元)',\n",
       " '换手率(%)',\n",
       " '量比',\n",
       " '市盈率(静态)',\n",
       " '市盈率(TTM)',\n",
       " '市盈率(动态)',\n",
       " '市净率',\n",
       " '市销率',\n",
       " '市销率(TTM)',\n",
       " '股息率(%)',\n",
       " '股息率(TTM)(%)',\n",
       " '总股本(万股)',\n",
       " '流通股本(万股)',\n",
       " '总市值(万元)',\n",
       " '流通市值(万元)',\n",
       " 'SMA20_close',\n",
       " 'b_high',\n",
       " 'b_low',\n",
       " 'MACD_x',\n",
       " 'MACD_y',\n",
       " 'MACD_z',\n",
       " 'dong10',\n",
       " 'rsi_6',\n",
       " 'rsi_24',\n",
       " 'up',\n",
       " 'down',\n",
       " 'return_30',\n",
       " 'return_5',\n",
       " 'return_10',\n",
       " 'close-o',\n",
       " 'high-l']"
      ]
     },
     "execution_count": 72,
     "metadata": {},
     "output_type": "execute_result"
    }
   ],
   "source": [
    "factor_name=stock_daily1.columns[9:].tolist()\n",
    "factor_name.remove('return_s1')\n",
    "factor_name"
   ]
  },
  {
   "cell_type": "code",
   "execution_count": 73,
   "metadata": {},
   "outputs": [
    {
     "name": "stdout",
     "output_type": "stream",
     "text": [
      "Backtesting: 2018-03-19 00:00:00 to 2022-02-15 00:00:00\n",
      "\n",
      "Train split: 2018-03-21 00:00:00 to 2019-07-01 00:00:00\n",
      "000001.SZ R^2=-5.04927202684497\n",
      "002594.SZ R^2=-0.6617202437392751\n",
      "Finished training models: 0:00:01 \n",
      "\n",
      "Test split: 2019-07-02 00:00:00 to 2020-10-30 00:00:00\n"
     ]
    },
    {
     "name": "stderr",
     "output_type": "stream",
     "text": [
      "  0% (0 of 310) |                        | Elapsed Time: 0:00:00 ETA:  --:--:--\n",
      " 10% (31 of 310) |##                     | Elapsed Time: 0:00:00 ETA:   0:00:00\n",
      " 55% (171 of 310) |############          | Elapsed Time: 0:00:00 ETA:   0:00:00\n",
      " 80% (251 of 310) |#################     | Elapsed Time: 0:00:00 ETA:   0:00:00\n",
      "100% (310 of 310) |######################| Elapsed Time: 0:00:00 Time:  0:00:00\n"
     ]
    },
    {
     "name": "stdout",
     "output_type": "stream",
     "text": [
      "\n",
      "Train split: 2019-07-02 00:00:00 to 2020-10-30 00:00:00\n",
      "000001.SZ R^2=-2.511720570048893\n",
      "002594.SZ R^2=-1.312236315462128\n",
      "Finished training models: 0:00:01 \n",
      "\n",
      "Test split: 2020-11-02 00:00:00 to 2022-02-15 00:00:00\n"
     ]
    },
    {
     "name": "stderr",
     "output_type": "stream",
     "text": [
      "  0% (0 of 310) |                        | Elapsed Time: 0:00:00 ETA:  --:--:--\n",
      " 10% (31 of 310) |##                     | Elapsed Time: 0:00:00 ETA:   0:00:00\n",
      " 45% (141 of 310) |##########            | Elapsed Time: 0:00:00 ETA:   0:00:00\n",
      " 80% (251 of 310) |#################     | Elapsed Time: 0:00:00 ETA:   0:00:00\n",
      "100% (310 of 310) |######################| Elapsed Time: 0:00:00 Time:  0:00:00\n"
     ]
    },
    {
     "name": "stdout",
     "output_type": "stream",
     "text": [
      "\n",
      "Calculating bootstrap metrics: sample_size=100, samples=10000...\n",
      "Calculated bootstrap metrics: 0:00:00 \n",
      "\n",
      "Finished backtest: 0:00:02\n"
     ]
    }
   ],
   "source": [
    "factor_base=base_name[2:]+factor_name\n",
    "pyb_data_pe=stock_daily1[base_name+factor_name+[\"return_s1\"]].dropna()\n",
    "\n",
    "model_slr = pybroker.model('slr', train_slr1)\n",
    "pybroker.register_columns(factor_name+[\"return_s1\"])\n",
    "config = StrategyConfig(bootstrap_sample_size=100)\n",
    "strategy = Strategy(pyb_data_pe, '2018-03-19', '2022-02-15', config)\n",
    "strategy.add_execution(hold_long, ['000001.SZ','002594.SZ'], models=model_slr)\n",
    "\n",
    "result = strategy.walkforward(\n",
    "    warmup=30,\n",
    "    windows=2,\n",
    "    train_size=0.5,\n",
    "    lookahead=1,\n",
    "    calc_bootstrap=True\n",
    ")"
   ]
  },
  {
   "cell_type": "markdown",
   "metadata": {},
   "source": [
    "## 基于seaborn的特征分析与可视化(回归)\n",
    "\n",
    "https://seaborn.pydata.org/archive/0.11/tutorial.html\n",
    "\n",
    "https://blog.csdn.net/qq_41185868/article/details/114041840\n",
    "\n",
    "https://blog.csdn.net/liujingwei8610/article/details/138870627\n",
    "\n",
    "https://blog.csdn.net/weixin_40787712/article/details/120695112\n",
    "\n",
    "https://zhuanlan.zhihu.com/p/165940283\n",
    "\n",
    "\n",
    "kind: Literal['scatter', 'kde', 'hist', 'hex', 'reg', 'resid'] = \"scatter\n",
    "\n",
    "\n",
    "* 分布特征\n",
    "\n",
    "* 相关性分析\n",
    "\n",
    "p值常见有三个标准一个是0.1，0.05，0.01；\n",
    "\n",
    "p值取值范围是0~1，不包括0和1，通常情况下，一般有三个判断标准一个是0.01、0.05以及0.1。在绝大多数情况下，如果p值小于0.01，则说明至少有99％的把握，如果p值小于0.05（且大于或等于0.01），则说明至少有95％的把握，如果p值小于0.1（且大于或等于0.05），则说明至少有90％的把握。\n",
    "\n",
    "在统计语言表达上，如果p值小于0.01，则称作0.01水平显著，例如，研究人员分析X对Y是否存在影响关系时，如果X对应的p值为0.00（由于小数位精度要求，展示为0.00），则说明X对Y存在影响关系这件事至少有99％的把握，统计语言描述为X在0.01水平上呈现显著性。如果P值小于0.05(且大于或等于0.01)，则称作在0.05水平上显著。\n",
    "\n",
    "r 相关性大小意义：\n",
    "\n",
    "|r|=1时，完全相关；\n",
    "\n",
    "|r|≥0.8时，高度相关；\n",
    "\n",
    "0.5≤|r|＜0.8时，中度相关；\n",
    "\n",
    "0.3≤|r|＜0.5时，低度相关；\n",
    "\n",
    "|r|＜0.3时，基本不相关；"
   ]
  },
  {
   "cell_type": "code",
   "execution_count": 50,
   "metadata": {},
   "outputs": [
    {
     "data": {
      "text/plain": [
       "Index(['open', 'high', 'low', 'close', 'volume', '成交额(千元)', '换手率(%)', '量比',\n",
       "       '市盈率(静态)', '市盈率(TTM)', '市盈率(动态)', '市净率', '市销率', '市销率(TTM)', '股息率(%)',\n",
       "       '股息率(TTM)(%)', '总股本(万股)', '流通股本(万股)', '总市值(万元)', '流通市值(万元)',\n",
       "       'return_s1', 'SMA20_close', 'b_high', 'b_low', 'MACD_x', 'MACD_y',\n",
       "       'MACD_z', 'dong10', 'rsi_6', 'rsi_24', 'up', 'down', 'return_30',\n",
       "       'return_5', 'return_10', 'close-o', 'high-l'],\n",
       "      dtype='object')"
      ]
     },
     "execution_count": 50,
     "metadata": {},
     "output_type": "execute_result"
    }
   ],
   "source": [
    "stock_daily1.columns[4:]"
   ]
  },
  {
   "cell_type": "code",
   "execution_count": 51,
   "metadata": {},
   "outputs": [],
   "source": [
    "tezheng=stock_daily1[stock_daily1.columns[4:]].dropna()"
   ]
  },
  {
   "cell_type": "code",
   "execution_count": 53,
   "metadata": {},
   "outputs": [],
   "source": [
    "#tezheng"
   ]
  },
  {
   "cell_type": "code",
   "execution_count": 54,
   "metadata": {},
   "outputs": [
    {
     "data": {
      "text/plain": [
       "Index(['open', 'high', 'low', 'close', 'volume', '成交额(千元)', '换手率(%)', '量比',\n",
       "       '市盈率(静态)', '市盈率(TTM)', '市盈率(动态)', '市净率', '市销率', '市销率(TTM)', '股息率(%)',\n",
       "       '股息率(TTM)(%)', '总股本(万股)', '流通股本(万股)', '总市值(万元)', '流通市值(万元)',\n",
       "       'return_s1', 'SMA20_close', 'b_high', 'b_low', 'MACD_x', 'MACD_y',\n",
       "       'MACD_z', 'dong10', 'rsi_6', 'rsi_24', 'up', 'down', 'return_30',\n",
       "       'return_5', 'return_10', 'close-o', 'high-l'],\n",
       "      dtype='object')"
      ]
     },
     "execution_count": 54,
     "metadata": {},
     "output_type": "execute_result"
    }
   ],
   "source": [
    "tezheng.columns"
   ]
  },
  {
   "cell_type": "code",
   "execution_count": 55,
   "metadata": {},
   "outputs": [
    {
     "data": {
      "text/plain": [
       "count    983617.000000\n",
       "mean         49.295826\n",
       "std          17.935456\n",
       "min           0.138213\n",
       "25%          36.210643\n",
       "50%          48.880854\n",
       "75%          62.159684\n",
       "max          99.863548\n",
       "Name: rsi_6, dtype: float64"
      ]
     },
     "execution_count": 55,
     "metadata": {},
     "output_type": "execute_result"
    }
   ],
   "source": [
    "tezheng['rsi_6'].describe()"
   ]
  },
  {
   "cell_type": "code",
   "execution_count": 85,
   "metadata": {},
   "outputs": [
    {
     "data": {
      "image/png": "[encoded data removed]",
      "text/plain": [
       "<Figure size 500x500 with 1 Axes>"
      ]
     },
     "metadata": {},
     "output_type": "display_data"
    }
   ],
   "source": [
    "plot = sns.displot(tezheng,x='rsi_6',kde=True,color='b')"
   ]
  },
  {
   "cell_type": "markdown",
   "metadata": {},
   "source": [
    "#### 相关性分析"
   ]
  },
  {
   "cell_type": "code",
   "execution_count": 86,
   "metadata": {},
   "outputs": [
    {
     "name": "stdout",
     "output_type": "stream",
     "text": [
      "1.26% (0.00%)\n"
     ]
    },
    {
     "data": {
      "image/png": "[encoded data removed]",
      "text/plain": [
       "<Figure size 600x600 with 3 Axes>"
      ]
     },
     "metadata": {},
     "output_type": "display_data"
    }
   ],
   "source": [
    "factor='股息率(TTM)(%)'\n",
    "target='return_s1'\n",
    "\n",
    "j=sns.jointplot(x=factor, y=target, data=tezheng,kind='scatter')\n",
    "r, p = spearmanr(tezheng[factor], tezheng[target])\n",
    "print(f'{r:,.2%} ({p:.2%})')#R为相关系数 P为对应的P值"
   ]
  },
  {
   "cell_type": "code",
   "execution_count": null,
   "metadata": {},
   "outputs": [],
   "source": []
  },
  {
   "cell_type": "markdown",
   "metadata": {},
   "source": [
    "#### 特征矩阵的多因子相关性分析\n",
    "\n",
    "* sns.clustermap\n",
    "\n",
    "`sns.clustermap` 是 Seaborn 库中的一个高级函数，用于生成带有层次聚类的热力图（Hierarchical Clustering Heatmap）。它的主要目的是对数据矩阵（如相关系数矩阵、表达数据等）进行可视化，并通过行和列的聚类来揭示数据内部的结构和模式。\n",
    "\n",
    "`sns.clustermap` 的意义和特点包括：\n",
    "\n",
    "1. **数据结构发现**：通过对数据集的行和列应用层次聚类算法（如平均链接法、单连接法、完全连接法等），`clustermap` 可以发现数据中的隐藏群体或模块，这对于探索复杂数据集中的自然分组尤为有用。\n",
    "\n",
    "2. **热力图可视化**：以颜色编码的方式展示数据值，颜色的深浅代表数值的高低，直观地展示数据矩阵中的数值分布和强度。这对于观察变量间相对大小和模式非常有帮助。\n",
    "\n",
    "3. **聚类指示**：通过 dendrogram（树状图）展示行和列的聚类关系，用户可以直接从图中读取哪些行（或列）被聚类在一起，从而理解数据的分组依据。\n",
    "\n",
    "4. **交互式探索**：生成的热力图通常具有交互性（取决于使用的环境，如 Jupyter Notebook），用户可以放大、缩小或悬停查看具体的数值，便于详细分析。\n",
    "\n",
    "5. **高级定制**：提供了丰富的参数选项，允许用户自定义颜色方案、聚类方法、距离度量、注释、图例等，以满足特定分析需求。\n",
    "\n",
    "总的来说，`sns.clustermap` 是一个强大的数据分析和可视化工具，尤其适用于生物学（如基因表达分析）、社会科学、市场研究等领域中，需要从大规模数据集中寻找模式、相关性和分类的场景。通过同时展示数据的数值强度和结构关系，它极大地增强了数据探索和解释的能力。\n",
    "\n",
    "* sns.PairGrid\n",
    "\n",
    "`sns.PairGrid` 是 Seaborn 库中的一个灵活的图形接口，用于创建成对关系的子图网格，主要用于绘制数据集中所有变量两两之间的关系图。这对理解多维数据集中的变量间相互作用非常有帮助。其意义和功能主要包括：\n",
    "\n",
    "1. **灵活的布局**：`PairGrid` 会为数据集中的每一对变量创建一个子图，你可以自定义这些子图中显示的内容，比如在非对角线位置上绘制散点图表示两个变量之间的关系，在对角线位置上显示直方图或核密度估计图来展示单个变量的分布。\n",
    "\n",
    "2. **自定义绘图类型**：通过 `map` 或 `map_upper`, `map_lower`, `map_diag` 方法，用户可以指定在每个子图上绘制何种类型的图表，比如散点图(scatterplot)、线性回归图(regplot)、核密度图(kdeplot)等，这使得 `PairGrid` 极其灵活，能够适应多种数据分析需求。\n",
    "\n",
    "3. **分组和着色**：通过 `hue` 参数，可以在图表中根据另一个变量对数据点进行分组和着色，这对于探索第三个变量如何影响对变量间的关系尤为重要，增加了可视化分析的维度。\n",
    "\n",
    "4. **高级控制**：`PairGrid` 提供了对每个子图的精细控制，允许用户调整图表的各个方面，如颜色、标记样式、标签等，以更好地讲述数据故事。\n",
    "\n",
    "简而言之，`sns.PairGrid` 的核心意义在于提供了一种机制，用于系统性地探索数据集中所有变量之间的成对关系，同时保留了高度的可定制性，使数据科学家和分析师能够深入挖掘数据中的模式和关联，特别是在探索性数据分析阶段。\n",
    "\n",
    "* sns.jointplot\n",
    "\n",
    "`sns.jointplot` 是 Seaborn 库中的一个功能强大的函数，用于创建联合分布图（Joint Distribution Plot）。这种图表主要用于可视化两个连续变量之间的关系，同时提供它们各自分布的概览。Jointplot 结合了散点图（展示两个变量之间的成对关系）和单变量分布的可视化（通常是直方图或核密度估计图，KDE），从而在一个图表中提供了两种变量联合及边际分布的完整视图。\n",
    "\n",
    "`sns.jointplot` 的意义和特点包括：\n",
    "\n",
    "1. **双变量关系展示**：通过散点图（默认类型）展示两个连续变量之间的相互关系，如相关性、聚集模式等。\n",
    "\n",
    "2. **边际分布**：除了中心的散点图，图表两侧或顶部底部还会显示每个变量的分布，通常使用直方图或核密度估计图（KDE plot），帮助理解每个变量的单独分布特性。\n",
    "\n",
    "3. **多种可视化选项**：`jointplot` 允许用户选择不同的图形类型（如散点图 scatter、回归线 reg、残差图 resid、核密度图 kde、六边形图 hex）以及统计函数来进一步分析变量间的关系。\n",
    "\n",
    "4. **探索性分析**：非常适合探索性数据分析，因为它快速提供了关于两个变量如何一起变化以及它们各自的分布情况的信息，有助于假设检验和发现潜在的相关性。\n",
    "\n",
    "5. **灵活定制**：用户可以根据需要调整颜色、大小、比例等图表属性，以及添加额外的统计拟合线，以更好地解释或描述数据特性。\n",
    "\n",
    "总之，`sns.jointplot` 提供了一种强大的方式来综合分析两个连续变量之间的复杂关系，并且通过边际分布的展示，使得对这两个变量的单独理解以及它们之间的联合分布有了更加全面的视角，这对于统计分析和数据探索而言是非常有价值的。"
   ]
  },
  {
   "cell_type": "code",
   "execution_count": 88,
   "metadata": {},
   "outputs": [],
   "source": [
    "te_corr=tezheng.corr()"
   ]
  },
  {
   "cell_type": "code",
   "execution_count": 90,
   "metadata": {},
   "outputs": [
    {
     "data": {
      "text/html": [
       "<div>\n",
       "<style scoped>\n",
       "    .dataframe tbody tr th:only-of-type {\n",
       "        vertical-align: middle;\n",
       "    }\n",
       "\n",
       "    .dataframe tbody tr th {\n",
       "        vertical-align: top;\n",
       "    }\n",
       "\n",
       "    .dataframe thead th {\n",
       "        text-align: right;\n",
       "    }\n",
       "</style>\n",
       "<table border=\"1\" class=\"dataframe\">\n",
       "  <thead>\n",
       "    <tr style=\"text-align: right;\">\n",
       "      <th></th>\n",
       "      <th>open</th>\n",
       "      <th>high</th>\n",
       "      <th>low</th>\n",
       "      <th>close</th>\n",
       "      <th>volume</th>\n",
       "      <th>成交额(千元)</th>\n",
       "      <th>换手率(%)</th>\n",
       "      <th>量比</th>\n",
       "      <th>市盈率(静态)</th>\n",
       "      <th>市盈率(TTM)</th>\n",
       "      <th>...</th>\n",
       "      <th>rsi_6</th>\n",
       "      <th>rsi_24</th>\n",
       "      <th>up</th>\n",
       "      <th>down</th>\n",
       "      <th>return_30</th>\n",
       "      <th>return_5</th>\n",
       "      <th>return_10</th>\n",
       "      <th>close-o</th>\n",
       "      <th>high-l</th>\n",
       "      <th>return_s1</th>\n",
       "    </tr>\n",
       "  </thead>\n",
       "  <tbody>\n",
       "    <tr>\n",
       "      <th>return_s1</th>\n",
       "      <td>-0.002781</td>\n",
       "      <td>-0.002701</td>\n",
       "      <td>-0.002671</td>\n",
       "      <td>-0.002690</td>\n",
       "      <td>-0.010789</td>\n",
       "      <td>-0.011780</td>\n",
       "      <td>-0.030243</td>\n",
       "      <td>-0.014275</td>\n",
       "      <td>-0.003174</td>\n",
       "      <td>-0.000616</td>\n",
       "      <td>...</td>\n",
       "      <td>0.012287</td>\n",
       "      <td>-0.001576</td>\n",
       "      <td>-0.002655</td>\n",
       "      <td>-0.002691</td>\n",
       "      <td>-0.007671</td>\n",
       "      <td>0.008091</td>\n",
       "      <td>0.003990</td>\n",
       "      <td>0.003882</td>\n",
       "      <td>-0.003159</td>\n",
       "      <td>1.000000</td>\n",
       "    </tr>\n",
       "    <tr>\n",
       "      <th>rsi_6</th>\n",
       "      <td>0.016514</td>\n",
       "      <td>0.018744</td>\n",
       "      <td>0.017765</td>\n",
       "      <td>0.019651</td>\n",
       "      <td>0.132404</td>\n",
       "      <td>0.145176</td>\n",
       "      <td>0.254396</td>\n",
       "      <td>0.224125</td>\n",
       "      <td>0.041311</td>\n",
       "      <td>0.000531</td>\n",
       "      <td>...</td>\n",
       "      <td>1.000000</td>\n",
       "      <td>0.768101</td>\n",
       "      <td>0.005206</td>\n",
       "      <td>0.004033</td>\n",
       "      <td>0.491441</td>\n",
       "      <td>0.775536</td>\n",
       "      <td>0.765123</td>\n",
       "      <td>0.135416</td>\n",
       "      <td>0.042053</td>\n",
       "      <td>0.012287</td>\n",
       "    </tr>\n",
       "    <tr>\n",
       "      <th>return_5</th>\n",
       "      <td>0.008235</td>\n",
       "      <td>0.010136</td>\n",
       "      <td>0.009223</td>\n",
       "      <td>0.010894</td>\n",
       "      <td>0.142120</td>\n",
       "      <td>0.152843</td>\n",
       "      <td>0.291029</td>\n",
       "      <td>0.234986</td>\n",
       "      <td>0.041162</td>\n",
       "      <td>0.001682</td>\n",
       "      <td>...</td>\n",
       "      <td>0.775536</td>\n",
       "      <td>0.566387</td>\n",
       "      <td>-0.000401</td>\n",
       "      <td>-0.002035</td>\n",
       "      <td>0.394584</td>\n",
       "      <td>1.000000</td>\n",
       "      <td>0.700945</td>\n",
       "      <td>0.114734</td>\n",
       "      <td>0.032832</td>\n",
       "      <td>0.008091</td>\n",
       "    </tr>\n",
       "    <tr>\n",
       "      <th>股息率(%)</th>\n",
       "      <td>0.025713</td>\n",
       "      <td>0.025004</td>\n",
       "      <td>0.026291</td>\n",
       "      <td>0.025584</td>\n",
       "      <td>-0.015134</td>\n",
       "      <td>-0.084152</td>\n",
       "      <td>-0.137976</td>\n",
       "      <td>-0.000943</td>\n",
       "      <td>-0.203916</td>\n",
       "      <td>-0.012941</td>\n",
       "      <td>...</td>\n",
       "      <td>-0.032199</td>\n",
       "      <td>-0.066985</td>\n",
       "      <td>0.024366</td>\n",
       "      <td>0.029261</td>\n",
       "      <td>-0.063777</td>\n",
       "      <td>-0.029812</td>\n",
       "      <td>-0.041034</td>\n",
       "      <td>-0.005181</td>\n",
       "      <td>-0.011977</td>\n",
       "      <td>0.006233</td>\n",
       "    </tr>\n",
       "    <tr>\n",
       "      <th>return_10</th>\n",
       "      <td>0.013507</td>\n",
       "      <td>0.015153</td>\n",
       "      <td>0.013945</td>\n",
       "      <td>0.015370</td>\n",
       "      <td>0.169580</td>\n",
       "      <td>0.189296</td>\n",
       "      <td>0.350873</td>\n",
       "      <td>0.140443</td>\n",
       "      <td>0.057836</td>\n",
       "      <td>0.000842</td>\n",
       "      <td>...</td>\n",
       "      <td>0.765123</td>\n",
       "      <td>0.703014</td>\n",
       "      <td>0.002090</td>\n",
       "      <td>-0.000972</td>\n",
       "      <td>0.567529</td>\n",
       "      <td>0.700945</td>\n",
       "      <td>1.000000</td>\n",
       "      <td>0.080467</td>\n",
       "      <td>0.044950</td>\n",
       "      <td>0.003990</td>\n",
       "    </tr>\n",
       "    <tr>\n",
       "      <th>close-o</th>\n",
       "      <td>0.001610</td>\n",
       "      <td>0.015036</td>\n",
       "      <td>0.012924</td>\n",
       "      <td>0.024808</td>\n",
       "      <td>0.020167</td>\n",
       "      <td>0.052441</td>\n",
       "      <td>0.019925</td>\n",
       "      <td>0.034984</td>\n",
       "      <td>0.006326</td>\n",
       "      <td>0.000228</td>\n",
       "      <td>...</td>\n",
       "      <td>0.135416</td>\n",
       "      <td>0.078153</td>\n",
       "      <td>0.007611</td>\n",
       "      <td>0.005140</td>\n",
       "      <td>0.050211</td>\n",
       "      <td>0.114734</td>\n",
       "      <td>0.080467</td>\n",
       "      <td>1.000000</td>\n",
       "      <td>0.068582</td>\n",
       "      <td>0.003882</td>\n",
       "    </tr>\n",
       "    <tr>\n",
       "      <th>股息率(TTM)(%)</th>\n",
       "      <td>0.024797</td>\n",
       "      <td>0.024083</td>\n",
       "      <td>0.025357</td>\n",
       "      <td>0.024658</td>\n",
       "      <td>-0.012740</td>\n",
       "      <td>-0.079034</td>\n",
       "      <td>-0.135914</td>\n",
       "      <td>-0.003163</td>\n",
       "      <td>-0.214485</td>\n",
       "      <td>-0.015713</td>\n",
       "      <td>...</td>\n",
       "      <td>-0.043280</td>\n",
       "      <td>-0.082046</td>\n",
       "      <td>0.023466</td>\n",
       "      <td>0.028307</td>\n",
       "      <td>-0.074283</td>\n",
       "      <td>-0.036254</td>\n",
       "      <td>-0.048661</td>\n",
       "      <td>-0.005688</td>\n",
       "      <td>-0.012458</td>\n",
       "      <td>0.003668</td>\n",
       "    </tr>\n",
       "    <tr>\n",
       "      <th>市盈率(TTM)</th>\n",
       "      <td>-0.003790</td>\n",
       "      <td>-0.003778</td>\n",
       "      <td>-0.003795</td>\n",
       "      <td>-0.003784</td>\n",
       "      <td>0.000049</td>\n",
       "      <td>-0.001229</td>\n",
       "      <td>0.011780</td>\n",
       "      <td>0.001505</td>\n",
       "      <td>0.068595</td>\n",
       "      <td>1.000000</td>\n",
       "      <td>...</td>\n",
       "      <td>0.000531</td>\n",
       "      <td>-0.000388</td>\n",
       "      <td>-0.003782</td>\n",
       "      <td>-0.003846</td>\n",
       "      <td>-0.001574</td>\n",
       "      <td>0.001682</td>\n",
       "      <td>0.000842</td>\n",
       "      <td>0.000228</td>\n",
       "      <td>-0.002832</td>\n",
       "      <td>-0.000616</td>\n",
       "    </tr>\n",
       "    <tr>\n",
       "      <th>市盈率(动态)</th>\n",
       "      <td>-0.006395</td>\n",
       "      <td>-0.006164</td>\n",
       "      <td>-0.006569</td>\n",
       "      <td>-0.006343</td>\n",
       "      <td>-0.004149</td>\n",
       "      <td>0.022648</td>\n",
       "      <td>0.050468</td>\n",
       "      <td>0.002822</td>\n",
       "      <td>0.199799</td>\n",
       "      <td>0.013479</td>\n",
       "      <td>...</td>\n",
       "      <td>0.018051</td>\n",
       "      <td>0.033446</td>\n",
       "      <td>-0.006166</td>\n",
       "      <td>-0.007625</td>\n",
       "      <td>0.043888</td>\n",
       "      <td>0.021153</td>\n",
       "      <td>0.030090</td>\n",
       "      <td>0.002159</td>\n",
       "      <td>0.005257</td>\n",
       "      <td>-0.000868</td>\n",
       "    </tr>\n",
       "    <tr>\n",
       "      <th>dong10</th>\n",
       "      <td>0.056435</td>\n",
       "      <td>0.060502</td>\n",
       "      <td>0.059289</td>\n",
       "      <td>0.062556</td>\n",
       "      <td>0.038306</td>\n",
       "      <td>0.097396</td>\n",
       "      <td>0.050601</td>\n",
       "      <td>0.019326</td>\n",
       "      <td>0.017272</td>\n",
       "      <td>0.000340</td>\n",
       "      <td>...</td>\n",
       "      <td>0.241366</td>\n",
       "      <td>0.219087</td>\n",
       "      <td>0.012619</td>\n",
       "      <td>0.011342</td>\n",
       "      <td>0.169959</td>\n",
       "      <td>0.202761</td>\n",
       "      <td>0.289318</td>\n",
       "      <td>0.264635</td>\n",
       "      <td>0.084648</td>\n",
       "      <td>-0.001090</td>\n",
       "    </tr>\n",
       "    <tr>\n",
       "      <th>rsi_24</th>\n",
       "      <td>0.042869</td>\n",
       "      <td>0.044697</td>\n",
       "      <td>0.043051</td>\n",
       "      <td>0.044669</td>\n",
       "      <td>0.186115</td>\n",
       "      <td>0.228716</td>\n",
       "      <td>0.354580</td>\n",
       "      <td>0.112938</td>\n",
       "      <td>0.087843</td>\n",
       "      <td>-0.000388</td>\n",
       "      <td>...</td>\n",
       "      <td>0.768101</td>\n",
       "      <td>1.000000</td>\n",
       "      <td>0.032079</td>\n",
       "      <td>0.027955</td>\n",
       "      <td>0.799439</td>\n",
       "      <td>0.566387</td>\n",
       "      <td>0.703014</td>\n",
       "      <td>0.078153</td>\n",
       "      <td>0.082214</td>\n",
       "      <td>-0.001576</td>\n",
       "    </tr>\n",
       "    <tr>\n",
       "      <th>MACD_z</th>\n",
       "      <td>0.003197</td>\n",
       "      <td>0.005487</td>\n",
       "      <td>0.005313</td>\n",
       "      <td>0.006759</td>\n",
       "      <td>0.026259</td>\n",
       "      <td>0.043987</td>\n",
       "      <td>0.032702</td>\n",
       "      <td>0.018299</td>\n",
       "      <td>0.000167</td>\n",
       "      <td>0.000167</td>\n",
       "      <td>...</td>\n",
       "      <td>0.218099</td>\n",
       "      <td>0.139088</td>\n",
       "      <td>-0.040622</td>\n",
       "      <td>-0.038130</td>\n",
       "      <td>0.085826</td>\n",
       "      <td>0.201221</td>\n",
       "      <td>0.249019</td>\n",
       "      <td>0.153552</td>\n",
       "      <td>0.009358</td>\n",
       "      <td>-0.001915</td>\n",
       "    </tr>\n",
       "    <tr>\n",
       "      <th>b_high</th>\n",
       "      <td>0.997486</td>\n",
       "      <td>0.997522</td>\n",
       "      <td>0.997255</td>\n",
       "      <td>0.997311</td>\n",
       "      <td>0.069426</td>\n",
       "      <td>0.432747</td>\n",
       "      <td>-0.041526</td>\n",
       "      <td>-0.007848</td>\n",
       "      <td>0.004438</td>\n",
       "      <td>-0.003782</td>\n",
       "      <td>...</td>\n",
       "      <td>0.003925</td>\n",
       "      <td>0.031151</td>\n",
       "      <td>0.999837</td>\n",
       "      <td>0.996886</td>\n",
       "      <td>0.018881</td>\n",
       "      <td>-0.002157</td>\n",
       "      <td>0.000449</td>\n",
       "      <td>0.005673</td>\n",
       "      <td>0.876977</td>\n",
       "      <td>-0.002563</td>\n",
       "    </tr>\n",
       "    <tr>\n",
       "      <th>SMA20_close</th>\n",
       "      <td>0.998256</td>\n",
       "      <td>0.998108</td>\n",
       "      <td>0.998190</td>\n",
       "      <td>0.998055</td>\n",
       "      <td>0.067122</td>\n",
       "      <td>0.424657</td>\n",
       "      <td>-0.045227</td>\n",
       "      <td>-0.007531</td>\n",
       "      <td>0.002298</td>\n",
       "      <td>-0.003820</td>\n",
       "      <td>...</td>\n",
       "      <td>0.003218</td>\n",
       "      <td>0.028858</td>\n",
       "      <td>0.999242</td>\n",
       "      <td>0.999210</td>\n",
       "      <td>0.015197</td>\n",
       "      <td>-0.003116</td>\n",
       "      <td>-0.001442</td>\n",
       "      <td>0.004521</td>\n",
       "      <td>0.868338</td>\n",
       "      <td>-0.002600</td>\n",
       "    </tr>\n",
       "    <tr>\n",
       "      <th>b_low</th>\n",
       "      <td>0.996973</td>\n",
       "      <td>0.996610</td>\n",
       "      <td>0.997098</td>\n",
       "      <td>0.996741</td>\n",
       "      <td>0.064283</td>\n",
       "      <td>0.414273</td>\n",
       "      <td>-0.049454</td>\n",
       "      <td>-0.007144</td>\n",
       "      <td>-0.000208</td>\n",
       "      <td>-0.003856</td>\n",
       "      <td>...</td>\n",
       "      <td>0.002385</td>\n",
       "      <td>0.026116</td>\n",
       "      <td>0.996359</td>\n",
       "      <td>0.999739</td>\n",
       "      <td>0.010859</td>\n",
       "      <td>-0.004229</td>\n",
       "      <td>-0.003649</td>\n",
       "      <td>0.003166</td>\n",
       "      <td>0.856341</td>\n",
       "      <td>-0.002639</td>\n",
       "    </tr>\n",
       "    <tr>\n",
       "      <th>up</th>\n",
       "      <td>0.997836</td>\n",
       "      <td>0.997894</td>\n",
       "      <td>0.997635</td>\n",
       "      <td>0.997707</td>\n",
       "      <td>0.069726</td>\n",
       "      <td>0.433119</td>\n",
       "      <td>-0.041216</td>\n",
       "      <td>-0.007339</td>\n",
       "      <td>0.004395</td>\n",
       "      <td>-0.003782</td>\n",
       "      <td>...</td>\n",
       "      <td>0.005206</td>\n",
       "      <td>0.032079</td>\n",
       "      <td>1.000000</td>\n",
       "      <td>0.997371</td>\n",
       "      <td>0.019214</td>\n",
       "      <td>-0.000401</td>\n",
       "      <td>0.002090</td>\n",
       "      <td>0.007611</td>\n",
       "      <td>0.877082</td>\n",
       "      <td>-0.002655</td>\n",
       "    </tr>\n",
       "    <tr>\n",
       "      <th>low</th>\n",
       "      <td>0.999878</td>\n",
       "      <td>0.999832</td>\n",
       "      <td>1.000000</td>\n",
       "      <td>0.999872</td>\n",
       "      <td>0.068782</td>\n",
       "      <td>0.427705</td>\n",
       "      <td>-0.042639</td>\n",
       "      <td>-0.007179</td>\n",
       "      <td>0.002982</td>\n",
       "      <td>-0.003795</td>\n",
       "      <td>...</td>\n",
       "      <td>0.017765</td>\n",
       "      <td>0.043051</td>\n",
       "      <td>0.997635</td>\n",
       "      <td>0.997871</td>\n",
       "      <td>0.026666</td>\n",
       "      <td>0.009223</td>\n",
       "      <td>0.013945</td>\n",
       "      <td>0.012924</td>\n",
       "      <td>0.867567</td>\n",
       "      <td>-0.002671</td>\n",
       "    </tr>\n",
       "    <tr>\n",
       "      <th>close</th>\n",
       "      <td>0.999731</td>\n",
       "      <td>0.999896</td>\n",
       "      <td>0.999872</td>\n",
       "      <td>1.000000</td>\n",
       "      <td>0.069728</td>\n",
       "      <td>0.430862</td>\n",
       "      <td>-0.041424</td>\n",
       "      <td>-0.005987</td>\n",
       "      <td>0.003616</td>\n",
       "      <td>-0.003784</td>\n",
       "      <td>...</td>\n",
       "      <td>0.019651</td>\n",
       "      <td>0.044669</td>\n",
       "      <td>0.997707</td>\n",
       "      <td>0.997574</td>\n",
       "      <td>0.028104</td>\n",
       "      <td>0.010894</td>\n",
       "      <td>0.015370</td>\n",
       "      <td>0.024808</td>\n",
       "      <td>0.872661</td>\n",
       "      <td>-0.002690</td>\n",
       "    </tr>\n",
       "    <tr>\n",
       "      <th>down</th>\n",
       "      <td>0.997760</td>\n",
       "      <td>0.997453</td>\n",
       "      <td>0.997871</td>\n",
       "      <td>0.997574</td>\n",
       "      <td>0.065252</td>\n",
       "      <td>0.417035</td>\n",
       "      <td>-0.048088</td>\n",
       "      <td>-0.007344</td>\n",
       "      <td>0.000331</td>\n",
       "      <td>-0.003846</td>\n",
       "      <td>...</td>\n",
       "      <td>0.004033</td>\n",
       "      <td>0.027955</td>\n",
       "      <td>0.997371</td>\n",
       "      <td>1.000000</td>\n",
       "      <td>0.012625</td>\n",
       "      <td>-0.002035</td>\n",
       "      <td>-0.000972</td>\n",
       "      <td>0.005140</td>\n",
       "      <td>0.858936</td>\n",
       "      <td>-0.002691</td>\n",
       "    </tr>\n",
       "    <tr>\n",
       "      <th>high</th>\n",
       "      <td>0.999853</td>\n",
       "      <td>1.000000</td>\n",
       "      <td>0.999832</td>\n",
       "      <td>0.999896</td>\n",
       "      <td>0.070376</td>\n",
       "      <td>0.433146</td>\n",
       "      <td>-0.040521</td>\n",
       "      <td>-0.005488</td>\n",
       "      <td>0.004093</td>\n",
       "      <td>-0.003778</td>\n",
       "      <td>...</td>\n",
       "      <td>0.018744</td>\n",
       "      <td>0.044697</td>\n",
       "      <td>0.997894</td>\n",
       "      <td>0.997453</td>\n",
       "      <td>0.028503</td>\n",
       "      <td>0.010136</td>\n",
       "      <td>0.015153</td>\n",
       "      <td>0.015036</td>\n",
       "      <td>0.876535</td>\n",
       "      <td>-0.002701</td>\n",
       "    </tr>\n",
       "    <tr>\n",
       "      <th>open</th>\n",
       "      <td>1.000000</td>\n",
       "      <td>0.999853</td>\n",
       "      <td>0.999878</td>\n",
       "      <td>0.999731</td>\n",
       "      <td>0.069282</td>\n",
       "      <td>0.429777</td>\n",
       "      <td>-0.041899</td>\n",
       "      <td>-0.006801</td>\n",
       "      <td>0.003471</td>\n",
       "      <td>-0.003790</td>\n",
       "      <td>...</td>\n",
       "      <td>0.016514</td>\n",
       "      <td>0.042869</td>\n",
       "      <td>0.997836</td>\n",
       "      <td>0.997760</td>\n",
       "      <td>0.026948</td>\n",
       "      <td>0.008235</td>\n",
       "      <td>0.013507</td>\n",
       "      <td>0.001610</td>\n",
       "      <td>0.871337</td>\n",
       "      <td>-0.002781</td>\n",
       "    </tr>\n",
       "    <tr>\n",
       "      <th>流通股本(万股)</th>\n",
       "      <td>0.186648</td>\n",
       "      <td>0.186291</td>\n",
       "      <td>0.186977</td>\n",
       "      <td>0.186607</td>\n",
       "      <td>0.567982</td>\n",
       "      <td>0.332313</td>\n",
       "      <td>-0.117960</td>\n",
       "      <td>-0.007085</td>\n",
       "      <td>-0.078500</td>\n",
       "      <td>-0.007835</td>\n",
       "      <td>...</td>\n",
       "      <td>-0.011050</td>\n",
       "      <td>-0.013093</td>\n",
       "      <td>0.186033</td>\n",
       "      <td>0.188628</td>\n",
       "      <td>-0.012693</td>\n",
       "      <td>-0.006731</td>\n",
       "      <td>-0.009172</td>\n",
       "      <td>0.000678</td>\n",
       "      <td>0.144462</td>\n",
       "      <td>-0.002911</td>\n",
       "    </tr>\n",
       "    <tr>\n",
       "      <th>high-l</th>\n",
       "      <td>0.871337</td>\n",
       "      <td>0.876535</td>\n",
       "      <td>0.867567</td>\n",
       "      <td>0.872661</td>\n",
       "      <td>0.103220</td>\n",
       "      <td>0.520673</td>\n",
       "      <td>0.020307</td>\n",
       "      <td>0.039641</td>\n",
       "      <td>0.032747</td>\n",
       "      <td>-0.002832</td>\n",
       "      <td>...</td>\n",
       "      <td>0.042053</td>\n",
       "      <td>0.082214</td>\n",
       "      <td>0.877082</td>\n",
       "      <td>0.858936</td>\n",
       "      <td>0.073110</td>\n",
       "      <td>0.032832</td>\n",
       "      <td>0.044950</td>\n",
       "      <td>0.068582</td>\n",
       "      <td>1.000000</td>\n",
       "      <td>-0.003159</td>\n",
       "    </tr>\n",
       "    <tr>\n",
       "      <th>市盈率(静态)</th>\n",
       "      <td>0.003471</td>\n",
       "      <td>0.004093</td>\n",
       "      <td>0.002982</td>\n",
       "      <td>0.003616</td>\n",
       "      <td>0.007156</td>\n",
       "      <td>0.090434</td>\n",
       "      <td>0.123022</td>\n",
       "      <td>0.003462</td>\n",
       "      <td>1.000000</td>\n",
       "      <td>0.068595</td>\n",
       "      <td>...</td>\n",
       "      <td>0.041311</td>\n",
       "      <td>0.087843</td>\n",
       "      <td>0.004395</td>\n",
       "      <td>0.000331</td>\n",
       "      <td>0.096796</td>\n",
       "      <td>0.041162</td>\n",
       "      <td>0.057836</td>\n",
       "      <td>0.006326</td>\n",
       "      <td>0.032747</td>\n",
       "      <td>-0.003174</td>\n",
       "    </tr>\n",
       "    <tr>\n",
       "      <th>市销率(TTM)</th>\n",
       "      <td>0.017226</td>\n",
       "      <td>0.017424</td>\n",
       "      <td>0.017081</td>\n",
       "      <td>0.017280</td>\n",
       "      <td>-0.005195</td>\n",
       "      <td>0.019108</td>\n",
       "      <td>0.009917</td>\n",
       "      <td>0.000427</td>\n",
       "      <td>0.043696</td>\n",
       "      <td>0.005765</td>\n",
       "      <td>...</td>\n",
       "      <td>-0.001689</td>\n",
       "      <td>0.002847</td>\n",
       "      <td>0.017525</td>\n",
       "      <td>0.016314</td>\n",
       "      <td>0.010450</td>\n",
       "      <td>0.003877</td>\n",
       "      <td>0.005801</td>\n",
       "      <td>0.002572</td>\n",
       "      <td>0.024195</td>\n",
       "      <td>-0.003304</td>\n",
       "    </tr>\n",
       "    <tr>\n",
       "      <th>MACD_y</th>\n",
       "      <td>0.123004</td>\n",
       "      <td>0.124033</td>\n",
       "      <td>0.121631</td>\n",
       "      <td>0.122960</td>\n",
       "      <td>0.035608</td>\n",
       "      <td>0.134428</td>\n",
       "      <td>0.053387</td>\n",
       "      <td>-0.008929</td>\n",
       "      <td>0.036979</td>\n",
       "      <td>0.000445</td>\n",
       "      <td>...</td>\n",
       "      <td>0.099579</td>\n",
       "      <td>0.246860</td>\n",
       "      <td>0.095510</td>\n",
       "      <td>0.089001</td>\n",
       "      <td>0.266537</td>\n",
       "      <td>0.038280</td>\n",
       "      <td>0.111081</td>\n",
       "      <td>-0.000266</td>\n",
       "      <td>0.171240</td>\n",
       "      <td>-0.003339</td>\n",
       "    </tr>\n",
       "    <tr>\n",
       "      <th>总股本(万股)</th>\n",
       "      <td>0.180834</td>\n",
       "      <td>0.180482</td>\n",
       "      <td>0.181148</td>\n",
       "      <td>0.180788</td>\n",
       "      <td>0.549382</td>\n",
       "      <td>0.328206</td>\n",
       "      <td>-0.117436</td>\n",
       "      <td>-0.007130</td>\n",
       "      <td>-0.082414</td>\n",
       "      <td>-0.006091</td>\n",
       "      <td>...</td>\n",
       "      <td>-0.013469</td>\n",
       "      <td>-0.017619</td>\n",
       "      <td>0.180290</td>\n",
       "      <td>0.182842</td>\n",
       "      <td>-0.016038</td>\n",
       "      <td>-0.008268</td>\n",
       "      <td>-0.011244</td>\n",
       "      <td>0.000416</td>\n",
       "      <td>0.139896</td>\n",
       "      <td>-0.003693</td>\n",
       "    </tr>\n",
       "    <tr>\n",
       "      <th>MACD_x</th>\n",
       "      <td>0.116551</td>\n",
       "      <td>0.118230</td>\n",
       "      <td>0.115920</td>\n",
       "      <td>0.117618</td>\n",
       "      <td>0.041626</td>\n",
       "      <td>0.139980</td>\n",
       "      <td>0.060334</td>\n",
       "      <td>-0.002692</td>\n",
       "      <td>0.034791</td>\n",
       "      <td>0.000470</td>\n",
       "      <td>...</td>\n",
       "      <td>0.161441</td>\n",
       "      <td>0.275209</td>\n",
       "      <td>0.077082</td>\n",
       "      <td>0.071742</td>\n",
       "      <td>0.277114</td>\n",
       "      <td>0.098600</td>\n",
       "      <td>0.181871</td>\n",
       "      <td>0.047550</td>\n",
       "      <td>0.163784</td>\n",
       "      <td>-0.003733</td>\n",
       "    </tr>\n",
       "    <tr>\n",
       "      <th>流通市值(万元)</th>\n",
       "      <td>0.625955</td>\n",
       "      <td>0.626673</td>\n",
       "      <td>0.625600</td>\n",
       "      <td>0.626344</td>\n",
       "      <td>0.210309</td>\n",
       "      <td>0.629890</td>\n",
       "      <td>-0.081711</td>\n",
       "      <td>-0.009037</td>\n",
       "      <td>0.000442</td>\n",
       "      <td>-0.005316</td>\n",
       "      <td>...</td>\n",
       "      <td>0.023288</td>\n",
       "      <td>0.054987</td>\n",
       "      <td>0.626383</td>\n",
       "      <td>0.622082</td>\n",
       "      <td>0.034744</td>\n",
       "      <td>0.013157</td>\n",
       "      <td>0.018590</td>\n",
       "      <td>0.025058</td>\n",
       "      <td>0.574701</td>\n",
       "      <td>-0.003741</td>\n",
       "    </tr>\n",
       "    <tr>\n",
       "      <th>总市值(万元)</th>\n",
       "      <td>0.584770</td>\n",
       "      <td>0.585517</td>\n",
       "      <td>0.584357</td>\n",
       "      <td>0.585136</td>\n",
       "      <td>0.195478</td>\n",
       "      <td>0.656427</td>\n",
       "      <td>-0.074816</td>\n",
       "      <td>-0.009252</td>\n",
       "      <td>0.014539</td>\n",
       "      <td>-0.004445</td>\n",
       "      <td>...</td>\n",
       "      <td>0.024326</td>\n",
       "      <td>0.057995</td>\n",
       "      <td>0.585388</td>\n",
       "      <td>0.580893</td>\n",
       "      <td>0.038219</td>\n",
       "      <td>0.014363</td>\n",
       "      <td>0.020391</td>\n",
       "      <td>0.023509</td>\n",
       "      <td>0.541124</td>\n",
       "      <td>-0.004083</td>\n",
       "    </tr>\n",
       "    <tr>\n",
       "      <th>市销率</th>\n",
       "      <td>0.048711</td>\n",
       "      <td>0.049237</td>\n",
       "      <td>0.048312</td>\n",
       "      <td>0.048835</td>\n",
       "      <td>-0.009367</td>\n",
       "      <td>0.061859</td>\n",
       "      <td>0.030107</td>\n",
       "      <td>0.000994</td>\n",
       "      <td>0.114168</td>\n",
       "      <td>0.006523</td>\n",
       "      <td>...</td>\n",
       "      <td>0.016031</td>\n",
       "      <td>0.035207</td>\n",
       "      <td>0.049585</td>\n",
       "      <td>0.046316</td>\n",
       "      <td>0.034653</td>\n",
       "      <td>0.015483</td>\n",
       "      <td>0.021917</td>\n",
       "      <td>0.006003</td>\n",
       "      <td>0.067224</td>\n",
       "      <td>-0.004383</td>\n",
       "    </tr>\n",
       "    <tr>\n",
       "      <th>市净率</th>\n",
       "      <td>0.187223</td>\n",
       "      <td>0.188772</td>\n",
       "      <td>0.186007</td>\n",
       "      <td>0.187601</td>\n",
       "      <td>-0.010438</td>\n",
       "      <td>0.258015</td>\n",
       "      <td>0.096361</td>\n",
       "      <td>-0.002607</td>\n",
       "      <td>0.194233</td>\n",
       "      <td>0.011052</td>\n",
       "      <td>...</td>\n",
       "      <td>0.065370</td>\n",
       "      <td>0.142935</td>\n",
       "      <td>0.189402</td>\n",
       "      <td>0.179790</td>\n",
       "      <td>0.131769</td>\n",
       "      <td>0.053552</td>\n",
       "      <td>0.075740</td>\n",
       "      <td>0.018774</td>\n",
       "      <td>0.237258</td>\n",
       "      <td>-0.006275</td>\n",
       "    </tr>\n",
       "    <tr>\n",
       "      <th>return_30</th>\n",
       "      <td>0.026948</td>\n",
       "      <td>0.028503</td>\n",
       "      <td>0.026666</td>\n",
       "      <td>0.028104</td>\n",
       "      <td>0.197277</td>\n",
       "      <td>0.252304</td>\n",
       "      <td>0.402352</td>\n",
       "      <td>0.048775</td>\n",
       "      <td>0.096796</td>\n",
       "      <td>-0.001574</td>\n",
       "      <td>...</td>\n",
       "      <td>0.491441</td>\n",
       "      <td>0.799439</td>\n",
       "      <td>0.019214</td>\n",
       "      <td>0.012625</td>\n",
       "      <td>1.000000</td>\n",
       "      <td>0.394584</td>\n",
       "      <td>0.567529</td>\n",
       "      <td>0.050211</td>\n",
       "      <td>0.073110</td>\n",
       "      <td>-0.007671</td>\n",
       "    </tr>\n",
       "    <tr>\n",
       "      <th>volume</th>\n",
       "      <td>0.069282</td>\n",
       "      <td>0.070376</td>\n",
       "      <td>0.068782</td>\n",
       "      <td>0.069728</td>\n",
       "      <td>1.000000</td>\n",
       "      <td>0.590246</td>\n",
       "      <td>0.291791</td>\n",
       "      <td>0.126709</td>\n",
       "      <td>0.007156</td>\n",
       "      <td>0.000049</td>\n",
       "      <td>...</td>\n",
       "      <td>0.132404</td>\n",
       "      <td>0.186115</td>\n",
       "      <td>0.069726</td>\n",
       "      <td>0.065252</td>\n",
       "      <td>0.197277</td>\n",
       "      <td>0.142120</td>\n",
       "      <td>0.169580</td>\n",
       "      <td>0.020167</td>\n",
       "      <td>0.103220</td>\n",
       "      <td>-0.010789</td>\n",
       "    </tr>\n",
       "    <tr>\n",
       "      <th>成交额(千元)</th>\n",
       "      <td>0.429777</td>\n",
       "      <td>0.433146</td>\n",
       "      <td>0.427705</td>\n",
       "      <td>0.430862</td>\n",
       "      <td>0.590246</td>\n",
       "      <td>1.000000</td>\n",
       "      <td>0.283440</td>\n",
       "      <td>0.101805</td>\n",
       "      <td>0.090434</td>\n",
       "      <td>-0.001229</td>\n",
       "      <td>...</td>\n",
       "      <td>0.145176</td>\n",
       "      <td>0.228716</td>\n",
       "      <td>0.433119</td>\n",
       "      <td>0.417035</td>\n",
       "      <td>0.252304</td>\n",
       "      <td>0.152843</td>\n",
       "      <td>0.189296</td>\n",
       "      <td>0.052441</td>\n",
       "      <td>0.520673</td>\n",
       "      <td>-0.011780</td>\n",
       "    </tr>\n",
       "    <tr>\n",
       "      <th>量比</th>\n",
       "      <td>-0.006801</td>\n",
       "      <td>-0.005488</td>\n",
       "      <td>-0.007179</td>\n",
       "      <td>-0.005987</td>\n",
       "      <td>0.126709</td>\n",
       "      <td>0.101805</td>\n",
       "      <td>0.256570</td>\n",
       "      <td>1.000000</td>\n",
       "      <td>0.003462</td>\n",
       "      <td>0.001505</td>\n",
       "      <td>...</td>\n",
       "      <td>0.224125</td>\n",
       "      <td>0.112938</td>\n",
       "      <td>-0.007339</td>\n",
       "      <td>-0.007344</td>\n",
       "      <td>0.048775</td>\n",
       "      <td>0.234986</td>\n",
       "      <td>0.140443</td>\n",
       "      <td>0.034984</td>\n",
       "      <td>0.039641</td>\n",
       "      <td>-0.014275</td>\n",
       "    </tr>\n",
       "    <tr>\n",
       "      <th>换手率(%)</th>\n",
       "      <td>-0.041899</td>\n",
       "      <td>-0.040521</td>\n",
       "      <td>-0.042639</td>\n",
       "      <td>-0.041424</td>\n",
       "      <td>0.291791</td>\n",
       "      <td>0.283440</td>\n",
       "      <td>1.000000</td>\n",
       "      <td>0.256570</td>\n",
       "      <td>0.123022</td>\n",
       "      <td>0.011780</td>\n",
       "      <td>...</td>\n",
       "      <td>0.254396</td>\n",
       "      <td>0.354580</td>\n",
       "      <td>-0.041216</td>\n",
       "      <td>-0.048088</td>\n",
       "      <td>0.402352</td>\n",
       "      <td>0.291029</td>\n",
       "      <td>0.350873</td>\n",
       "      <td>0.019925</td>\n",
       "      <td>0.020307</td>\n",
       "      <td>-0.030243</td>\n",
       "    </tr>\n",
       "  </tbody>\n",
       "</table>\n",
       "<p>37 rows × 37 columns</p>\n",
       "</div>"
      ],
      "text/plain": [
       "                 open      high       low     close    volume   成交额(千元)  \\\n",
       "return_s1   -0.002781 -0.002701 -0.002671 -0.002690 -0.010789 -0.011780   \n",
       "rsi_6        0.016514  0.018744  0.017765  0.019651  0.132404  0.145176   \n",
       "return_5     0.008235  0.010136  0.009223  0.010894  0.142120  0.152843   \n",
       "股息率(%)       0.025713  0.025004  0.026291  0.025584 -0.015134 -0.084152   \n",
       "return_10    0.013507  0.015153  0.013945  0.015370  0.169580  0.189296   \n",
       "close-o      0.001610  0.015036  0.012924  0.024808  0.020167  0.052441   \n",
       "股息率(TTM)(%)  0.024797  0.024083  0.025357  0.024658 -0.012740 -0.079034   \n",
       "市盈率(TTM)    -0.003790 -0.003778 -0.003795 -0.003784  0.000049 -0.001229   \n",
       "市盈率(动态)     -0.006395 -0.006164 -0.006569 -0.006343 -0.004149  0.022648   \n",
       "dong10       0.056435  0.060502  0.059289  0.062556  0.038306  0.097396   \n",
       "rsi_24       0.042869  0.044697  0.043051  0.044669  0.186115  0.228716   \n",
       "MACD_z       0.003197  0.005487  0.005313  0.006759  0.026259  0.043987   \n",
       "b_high       0.997486  0.997522  0.997255  0.997311  0.069426  0.432747   \n",
       "SMA20_close  0.998256  0.998108  0.998190  0.998055  0.067122  0.424657   \n",
       "b_low        0.996973  0.996610  0.997098  0.996741  0.064283  0.414273   \n",
       "up           0.997836  0.997894  0.997635  0.997707  0.069726  0.433119   \n",
       "low          0.999878  0.999832  1.000000  0.999872  0.068782  0.427705   \n",
       "close        0.999731  0.999896  0.999872  1.000000  0.069728  0.430862   \n",
       "down         0.997760  0.997453  0.997871  0.997574  0.065252  0.417035   \n",
       "high         0.999853  1.000000  0.999832  0.999896  0.070376  0.433146   \n",
       "open         1.000000  0.999853  0.999878  0.999731  0.069282  0.429777   \n",
       "流通股本(万股)     0.186648  0.186291  0.186977  0.186607  0.567982  0.332313   \n",
       "high-l       0.871337  0.876535  0.867567  0.872661  0.103220  0.520673   \n",
       "市盈率(静态)      0.003471  0.004093  0.002982  0.003616  0.007156  0.090434   \n",
       "市销率(TTM)     0.017226  0.017424  0.017081  0.017280 -0.005195  0.019108   \n",
       "MACD_y       0.123004  0.124033  0.121631  0.122960  0.035608  0.134428   \n",
       "总股本(万股)      0.180834  0.180482  0.181148  0.180788  0.549382  0.328206   \n",
       "MACD_x       0.116551  0.118230  0.115920  0.117618  0.041626  0.139980   \n",
       "流通市值(万元)     0.625955  0.626673  0.625600  0.626344  0.210309  0.629890   \n",
       "总市值(万元)      0.584770  0.585517  0.584357  0.585136  0.195478  0.656427   \n",
       "市销率          0.048711  0.049237  0.048312  0.048835 -0.009367  0.061859   \n",
       "市净率          0.187223  0.188772  0.186007  0.187601 -0.010438  0.258015   \n",
       "return_30    0.026948  0.028503  0.026666  0.028104  0.197277  0.252304   \n",
       "volume       0.069282  0.070376  0.068782  0.069728  1.000000  0.590246   \n",
       "成交额(千元)      0.429777  0.433146  0.427705  0.430862  0.590246  1.000000   \n",
       "量比          -0.006801 -0.005488 -0.007179 -0.005987  0.126709  0.101805   \n",
       "换手率(%)      -0.041899 -0.040521 -0.042639 -0.041424  0.291791  0.283440   \n",
       "\n",
       "               换手率(%)        量比   市盈率(静态)  市盈率(TTM)  ...     rsi_6    rsi_24  \\\n",
       "return_s1   -0.030243 -0.014275 -0.003174 -0.000616  ...  0.012287 -0.001576   \n",
       "rsi_6        0.254396  0.224125  0.041311  0.000531  ...  1.000000  0.768101   \n",
       "return_5     0.291029  0.234986  0.041162  0.001682  ...  0.775536  0.566387   \n",
       "股息率(%)      -0.137976 -0.000943 -0.203916 -0.012941  ... -0.032199 -0.066985   \n",
       "return_10    0.350873  0.140443  0.057836  0.000842  ...  0.765123  0.703014   \n",
       "close-o      0.019925  0.034984  0.006326  0.000228  ...  0.135416  0.078153   \n",
       "股息率(TTM)(%) -0.135914 -0.003163 -0.214485 -0.015713  ... -0.043280 -0.082046   \n",
       "市盈率(TTM)     0.011780  0.001505  0.068595  1.000000  ...  0.000531 -0.000388   \n",
       "市盈率(动态)      0.050468  0.002822  0.199799  0.013479  ...  0.018051  0.033446   \n",
       "dong10       0.050601  0.019326  0.017272  0.000340  ...  0.241366  0.219087   \n",
       "rsi_24       0.354580  0.112938  0.087843 -0.000388  ...  0.768101  1.000000   \n",
       "MACD_z       0.032702  0.018299  0.000167  0.000167  ...  0.218099  0.139088   \n",
       "b_high      -0.041526 -0.007848  0.004438 -0.003782  ...  0.003925  0.031151   \n",
       "SMA20_close -0.045227 -0.007531  0.002298 -0.003820  ...  0.003218  0.028858   \n",
       "b_low       -0.049454 -0.007144 -0.000208 -0.003856  ...  0.002385  0.026116   \n",
       "up          -0.041216 -0.007339  0.004395 -0.003782  ...  0.005206  0.032079   \n",
       "low         -0.042639 -0.007179  0.002982 -0.003795  ...  0.017765  0.043051   \n",
       "close       -0.041424 -0.005987  0.003616 -0.003784  ...  0.019651  0.044669   \n",
       "down        -0.048088 -0.007344  0.000331 -0.003846  ...  0.004033  0.027955   \n",
       "high        -0.040521 -0.005488  0.004093 -0.003778  ...  0.018744  0.044697   \n",
       "open        -0.041899 -0.006801  0.003471 -0.003790  ...  0.016514  0.042869   \n",
       "流通股本(万股)    -0.117960 -0.007085 -0.078500 -0.007835  ... -0.011050 -0.013093   \n",
       "high-l       0.020307  0.039641  0.032747 -0.002832  ...  0.042053  0.082214   \n",
       "市盈率(静态)      0.123022  0.003462  1.000000  0.068595  ...  0.041311  0.087843   \n",
       "市销率(TTM)     0.009917  0.000427  0.043696  0.005765  ... -0.001689  0.002847   \n",
       "MACD_y       0.053387 -0.008929  0.036979  0.000445  ...  0.099579  0.246860   \n",
       "总股本(万股)     -0.117436 -0.007130 -0.082414 -0.006091  ... -0.013469 -0.017619   \n",
       "MACD_x       0.060334 -0.002692  0.034791  0.000470  ...  0.161441  0.275209   \n",
       "流通市值(万元)    -0.081711 -0.009037  0.000442 -0.005316  ...  0.023288  0.054987   \n",
       "总市值(万元)     -0.074816 -0.009252  0.014539 -0.004445  ...  0.024326  0.057995   \n",
       "市销率          0.030107  0.000994  0.114168  0.006523  ...  0.016031  0.035207   \n",
       "市净率          0.096361 -0.002607  0.194233  0.011052  ...  0.065370  0.142935   \n",
       "return_30    0.402352  0.048775  0.096796 -0.001574  ...  0.491441  0.799439   \n",
       "volume       0.291791  0.126709  0.007156  0.000049  ...  0.132404  0.186115   \n",
       "成交额(千元)      0.283440  0.101805  0.090434 -0.001229  ...  0.145176  0.228716   \n",
       "量比           0.256570  1.000000  0.003462  0.001505  ...  0.224125  0.112938   \n",
       "换手率(%)       1.000000  0.256570  0.123022  0.011780  ...  0.254396  0.354580   \n",
       "\n",
       "                   up      down  return_30  return_5  return_10   close-o  \\\n",
       "return_s1   -0.002655 -0.002691  -0.007671  0.008091   0.003990  0.003882   \n",
       "rsi_6        0.005206  0.004033   0.491441  0.775536   0.765123  0.135416   \n",
       "return_5    -0.000401 -0.002035   0.394584  1.000000   0.700945  0.114734   \n",
       "股息率(%)       0.024366  0.029261  -0.063777 -0.029812  -0.041034 -0.005181   \n",
       "return_10    0.002090 -0.000972   0.567529  0.700945   1.000000  0.080467   \n",
       "close-o      0.007611  0.005140   0.050211  0.114734   0.080467  1.000000   \n",
       "股息率(TTM)(%)  0.023466  0.028307  -0.074283 -0.036254  -0.048661 -0.005688   \n",
       "市盈率(TTM)    -0.003782 -0.003846  -0.001574  0.001682   0.000842  0.000228   \n",
       "市盈率(动态)     -0.006166 -0.007625   0.043888  0.021153   0.030090  0.002159   \n",
       "dong10       0.012619  0.011342   0.169959  0.202761   0.289318  0.264635   \n",
       "rsi_24       0.032079  0.027955   0.799439  0.566387   0.703014  0.078153   \n",
       "MACD_z      -0.040622 -0.038130   0.085826  0.201221   0.249019  0.153552   \n",
       "b_high       0.999837  0.996886   0.018881 -0.002157   0.000449  0.005673   \n",
       "SMA20_close  0.999242  0.999210   0.015197 -0.003116  -0.001442  0.004521   \n",
       "b_low        0.996359  0.999739   0.010859 -0.004229  -0.003649  0.003166   \n",
       "up           1.000000  0.997371   0.019214 -0.000401   0.002090  0.007611   \n",
       "low          0.997635  0.997871   0.026666  0.009223   0.013945  0.012924   \n",
       "close        0.997707  0.997574   0.028104  0.010894   0.015370  0.024808   \n",
       "down         0.997371  1.000000   0.012625 -0.002035  -0.000972  0.005140   \n",
       "high         0.997894  0.997453   0.028503  0.010136   0.015153  0.015036   \n",
       "open         0.997836  0.997760   0.026948  0.008235   0.013507  0.001610   \n",
       "流通股本(万股)     0.186033  0.188628  -0.012693 -0.006731  -0.009172  0.000678   \n",
       "high-l       0.877082  0.858936   0.073110  0.032832   0.044950  0.068582   \n",
       "市盈率(静态)      0.004395  0.000331   0.096796  0.041162   0.057836  0.006326   \n",
       "市销率(TTM)     0.017525  0.016314   0.010450  0.003877   0.005801  0.002572   \n",
       "MACD_y       0.095510  0.089001   0.266537  0.038280   0.111081 -0.000266   \n",
       "总股本(万股)      0.180290  0.182842  -0.016038 -0.008268  -0.011244  0.000416   \n",
       "MACD_x       0.077082  0.071742   0.277114  0.098600   0.181871  0.047550   \n",
       "流通市值(万元)     0.626383  0.622082   0.034744  0.013157   0.018590  0.025058   \n",
       "总市值(万元)      0.585388  0.580893   0.038219  0.014363   0.020391  0.023509   \n",
       "市销率          0.049585  0.046316   0.034653  0.015483   0.021917  0.006003   \n",
       "市净率          0.189402  0.179790   0.131769  0.053552   0.075740  0.018774   \n",
       "return_30    0.019214  0.012625   1.000000  0.394584   0.567529  0.050211   \n",
       "volume       0.069726  0.065252   0.197277  0.142120   0.169580  0.020167   \n",
       "成交额(千元)      0.433119  0.417035   0.252304  0.152843   0.189296  0.052441   \n",
       "量比          -0.007339 -0.007344   0.048775  0.234986   0.140443  0.034984   \n",
       "换手率(%)      -0.041216 -0.048088   0.402352  0.291029   0.350873  0.019925   \n",
       "\n",
       "               high-l  return_s1  \n",
       "return_s1   -0.003159   1.000000  \n",
       "rsi_6        0.042053   0.012287  \n",
       "return_5     0.032832   0.008091  \n",
       "股息率(%)      -0.011977   0.006233  \n",
       "return_10    0.044950   0.003990  \n",
       "close-o      0.068582   0.003882  \n",
       "股息率(TTM)(%) -0.012458   0.003668  \n",
       "市盈率(TTM)    -0.002832  -0.000616  \n",
       "市盈率(动态)      0.005257  -0.000868  \n",
       "dong10       0.084648  -0.001090  \n",
       "rsi_24       0.082214  -0.001576  \n",
       "MACD_z       0.009358  -0.001915  \n",
       "b_high       0.876977  -0.002563  \n",
       "SMA20_close  0.868338  -0.002600  \n",
       "b_low        0.856341  -0.002639  \n",
       "up           0.877082  -0.002655  \n",
       "low          0.867567  -0.002671  \n",
       "close        0.872661  -0.002690  \n",
       "down         0.858936  -0.002691  \n",
       "high         0.876535  -0.002701  \n",
       "open         0.871337  -0.002781  \n",
       "流通股本(万股)     0.144462  -0.002911  \n",
       "high-l       1.000000  -0.003159  \n",
       "市盈率(静态)      0.032747  -0.003174  \n",
       "市销率(TTM)     0.024195  -0.003304  \n",
       "MACD_y       0.171240  -0.003339  \n",
       "总股本(万股)      0.139896  -0.003693  \n",
       "MACD_x       0.163784  -0.003733  \n",
       "流通市值(万元)     0.574701  -0.003741  \n",
       "总市值(万元)      0.541124  -0.004083  \n",
       "市销率          0.067224  -0.004383  \n",
       "市净率          0.237258  -0.006275  \n",
       "return_30    0.073110  -0.007671  \n",
       "volume       0.103220  -0.010789  \n",
       "成交额(千元)      0.520673  -0.011780  \n",
       "量比           0.039641  -0.014275  \n",
       "换手率(%)       0.020307  -0.030243  \n",
       "\n",
       "[37 rows x 37 columns]"
      ]
     },
     "execution_count": 90,
     "metadata": {},
     "output_type": "execute_result"
    }
   ],
   "source": [
    "te_corr.sort_values(by='return_s1',ascending=False)"
   ]
  },
  {
   "cell_type": "code",
   "execution_count": null,
   "metadata": {},
   "outputs": [],
   "source": []
  },
  {
   "cell_type": "code",
   "execution_count": 94,
   "metadata": {},
   "outputs": [
    {
     "data": {
      "image/png": "[encoded data removed]",
      "text/plain": [
       "<Figure size 640x480 with 2 Axes>"
      ]
     },
     "metadata": {},
     "output_type": "display_data"
    }
   ],
   "source": [
    "sns.heatmap(te_corr)\n",
    "plt.show()"
   ]
  },
  {
   "cell_type": "code",
   "execution_count": 91,
   "metadata": {},
   "outputs": [
    {
     "data": {
      "image/png": "[encoded data removed]",
      "text/plain": [
       "<Figure size 1000x1000 with 4 Axes>"
      ]
     },
     "metadata": {},
     "output_type": "display_data"
    }
   ],
   "source": [
    "sns.clustermap(te_corr, cmap=sns.diverging_palette(h_neg=20, h_pos=220), center=0)\n",
    "plt.gcf().set_size_inches((10, 10))"
   ]
  },
  {
   "cell_type": "code",
   "execution_count": 92,
   "metadata": {},
   "outputs": [
    {
     "data": {
      "text/plain": [
       "<seaborn.axisgrid.PairGrid at 0x1cd2a0a7310>"
      ]
     },
     "execution_count": 92,
     "metadata": {},
     "output_type": "execute_result"
    },
    {
     "data": {
      "image/png": "[encoded data removed]",
      "text/plain": [
       "<Figure size 750x750 with 12 Axes>"
      ]
     },
     "metadata": {},
     "output_type": "display_data"
    }
   ],
   "source": [
    "g = sns.PairGrid(tezheng.sample(frac=0.05),vars=['return_s1','股息率(%)','市盈率(静态)'])\n",
    "g.map_upper(sns.scatterplot)\n",
    "g.map_lower(sns.kdeplot)\n",
    "g.map_diag(sns.kdeplot)"
   ]
  },
  {
   "cell_type": "code",
   "execution_count": null,
   "metadata": {},
   "outputs": [],
   "source": []
  },
  {
   "cell_type": "code",
   "execution_count": null,
   "metadata": {},
   "outputs": [],
   "source": []
  },
  {
   "cell_type": "code",
   "execution_count": null,
   "metadata": {},
   "outputs": [],
   "source": []
  },
  {
   "cell_type": "code",
   "execution_count": null,
   "metadata": {},
   "outputs": [],
   "source": []
  },
  {
   "cell_type": "markdown",
   "metadata": {},
   "source": []
  }
 ],
 "metadata": {
  "kernelspec": {
   "display_name": "quant",
   "language": "python",
   "name": "python3"
  },
  "language_info": {
   "codemirror_mode": {
    "name": "ipython",
    "version": 3
   },
   "file_extension": ".py",
   "mimetype": "text/x-python",
   "name": "python",
   "nbconvert_exporter": "python",
   "pygments_lexer": "ipython3",
   "version": "3.11.11"
  }
 },
 "nbformat": 4,
 "nbformat_minor": 2
}
